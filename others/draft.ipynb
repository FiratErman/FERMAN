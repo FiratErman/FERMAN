{
 "cells": [
  {
   "cell_type": "code",
   "execution_count": 1,
   "metadata": {},
   "outputs": [],
   "source": [
    "### 2d array"
   ]
  },
  {
   "cell_type": "code",
   "execution_count": 48,
   "metadata": {},
   "outputs": [],
   "source": [
    "\n",
    "arr=[\n",
    "  [ 1, 6, 8, 0, 0, 0 ],\n",
    "  [ 0, 4, 0, 0, 5, 0 ],\n",
    "  [ 7, 9, 3, 0, 1, 0 ],\n",
    "  [ 0, 0, 2, 4, 4, 0 ],\n",
    "  [ 0, 0, 0, 2, 0, 0 ],\n",
    "  [ 0, 0, 1, 2, 4, 0 ]\n",
    "]"
   ]
  },
  {
   "cell_type": "code",
   "execution_count": 53,
   "metadata": {},
   "outputs": [
    {
     "name": "stdout",
     "output_type": "stream",
     "text": [
      "[38, 26, 12, 6, 15, 13, 15, 14, 19, 16, 10, 7, 3, 9, 19, 14]\n",
      "38\n"
     ]
    }
   ],
   "source": [
    "list_sum = []\n",
    "for i in range(0,4):\n",
    "    for j in range(0,4):\n",
    "        first_row = arr[i][j] + arr[i][j+1] +  arr[i][j+2] \n",
    "        second_row =  arr[i+1][j+1]\n",
    "        third_row = arr[i+2][j] + arr[i+2][j+1] +  arr[i+2][j+2]\n",
    "        sum_arrays = first_row + second_row + third_row \n",
    "        list_sum.append(sum_arrays)\n",
    "\n",
    "print(list_sum)\n",
    "print(max(list_sum))"
   ]
  },
  {
   "cell_type": "code",
   "execution_count": 108,
   "metadata": {},
   "outputs": [
    {
     "name": "stdout",
     "output_type": "stream",
     "text": [
      "-1\n",
      "-2\n",
      "-3\n"
     ]
    },
    {
     "data": {
      "text/plain": [
       "[3, 2, 1]"
      ]
     },
     "execution_count": 108,
     "metadata": {},
     "output_type": "execute_result"
    }
   ],
   "source": [
    "### Reverse Array\n",
    "\n",
    "list_a = [1,2,3]\n",
    "reversed_list_a = []\n",
    "\n",
    "# for i in range(len(list_a)):\n",
    "#     print(i)\n",
    "#     reversed_list_a.append(list_a[-i])\n",
    "#     print(reversed_list_a)\n",
    "\n",
    "ini=-1\n",
    "listr= []\n",
    "while ini > (len(list_a)*(-1)-1):\n",
    "    print(ini)\n",
    "    listr.append(list_a[ini])\n",
    "    ini -= 1\n",
    "\n",
    "listr\n",
    "\n"
   ]
  },
  {
   "cell_type": "code",
   "execution_count": 128,
   "metadata": {},
   "outputs": [
    {
     "data": {
      "text/plain": [
       "[2, 3, 4, 5, 1]"
      ]
     },
     "execution_count": 128,
     "metadata": {},
     "output_type": "execute_result"
    }
   ],
   "source": [
    "### Left Rotation\n",
    "\n",
    "a = [1,2,3,4,5]\n",
    "new_a = []\n",
    "\n",
    "new_a.append(a[1])\n",
    "new_a.append(a[2])\n",
    "new_a.append(a[3])\n",
    "new_a.append(a[4])\n",
    "new_a.append(a[0])\n",
    "\n",
    "\n",
    "\n",
    "new_a"
   ]
  },
  {
   "cell_type": "code",
   "execution_count": 15,
   "metadata": {},
   "outputs": [
    {
     "name": "stdout",
     "output_type": "stream",
     "text": [
      "[2, 3, 4, 5, 1]\n",
      "[3, 4, 5, 1, 2]\n"
     ]
    }
   ],
   "source": [
    "# This works but timeout in the website\n",
    "\n",
    "a = [1,2,3,4,5]\n",
    "d = 2\n",
    "z = 1\n",
    "x = d%len(a)\n",
    "while z < x+1:\n",
    "    new_a = []\n",
    "    for i in range(len(a)):\n",
    "        position = 1+i\n",
    "        if position < len(a):\n",
    "            new_a.append(a[position])\n",
    "        else:\n",
    "            new_a.append(a[0]) \n",
    "    a = new_a\n",
    "    z += 1\n",
    "    \n",
    "    print(a)"
   ]
  },
  {
   "cell_type": "code",
   "execution_count": 42,
   "metadata": {},
   "outputs": [
    {
     "name": "stdout",
     "output_type": "stream",
     "text": [
      "final [2, 3, 4, 5, 1]\n"
     ]
    }
   ],
   "source": [
    "#Best solution regarding the timeout\n",
    "list_a = [1,2,3,4,5]\n",
    "d = 2\n",
    "x = d%len(a)\n",
    "list_a = list_a[1:] + list_a[:1]\n",
    "print('final', list_a)\n",
    "\n",
    "    "
   ]
  },
  {
   "cell_type": "code",
   "execution_count": 52,
   "metadata": {},
   "outputs": [
    {
     "name": "stdout",
     "output_type": "stream",
     "text": [
      "2\n"
     ]
    }
   ],
   "source": [
    "### Sparse array\n",
    "output = []\n",
    "for term in queries:\n",
    "    count = 0\n",
    "    for i in range(len(stringList)):\n",
    "        if term == stringList[i]:\n",
    "            print(term)\n",
    "            count += 1\n",
    "    output.append(count)\n",
    "        \n",
    "output"
   ]
  },
  {
   "cell_type": "code",
   "execution_count": 64,
   "metadata": {},
   "outputs": [
    {
     "name": "stdout",
     "output_type": "stream",
     "text": [
      "av\n",
      "av\n",
      "vvc\n"
     ]
    },
    {
     "data": {
      "text/plain": [
       "[2, 1, 0]"
      ]
     },
     "execution_count": 64,
     "metadata": {},
     "output_type": "execute_result"
    }
   ],
   "source": [
    "queries = ['av', 'vvc', 'bb']\n",
    "stringList = ['av', 'av', 'vvc']\n",
    "output = []\n",
    "for term in queries:\n",
    "    count = 0\n",
    "    for i in range(len(stringList)):\n",
    "        if term == stringList[i]:\n",
    "            print(term)\n",
    "            count += 1\n",
    "    output.append(count)\n",
    "\n",
    "output\n",
    "            "
   ]
  },
  {
   "cell_type": "code",
   "execution_count": 86,
   "metadata": {},
   "outputs": [
    {
     "data": {
      "text/plain": [
       "[2, 0]"
      ]
     },
     "execution_count": 86,
     "metadata": {},
     "output_type": "execute_result"
    }
   ],
   "source": [
    "#Compare the triples \n",
    "a = [2,1,5]\n",
    "b = [1,1,2]\n",
    "\n",
    "score_a = 0\n",
    "score_b = 0\n",
    "c= []\n",
    "\n",
    "for i,j in zip(range(len(a)),range(len(b))):\n",
    "    if a[i]>b[j]:\n",
    "        score_a += 1\n",
    "    elif a[i] < b[j]:\n",
    "        score_b += 1\n",
    "c.append(score_a)\n",
    "c.append(score_b)\n",
    "\n",
    "c\n",
    "\n"
   ]
  },
  {
   "cell_type": "code",
   "execution_count": 94,
   "metadata": {},
   "outputs": [
    {
     "data": {
      "text/plain": [
       "6"
      ]
     },
     "execution_count": 94,
     "metadata": {},
     "output_type": "execute_result"
    }
   ],
   "source": [
    "\n",
    "ar = [1,2,3]\n",
    "\n",
    "if len(ar)<10**10 and len(ar)>0:\n",
    "    sum = 0\n",
    "    for i in range(len(ar)):\n",
    "        sum += ar[i]\n",
    "sum"
   ]
  },
  {
   "cell_type": "code",
   "execution_count": 140,
   "metadata": {},
   "outputs": [],
   "source": [
    "arr=[\n",
    "  [ 1, 6, 8],\n",
    "  [ 0, 4, 0],\n",
    "  [ 7, 9, 3]\n",
    "]"
   ]
  },
  {
   "cell_type": "code",
   "execution_count": 132,
   "metadata": {},
   "outputs": [
    {
     "data": {
      "text/plain": [
       "[1, 4, 3]"
      ]
     },
     "execution_count": 132,
     "metadata": {},
     "output_type": "execute_result"
    }
   ],
   "source": [
    "import numpy as np \n",
    "a = [arr[i][i] for i in range(len(arr))]\n",
    "b = [arr[i][~i] for i in range(len(arr))]\n",
    "for i in range(lemn)"
   ]
  },
  {
   "cell_type": "code",
   "execution_count": 139,
   "metadata": {},
   "outputs": [
    {
     "data": {
      "text/plain": [
       "8"
      ]
     },
     "execution_count": 139,
     "metadata": {},
     "output_type": "execute_result"
    }
   ],
   "source": [
    "score_a = 0 \n",
    "score_b = 0\n",
    "for i in range(len(arr)):\n",
    "    score += arr[i][i]\n",
    "for i in range(len(arr)):\n",
    "    score += arr[i][i]\n",
    "\n",
    "\n",
    "score"
   ]
  },
  {
   "cell_type": "code",
   "execution_count": 14,
   "metadata": {},
   "outputs": [
    {
     "data": {
      "text/plain": [
       "4"
      ]
     },
     "execution_count": 14,
     "metadata": {},
     "output_type": "execute_result"
    }
   ],
   "source": [
    "arr=[\n",
    "  [ 1, 6, 8],\n",
    "  [ 0, 4, 5],\n",
    "  [ 7, 9, 3]\n",
    "]\n",
    "\n",
    "arr[~1][~1]\n"
   ]
  },
  {
   "cell_type": "code",
   "execution_count": 16,
   "metadata": {},
   "outputs": [
    {
     "data": {
      "text/plain": [
       "3"
      ]
     },
     "execution_count": 16,
     "metadata": {},
     "output_type": "execute_result"
    }
   ],
   "source": [
    "10//3"
   ]
  },
  {
   "cell_type": "code",
   "execution_count": 17,
   "metadata": {},
   "outputs": [
    {
     "data": {
      "text/plain": [
       "1"
      ]
     },
     "execution_count": 17,
     "metadata": {},
     "output_type": "execute_result"
    }
   ],
   "source": [
    "10%3"
   ]
  },
  {
   "cell_type": "code",
   "execution_count": 18,
   "metadata": {},
   "outputs": [
    {
     "data": {
      "text/plain": [
       "10"
      ]
     },
     "execution_count": 18,
     "metadata": {},
     "output_type": "execute_result"
    }
   ],
   "source": [
    "10%11"
   ]
  },
  {
   "cell_type": "code",
   "execution_count": 19,
   "metadata": {},
   "outputs": [
    {
     "data": {
      "text/plain": [
       "2"
      ]
     },
     "execution_count": 19,
     "metadata": {},
     "output_type": "execute_result"
    }
   ],
   "source": [
    "10%4"
   ]
  },
  {
   "cell_type": "code",
   "execution_count": 8,
   "metadata": {},
   "outputs": [],
   "source": [
    "dp = [[False] * 5 ]"
   ]
  },
  {
   "cell_type": "code",
   "execution_count": 9,
   "metadata": {},
   "outputs": [
    {
     "data": {
      "text/plain": [
       "[[False, False, False, False, False]]"
      ]
     },
     "execution_count": 9,
     "metadata": {},
     "output_type": "execute_result"
    }
   ],
   "source": [
    "dp"
   ]
  },
  {
   "cell_type": "code",
   "execution_count": 22,
   "metadata": {},
   "outputs": [
    {
     "ename": "AttributeError",
     "evalue": "'tuple' object has no attribute 'append'",
     "output_type": "error",
     "traceback": [
      "\u001b[0;31m---------------------------------------------------------------------------\u001b[0m",
      "\u001b[0;31mAttributeError\u001b[0m                            Traceback (most recent call last)",
      "\u001b[0;32m<ipython-input-22-4de3a6ef66ea>\u001b[0m in \u001b[0;36m<module>\u001b[0;34m\u001b[0m\n\u001b[1;32m      1\u001b[0m \u001b[0mchar_set\u001b[0m \u001b[0;34m=\u001b[0m \u001b[0;34m(\u001b[0m\u001b[0;34m)\u001b[0m\u001b[0;34m\u001b[0m\u001b[0;34m\u001b[0m\u001b[0m\n\u001b[0;32m----> 2\u001b[0;31m \u001b[0mchar_set\u001b[0m\u001b[0;34m.\u001b[0m\u001b[0mappend\u001b[0m\u001b[0;34m(\u001b[0m\u001b[0;36m2\u001b[0m\u001b[0;34m)\u001b[0m\u001b[0;34m\u001b[0m\u001b[0;34m\u001b[0m\u001b[0m\n\u001b[0m",
      "\u001b[0;31mAttributeError\u001b[0m: 'tuple' object has no attribute 'append'"
     ]
    }
   ],
   "source": [
    "char_set = ()\n",
    "char_set.append(2)\n"
   ]
  },
  {
   "cell_type": "code",
   "execution_count": 64,
   "metadata": {},
   "outputs": [
    {
     "name": "stdout",
     "output_type": "stream",
     "text": [
      "status 0 0\n",
      "ans 1\n",
      "status 0 1\n",
      "ans 2\n",
      "status 0 2\n",
      "ans 3\n",
      "status 0 3\n",
      "remove a\n",
      "status 1 3\n",
      "ans 3\n",
      "status 1 4\n",
      "ans 4\n",
      "status 1 5\n",
      "ans 5\n",
      "status 1 6\n",
      "ans 6\n",
      "status 1 7\n",
      "ans 7\n"
     ]
    }
   ],
   "source": [
    "s = \"abcadfeg\"\n",
    "char_set = set()\n",
    "i, j, answer = 0, 0, 0\n",
    "while j<len(s):\n",
    "    print(\"status\",i,j)\n",
    "    if s[j] not in char_set:\n",
    "        char_set.add(s[i])\n",
    "        answer = max(answer, j-i+1)\n",
    "        print(\"ans\", answer)\n",
    "        j += 1\n",
    "    else: \n",
    "        print(\"remove\", s[i])\n",
    "        char_set.remove(s[i])\n",
    "        i += 1\n",
    "\n",
    "\n",
    "    \n",
    "\n"
   ]
  },
  {
   "cell_type": "code",
   "execution_count": 53,
   "metadata": {},
   "outputs": [],
   "source": [
    "char_set = set()\n",
    "i, j, ans = 0, 0, 0\n",
    "while j < len(s):\n",
    "    if s[j] not in char_set:\n",
    "        char_set.add(s[j])\n",
    "        ans = max(ans, j - i + 1)\n",
    "        j += 1\n",
    "    else:\n",
    "        char_set.remove(s[i])\n",
    "        i += 1\n"
   ]
  },
  {
   "attachments": {},
   "cell_type": "markdown",
   "metadata": {},
   "source": []
  },
  {
   "cell_type": "code",
   "execution_count": 66,
   "metadata": {},
   "outputs": [
    {
     "data": {
      "text/plain": [
       "1"
      ]
     },
     "execution_count": 66,
     "metadata": {},
     "output_type": "execute_result"
    }
   ],
   "source": [
    "11%2"
   ]
  },
  {
   "cell_type": "code",
   "execution_count": 44,
   "metadata": {},
   "outputs": [],
   "source": [
    "char_set = set()\n",
    "s = \"abcabcbb\"\n",
    "\n",
    "if s[j] not in char_set:\n",
    "    char_set.add(s[j])"
   ]
  },
  {
   "cell_type": "code",
   "execution_count": 45,
   "metadata": {},
   "outputs": [
    {
     "data": {
      "text/plain": [
       "{'a'}"
      ]
     },
     "execution_count": 45,
     "metadata": {},
     "output_type": "execute_result"
    }
   ],
   "source": [
    "char_set"
   ]
  },
  {
   "cell_type": "code",
   "execution_count": 48,
   "metadata": {},
   "outputs": [],
   "source": [
    "char_set = set()"
   ]
  },
  {
   "cell_type": "code",
   "execution_count": 49,
   "metadata": {},
   "outputs": [],
   "source": [
    "char_set.add('a')"
   ]
  },
  {
   "cell_type": "code",
   "execution_count": 37,
   "metadata": {},
   "outputs": [
    {
     "name": "stdout",
     "output_type": "stream",
     "text": [
      "yu\n",
      "[[True, False, False, False, False], [False, True, True, False, False], [False, False, True, False, False], [False, False, False, True, False], [False, False, False, False, True]]\n",
      "k 3 i 0\n",
      "j 2\n",
      "k 3 i 1\n",
      "j 3\n",
      "k 3 i 2\n",
      "j 4\n",
      "k 4 i 0\n",
      "j 3\n",
      "k 4 i 1\n",
      "j 4\n",
      "k 5 i 0\n",
      "j 4\n",
      "abba\n"
     ]
    }
   ],
   "source": [
    "s = 'abbab'\n",
    "   \n",
    "n = len(s)\n",
    "dp = [[False] * n for _ in range(n)]\n",
    "for i in range(n):\n",
    "    dp[i][i] = True\n",
    "start = 0\n",
    "max_length = 1\n",
    "# Check for substrings of length 2\n",
    "for i in range(n - 1):\n",
    "    if s[i] == s[i + 1]:\n",
    "        print(\"yu\")\n",
    "        dp[i][i + 1] = True\n",
    "        start = i\n",
    "        max_length = 2\n",
    "        print(dp)\n",
    "for k in range(3, n + 1):\n",
    "    for i in range(n - k + 1):\n",
    "        print(\"k\",k,\"i\",i)\n",
    "        j = i + k - 1\n",
    "        print(\"j\", j)\n",
    "        if dp[i + 1][j - 1] and s[i] == s[j]:\n",
    "            dp[i][j] = True\n",
    "            if k > max_length:\n",
    "                start = i\n",
    "                max_length = k\n",
    "print (s[start:start + max_length]\n",
    ")"
   ]
  },
  {
   "cell_type": "code",
   "execution_count": 38,
   "metadata": {},
   "outputs": [
    {
     "name": "stdout",
     "output_type": "stream",
     "text": [
      "1 {'a'}\n",
      "2 {'b', 'a'}\n",
      "3 {'c', 'b', 'a'}\n",
      "hi 3 {'c', 'b'}\n",
      "3 {'c', 'b', 'a'}\n",
      "4 {'c', 'd', 'b', 'a'}\n",
      "5 {'c', 'r', 'b', 'a', 'd'}\n",
      "6 {'c', 'r', 'b', 't', 'a', 'd'}\n"
     ]
    }
   ],
   "source": [
    "s = 'abcadrt'\n",
    "\n",
    "char_set = set()\n",
    "i, j, ans = 0, 0, 0\n",
    "while j < len(s):\n",
    "    if s[j] not in char_set:\n",
    "        char_set.add(s[j])\n",
    "        ans = max(ans, j - i + 1)\n",
    "        print(ans, char_set)\n",
    "        j += 1\n",
    "    else:\n",
    "        char_set.remove(s[i])\n",
    "        i += 1\n",
    "        print('hi', ans, char_set)\n",
    "\n",
    "\n"
   ]
  },
  {
   "cell_type": "code",
   "execution_count": 21,
   "metadata": {},
   "outputs": [
    {
     "name": "stdout",
     "output_type": "stream",
     "text": [
      "add a {'a'} 1\n",
      "add b {'a', 'b'} 2\n",
      "add c {'a', 'b', 'c'} 3\n",
      "add d {'a', 'd', 'b', 'c'} 4\n",
      "remove a {'d', 'b', 'c'} 4\n",
      "remove b {'d', 'c'} 4\n",
      "add b {'d', 'b', 'c'} 4\n",
      "add f {'b', 'd', 'f', 'c'} 4\n"
     ]
    },
    {
     "data": {
      "text/plain": [
       "4"
      ]
     },
     "execution_count": 21,
     "metadata": {},
     "output_type": "execute_result"
    }
   ],
   "source": [
    "s = 'abcdbf'\n",
    "\n",
    "\n",
    "i, j, m = 0, 0, 0\n",
    "char_set = set()\n",
    "\n",
    "while j<len(s):\n",
    "    if s[j] not in char_set:\n",
    "        char_set.add(s[j])\n",
    "        m = max(m, j-i+1)\n",
    "        print(\"add\", s[j], char_set, m)\n",
    "        j += 1\n",
    "    else:\n",
    "        char_set.remove(s[i])\n",
    "        print(\"remove\", s[i], char_set, m)\n",
    "        i += 1\n",
    "\n",
    "m\n"
   ]
  },
  {
   "cell_type": "code",
   "execution_count": 42,
   "metadata": {},
   "outputs": [
    {
     "name": "stdout",
     "output_type": "stream",
     "text": [
      "ok 3.0\n"
     ]
    }
   ],
   "source": [
    "nums1 = [1,3]\n",
    "nums2 = [2,3]\n",
    "nums = nums1 + nums2\n",
    "nums.sort()\n",
    "\n",
    "if len(nums)%2==0:\n",
    "    mediane = (nums[len(nums)//2] + nums[(len(nums)//2)+1])/2\n",
    "    print(\"ok\",mediane)\n",
    "else:\n",
    "    mediane = nums[len(nums)//2]\n",
    "    print(\"_d\", mediane)\n"
   ]
  },
  {
   "cell_type": "code",
   "execution_count": 48,
   "metadata": {},
   "outputs": [
    {
     "data": {
      "text/plain": [
       "[[True, False, False, False, False],\n",
       " [False, True, False, False, False],\n",
       " [False, False, True, False, False],\n",
       " [False, False, False, True, False],\n",
       " [False, False, False, False, True]]"
      ]
     },
     "execution_count": 48,
     "metadata": {},
     "output_type": "execute_result"
    }
   ],
   "source": [
    "s = \"babad\"\n",
    "n = len(s)\n",
    "dp = [[False] * n for i in range(n)]\n",
    "dp\n",
    "\n",
    "for i in range(5):\n",
    "    dp[i][i] = True\n",
    "\n",
    "dp\n",
    "\n",
    "# k=3\n",
    "# i=0\n",
    "# j= 2\n",
    "# if dp[1][1] and s[0] == s[2]:\n",
    "#     dp[0][2] = True \n",
    "\n",
    "start=0\n",
    "max_length = 3 \n",
    "[[True, False, True, False, False],\n",
    " [False, True, False, False, False],\n",
    " [False, False, True, False, False],\n",
    " [False, False, False, True, False],\n",
    " [False, False, False, False, True]]\n",
    "\n",
    "\n",
    "# k=3\n",
    "# i=1\n",
    "# j= 3\n",
    "# if dp[2][2] and s[1] == s[3]:\n",
    "#     dp[1][3] = True \n",
    "\n",
    "start=0\n",
    "max_length = 3 \n",
    "[[True, False, True, False, False],\n",
    " [False, True, False, True, False],\n",
    " [False, False, True, False, False],\n",
    " [False, False, False, True, False],\n",
    " [False, False, False, False, True]]"
   ]
  },
  {
   "cell_type": "code",
   "execution_count": 50,
   "metadata": {},
   "outputs": [
    {
     "name": "stdout",
     "output_type": "stream",
     "text": [
      "step1 [[True, False, False, False, False], [False, True, False, False, False], [False, False, True, False, False], [False, False, False, True, False], [False, False, False, False, True]]\n",
      "step2: i 3\n",
      "step2 dp [[True, False, False, False, False], [False, True, False, False, False], [False, False, True, False, False], [False, False, False, True, False], [False, False, False, False, True]]\n",
      "k: 3 i: 0 j: 2\n",
      "step dp [[True, False, True, False, False], [False, True, False, False, False], [False, False, True, False, False], [False, False, False, True, False], [False, False, False, False, True]]\n",
      "k: 3 i: 1 j: 3\n",
      "step dp [[True, False, True, False, False], [False, True, False, True, False], [False, False, True, False, False], [False, False, False, True, False], [False, False, False, False, True]]\n",
      "k: 3 i: 2 j: 4\n",
      "step dp [[True, False, True, False, False], [False, True, False, True, False], [False, False, True, False, False], [False, False, False, True, False], [False, False, False, False, True]]\n",
      "k: 4 i: 0 j: 3\n",
      "step dp [[True, False, True, False, False], [False, True, False, True, False], [False, False, True, False, False], [False, False, False, True, False], [False, False, False, False, True]]\n",
      "k: 4 i: 1 j: 4\n",
      "step dp [[True, False, True, False, False], [False, True, False, True, False], [False, False, True, False, False], [False, False, False, True, False], [False, False, False, False, True]]\n",
      "k: 5 i: 0 j: 4\n",
      "step dp [[True, False, True, False, False], [False, True, False, True, False], [False, False, True, False, False], [False, False, False, True, False], [False, False, False, False, True]]\n"
     ]
    }
   ],
   "source": [
    "s = \"babad\"\n",
    "n = len(s)\n",
    "dp = [[False] * n for i in range(n)]\n",
    "\n",
    "for i in range(n):\n",
    "    dp[i][i] = True\n",
    "start = 0\n",
    "max_length = 1\n",
    "print(\"step1\", dp)\n",
    "# Check for substrings of length 2\n",
    "for i in range(n - 1):\n",
    "    if s[i] == s[i + 1]:\n",
    "        dp[i][i + 1] = True\n",
    "        start = i\n",
    "        max_length = 2\n",
    "print(\"step2: i\", i)\n",
    "print(\"step2 dp\", dp)\n",
    "# Check for substrings of length 3 and greater\n",
    "for k in range(3, n + 1):\n",
    "    for i in range(n - k + 1):\n",
    "        j = i + k - 1\n",
    "        if dp[i + 1][j - 1] and s[i] == s[j]:\n",
    "            dp[i][j] = True\n",
    "            if k > max_length:\n",
    "                start = i\n",
    "                max_length = k\n",
    "        print(\"k:\", k, \"i:\", i, \"j:\", j)\n",
    "        print(\"step dp\", dp)"
   ]
  },
  {
   "cell_type": "code",
   "execution_count": 27,
   "metadata": {},
   "outputs": [
    {
     "data": {
      "text/plain": [
       "[1, 2, 3, 4, 6]"
      ]
     },
     "execution_count": 27,
     "metadata": {},
     "output_type": "execute_result"
    }
   ],
   "source": [
    "nums = [1,1,2,6,4,4,3,2,1]\n",
    "cache = []\n",
    "None_list = []\n",
    "for i in range(len(nums)):\n",
    "    if nums[i] in cache:\n",
    "        None_list.append(\"None\")\n",
    "    else:\n",
    "        cache.append(nums[i])\n",
    "        cache.sort()\n",
    "\n",
    "#cache = cache.sort()\n",
    "#a = cache + None_list\n",
    "cache"
   ]
  },
  {
   "cell_type": "code",
   "execution_count": 53,
   "metadata": {},
   "outputs": [
    {
     "data": {
      "text/plain": [
       "[1, 2]"
      ]
     },
     "execution_count": 53,
     "metadata": {},
     "output_type": "execute_result"
    }
   ],
   "source": [
    "nums = [1,1,2]\n",
    "cache = []\n",
    "None_list = []\n",
    "for i in range(len(nums)):\n",
    "    if nums[i] in cache:\n",
    "        None_list.append(\"None\")\n",
    "    else:\n",
    "        cache.append(nums[i])\n",
    "        cache.sort()\n",
    "nums = cache\n",
    "\n",
    "nums"
   ]
  },
  {
   "cell_type": "code",
   "execution_count": 59,
   "metadata": {},
   "outputs": [
    {
     "data": {
      "text/plain": [
       "[1, 3, 2, 3]"
      ]
     },
     "execution_count": 59,
     "metadata": {},
     "output_type": "execute_result"
    }
   ],
   "source": [
    "nums = [1,1,2,3]\n",
    "nums[1] = nums[3]\n",
    "nums\n",
    "            "
   ]
  },
  {
   "cell_type": "code",
   "execution_count": 17,
   "metadata": {},
   "outputs": [
    {
     "name": "stdout",
     "output_type": "stream",
     "text": [
      "7 1\n",
      "buy\n",
      "1\n",
      "1 5\n",
      "sell i 1\n",
      "5 3\n",
      "buy\n",
      "3\n",
      "3 6\n",
      "sell i 3\n",
      "6 4\n",
      "buy\n",
      "4\n"
     ]
    },
    {
     "data": {
      "text/plain": [
       "[4, 3]"
      ]
     },
     "execution_count": 17,
     "metadata": {},
     "output_type": "execute_result"
    }
   ],
   "source": [
    "prices = [7,1,5,3,6,4]\n",
    "buy = 0\n",
    "sell = 0\n",
    "profit = []\n",
    "i=0\n",
    "for j in range(1,len(prices)):\n",
    "    print(prices[i],prices[j])\n",
    "    if prices[j]<prices[i]:\n",
    "        print(\"buy\")\n",
    "        buy = prices[j]\n",
    "        i += 1\n",
    "        print(buy)\n",
    "    else:\n",
    "        print(\"sell\", 'i', i)\n",
    "        sell = prices[j]\n",
    "        profit.append(sell-buy)\n",
    "        i += 1\n",
    "\n",
    "profit\n",
    "\n"
   ]
  },
  {
   "cell_type": "code",
   "execution_count": 20,
   "metadata": {},
   "outputs": [
    {
     "data": {
      "text/plain": [
       "4"
      ]
     },
     "execution_count": 20,
     "metadata": {},
     "output_type": "execute_result"
    }
   ],
   "source": [
    "prices = [1,2,3,4,5]\n",
    "profit = 0\n",
    "for j in range(1,len(prices)):\n",
    "    diff = prices[i] - prices[i-1]\n",
    "    if diff > 0:\n",
    "        profit += diff \n",
    "profit\n"
   ]
  },
  {
   "cell_type": "code",
   "execution_count": 78,
   "metadata": {},
   "outputs": [
    {
     "name": "stdout",
     "output_type": "stream",
     "text": [
      "[1, 2, 3, 4]\n",
      "[5, 6, 7]\n"
     ]
    },
    {
     "data": {
      "text/plain": [
       "[5, 6, 7, 1, 2, 3, 4]"
      ]
     },
     "execution_count": 78,
     "metadata": {},
     "output_type": "execute_result"
    }
   ],
   "source": [
    "nums = [1,2,3,4,5,6,7]\n",
    "k=3\n",
    "new_k = k%len(nums)\n",
    "print(nums[:-new_k])\n",
    "print(nums[-new_k:])\n",
    "nums[:] = nums[-new_k:] + nums[:-new_k] \n",
    "nums"
   ]
  },
  {
   "cell_type": "code",
   "execution_count": 20,
   "metadata": {},
   "outputs": [
    {
     "data": {
      "text/plain": [
       "[2, 2]"
      ]
     },
     "execution_count": 20,
     "metadata": {},
     "output_type": "execute_result"
    }
   ],
   "source": [
    "nums1 = [2,2]\n",
    "nums2 = [1,2,2,3]\n",
    "cache = []\n",
    "for i in range(len(nums1)):\n",
    "    for j in range(len(nums2)):\n",
    "        if nums1[i]==nums2[j]:\n",
    "            cache.append(nums1[i])\n",
    "            nums2[j]=None\n",
    "            break\n",
    "cache\n"
   ]
  },
  {
   "cell_type": "code",
   "execution_count": 23,
   "metadata": {},
   "outputs": [
    {
     "data": {
      "text/plain": [
       "[None, None]"
      ]
     },
     "execution_count": 23,
     "metadata": {},
     "output_type": "execute_result"
    }
   ],
   "source": [
    "nums1 = [1,2,2,1]\n",
    "nums2 = [2,2]\n",
    "cache = []\n",
    "for i in range(len(nums1)):\n",
    "    for j in range(len(nums2)):\n",
    "        if nums1[i]==nums2[j]:\n",
    "            cache.append(nums1[i])\n",
    "            nums2[j]=None\n",
    "            break\n",
    "cache\n",
    "nums2"
   ]
  },
  {
   "cell_type": "code",
   "execution_count": 48,
   "metadata": {},
   "outputs": [
    {
     "data": {
      "text/plain": [
       "[1, 2, 4]"
      ]
     },
     "execution_count": 48,
     "metadata": {},
     "output_type": "execute_result"
    }
   ],
   "source": [
    "digits = [1,2,3]\n",
    "\n",
    "if digits[-1]==9:\n",
    "    if len(digits)==1:\n",
    "        digits.append(digits[0])\n",
    "        digits[-1]=0\n",
    "        digits[0]=1\n",
    "    else:\n",
    "        digits[-2]=digits[-2]+1\n",
    "        digits[-1]=0\n",
    "else:\n",
    "    digits[-1]=digits[-1]+1\n",
    "\n",
    "digits"
   ]
  },
  {
   "cell_type": "code",
   "execution_count": 6,
   "metadata": {},
   "outputs": [
    {
     "name": "stdout",
     "output_type": "stream",
     "text": [
      "[8, 9, 0] here\n",
      "[8, 0, 0] here\n"
     ]
    },
    {
     "data": {
      "text/plain": [
       "[8, 0, 0]"
      ]
     },
     "execution_count": 6,
     "metadata": {},
     "output_type": "execute_result"
    }
   ],
   "source": [
    "digits = [8,9,9]\n",
    "\n",
    "for i in range(1,len(digits)):\n",
    "    if digits[0]!= 9:\n",
    "        while digits[-i] == 9:\n",
    "            digits[-i]=0\n",
    "            print(digits, \"here\")\n",
    "            break\n",
    "        else:\n",
    "            print(\"no\")        \n",
    "            \n",
    "digits\n",
    "\n",
    "\n"
   ]
  },
  {
   "cell_type": "code",
   "execution_count": 15,
   "metadata": {},
   "outputs": [
    {
     "name": "stdout",
     "output_type": "stream",
     "text": [
      "[8, 9, 9] here\n",
      "[8, 9, 0] here\n"
     ]
    },
    {
     "data": {
      "text/plain": [
       "[9, 0, 0]"
      ]
     },
     "execution_count": 15,
     "metadata": {},
     "output_type": "execute_result"
    }
   ],
   "source": [
    "digits = [8,9,9]\n",
    "\n",
    "for i in range(1,len(digits)):\n",
    "    if digits[0]!= 9:\n",
    "            if digits[-i]==9:\n",
    "                print(digits, \"here\")\n",
    "                digits[-i]=0\n",
    "digits[0] += 1\n",
    "digits\n",
    "\n"
   ]
  },
  {
   "cell_type": "code",
   "execution_count": 27,
   "metadata": {},
   "outputs": [
    {
     "data": {
      "text/plain": [
       "[2, 2, 3]"
      ]
     },
     "execution_count": 27,
     "metadata": {},
     "output_type": "execute_result"
    }
   ],
   "source": [
    "digits = [1,2,3]\n",
    "d=[1]\n",
    "\n",
    "if digits[0]!= 9:\n",
    "    for i in range(1,len(digits)):\n",
    "        if digits[-i]==9:\n",
    "            digits[-i]=0\n",
    "    digits[0] += 1\n",
    "else:\n",
    "    for i in range(1,len(digits)):\n",
    "        if digits[-i]==9:\n",
    "            digits[-i]=0\n",
    "    digits[0]=0\n",
    "    digits = d+digits\n",
    "\n",
    "digits\n",
    "\n",
    "\n",
    "# else:\n",
    "#     digits[-1]=digits[-1]+1"
   ]
  },
  {
   "cell_type": "code",
   "execution_count": 44,
   "metadata": {},
   "outputs": [
    {
     "data": {
      "text/plain": [
       "[2, 8, 0]"
      ]
     },
     "execution_count": 44,
     "metadata": {},
     "output_type": "execute_result"
    }
   ],
   "source": [
    "digits = [1,8,9]\n",
    "d=[1]\n",
    "\n",
    "if digits[-1] != 9:\n",
    "    digits[-1]=digits[-1]+1\n",
    "else:\n",
    "    if digits[0]!= 9:\n",
    "        for i in range(1,len(digits)):\n",
    "            if digits[-i]==9:\n",
    "                digits[-i]=0\n",
    "        digits[0] += 1\n",
    "    else:\n",
    "        for i in range(1,len(digits)):\n",
    "            if digits[-i]==9:\n",
    "                digits[-i]=0\n",
    "                digits[-i-1]=digits[-i-1]+1\n",
    "        digits[0]=0\n",
    "        digits = d+digits\n",
    "\n",
    "digits\n"
   ]
  },
  {
   "cell_type": "code",
   "execution_count": 40,
   "metadata": {},
   "outputs": [
    {
     "ename": "KeyboardInterrupt",
     "evalue": "",
     "output_type": "error",
     "traceback": [
      "\u001b[0;31m---------------------------------------------------------------------------\u001b[0m",
      "\u001b[0;31mKeyboardInterrupt\u001b[0m                         Traceback (most recent call last)",
      "Cell \u001b[0;32mIn[40], line 7\u001b[0m\n\u001b[1;32m      5\u001b[0m     digits[\u001b[38;5;241m-\u001b[39m\u001b[38;5;241m1\u001b[39m]\u001b[38;5;241m=\u001b[39mdigits[\u001b[38;5;241m-\u001b[39m\u001b[38;5;241m1\u001b[39m]\u001b[38;5;241m+\u001b[39m\u001b[38;5;241m1\u001b[39m\n\u001b[1;32m      6\u001b[0m \u001b[38;5;28;01melse\u001b[39;00m:\n\u001b[0;32m----> 7\u001b[0m     \u001b[38;5;28;01mwhile\u001b[39;00m \u001b[43mj\u001b[49m\u001b[38;5;241;43m<\u001b[39;49m\u001b[38;5;28;43mlen\u001b[39;49m\u001b[43m(\u001b[49m\u001b[43mdigits\u001b[49m\u001b[43m)\u001b[49m:\n\u001b[1;32m      8\u001b[0m         \u001b[38;5;28;01mif\u001b[39;00m digits[\u001b[38;5;241m-\u001b[39mi]\u001b[38;5;241m==\u001b[39m\u001b[38;5;241m9\u001b[39m:\n\u001b[1;32m      9\u001b[0m             digits[\u001b[38;5;241m-\u001b[39mi]\u001b[38;5;241m=\u001b[39m\u001b[38;5;241m0\u001b[39m\n",
      "\u001b[0;31mKeyboardInterrupt\u001b[0m: "
     ]
    }
   ],
   "source": [
    "digits = [1,2,9]\n",
    "j=1\n",
    "\n",
    "if digits[-1] != 9:\n",
    "    digits[-1]=digits[-1]+1\n",
    "else:\n",
    "    while j<len(digits):\n",
    "        if digits[-i]==9:\n",
    "            digits[-i]=0\n",
    "            j+=1\n",
    "\n",
    "\n",
    "\n",
    "digits"
   ]
  },
  {
   "cell_type": "code",
   "execution_count": 36,
   "metadata": {},
   "outputs": [
    {
     "name": "stdout",
     "output_type": "stream",
     "text": [
      "o\n"
     ]
    },
    {
     "data": {
      "text/plain": [
       "[1, 3, 0, 9]"
      ]
     },
     "execution_count": 36,
     "metadata": {},
     "output_type": "execute_result"
    }
   ],
   "source": [
    "digits = [1,2,8,9]\n",
    "for i in range(len(digits)-1,-1, -1):\n",
    "    if digits[i]!=9:\n",
    "        print('a')\n",
    "        digits[i]+=1\n",
    "        break\n",
    "    else:\n",
    "        if digits[i-1] != 9:\n",
    "            print(\"o\")\n",
    "            digits[i]=0\n",
    "            digits[i-1]= digits[i-1]+1\n",
    "            break\n",
    "\n",
    "\n",
    "digits\n",
    "    "
   ]
  },
  {
   "cell_type": "code",
   "execution_count": 203,
   "metadata": {},
   "outputs": [
    {
     "name": "stdout",
     "output_type": "stream",
     "text": [
      "i 1 1\n",
      "i 3 2\n",
      "i 4 2\n"
     ]
    },
    {
     "data": {
      "text/plain": [
       "[1, 3, 12, 3, 12]"
      ]
     },
     "execution_count": 203,
     "metadata": {},
     "output_type": "execute_result"
    }
   ],
   "source": [
    "nums = [0,1,0,3,12]\n",
    "zeros = 0\n",
    "\n",
    "for i in range(len(nums)):\n",
    "    if nums[i] == 0:\n",
    "        zeros += 1\n",
    "    else: \n",
    "        print('i',i,zeros)\n",
    "        nums[i-zeros] = nums[i]\n",
    "    for i in range(len(nums),zeros,-1):\n",
    "        if \n",
    "nums\n",
    "\n",
    "\n",
    "        "
   ]
  },
  {
   "cell_type": "code",
   "execution_count": 218,
   "metadata": {},
   "outputs": [
    {
     "name": "stdout",
     "output_type": "stream",
     "text": [
      "zeros: 1\n",
      "zeros: 2\n",
      "zeros: 3\n"
     ]
    },
    {
     "data": {
      "text/plain": [
       "[0, 0, 0]"
      ]
     },
     "execution_count": 218,
     "metadata": {},
     "output_type": "execute_result"
    }
   ],
   "source": [
    "nums = [0,0,0]\n",
    "zeros = 0\n",
    "for i in range(len(nums)):\n",
    "    if nums[i] == 0:\n",
    "        zeros += 1\n",
    "        print(\"zeros:\",zeros)\n",
    "    else:\n",
    "        nums[i-zeros] = nums[i]\n",
    "        print(nums)\n",
    "for i in range(len(nums),len(nums)-zeros,-1):\n",
    "    nums[i-1] = 0\n",
    "\n",
    "nums\n"
   ]
  },
  {
   "cell_type": "code",
   "execution_count": 239,
   "metadata": {},
   "outputs": [
    {
     "name": "stdout",
     "output_type": "stream",
     "text": [
      "l 1 0\n",
      "l 2 0\n",
      "l 2 1\n"
     ]
    },
    {
     "data": {
      "text/plain": [
       "'\\nmatrix = [[1,2,3],[4,5,6],[7,8,9]]\\n[0,0]= 1   [0,2]\\n[0,1]= 2   [1,2]\\n[0,2]= 3   [2,2]\\n\\n[1,0]= 4   [0,1]\\n[2,2]= 5   [2,2]\\n[1,2]= 6   [2,1]\\n\\n[2,0]= 7   [0,0]\\n[2,1]= 8   [1,0]\\n[2,2]= 9   [2,0]\\n\\n'"
      ]
     },
     "execution_count": 239,
     "metadata": {},
     "output_type": "execute_result"
    }
   ],
   "source": [
    "matrix = [[1,2,3],[4,5,6],[7,8,9]]\n",
    "# [[7,4,1],[8,5,2],[9,6,3]]\n",
    "\n",
    "'''\n",
    "[1,2,3]\n",
    "[4,5,6]\n",
    "[7,8,9]\n",
    "\n",
    "[7,4,1]\n",
    "[8,5,2]\n",
    "[9,6,3]\n",
    "\n",
    "'''\n",
    "N=len(matrix)\n",
    "\n",
    "for r in range(N):\n",
    "    for c in range(r):\n",
    "        print('l', r, c)\n",
    "\n",
    "      \n",
    "\n",
    "  \n",
    "\n",
    "\n",
    "\n",
    "'''\n",
    "[[1, 4, 7], [2, 5, 8], [3, 6, 9]]\n",
    "second is what we want but let;s to the thirs then reverse\n",
    "\n",
    "[0,0]= 1   [0,2]  [0,0]\n",
    "[0,1]= 2   [1,2]  [1,0]\n",
    "[0,2]= 3   [2,2]  [2,0]\n",
    "\n",
    "[1,0]= 4   [0,1]\n",
    "[2,2]= 5   [2,2]\n",
    "[1,2]= 6   [2,1]\n",
    "\n",
    "[2,0]= 7   [0,0]\n",
    "[2,1]= 8   [1,0]\n",
    "[2,2]= 9   [2,0]\n",
    "\n",
    "'''"
   ]
  },
  {
   "cell_type": "code",
   "execution_count": 253,
   "metadata": {},
   "outputs": [
    {
     "name": "stdout",
     "output_type": "stream",
     "text": [
      "Index:  0\n",
      "Index:  1\n",
      "[1]\n",
      "Index:  2\n",
      "[1]\n",
      "[1]\n",
      "[[7, 4, 1], [8, 5, 2], [9, 6, 3]]\n"
     ]
    }
   ],
   "source": [
    "matrix = [[1,2,3],[4,5,6],[7,8,9]]\n",
    "\n",
    "N=len(matrix)\n",
    "\n",
    "for r in range(N):\n",
    "    print('Index: ', r)\n",
    "    for num in range(r):\n",
    "        print([i])\n",
    "        matrix[r][num], matrix[num][r] = matrix[num][r], matrix[r][num]\n",
    "\n",
    "for m in matrix:\n",
    "    m.reverse()    \n",
    "print(matrix)"
   ]
  },
  {
   "cell_type": "code",
   "execution_count": 262,
   "metadata": {},
   "outputs": [
    {
     "name": "stdout",
     "output_type": "stream",
     "text": [
      "{7: 0}\n",
      "{7: 0, -2: 2}\n",
      "{7: 0, -2: 2, -6: 3}\n"
     ]
    },
    {
     "data": {
      "text/plain": [
       "[1, 0]"
      ]
     },
     "execution_count": 262,
     "metadata": {},
     "output_type": "execute_result"
    }
   ],
   "source": [
    "nums = [2,7,11,15]\n",
    "target = 9\n",
    "seen = {}\n",
    "cache= []\n",
    "for i in range(len(nums)):\n",
    "    diff = target - nums[i]\n",
    "    if nums[i] not in seen:\n",
    "        seen[diff]=i\n",
    "        print(seen)\n",
    "    else:\n",
    "        cache.append(i)\n",
    "        cache.append(seen[nums[i]])\n",
    "cache\n",
    "\n"
   ]
  },
  {
   "cell_type": "code",
   "execution_count": 19,
   "metadata": {},
   "outputs": [
    {
     "name": "stdout",
     "output_type": "stream",
     "text": [
      "iteration: 2 , earning: [2, 2, 3, 0, 0, 0, 0]\n",
      "iteration: 3 , earning: [2, 2, 3, 4, 0, 0, 0]\n",
      "iteration: 4 , earning: [2, 2, 3, 4, 9, 0, 0]\n",
      "iteration: 5 , earning: [2, 2, 3, 4, 9, 12, 0]\n",
      "iteration: 6 , earning: [2, 2, 3, 4, 9, 12, 12]\n",
      "12\n"
     ]
    }
   ],
   "source": [
    "'''nums = [2,7,9,3,1]\n",
    "nums = [2,7,9]= 2+9\n",
    "max(nums[3]+nums[0])\n",
    "nums = [2,7,9,3]= 7+3\n",
    "max(nums[3]+nums[1], nums[])\n",
    "\n",
    "nums = [2,7,9,3,1,2,5,6,3]\n",
    "\n",
    "'''\n",
    "nums = [2,1,1,2,6,8,1]\n",
    "earning= [0]* len(nums)\n",
    "earning[0]=nums[0]\n",
    "earning[1]=max(nums[0],nums[1])\n",
    "for i in range(2,len(nums)):\n",
    "    earning[i]=max(nums[i]+earning[i-2] ,earning[i-1])\n",
    "    print(\"iteration:\",i,\", earning:\",earning)\n",
    "\n",
    "print(earning[-1])\n",
    "    \n"
   ]
  },
  {
   "cell_type": "code",
   "execution_count": 1,
   "metadata": {},
   "outputs": [
    {
     "ename": "SyntaxError",
     "evalue": "invalid syntax (290620130.py, line 11)",
     "output_type": "error",
     "traceback": [
      "\u001b[0;36m  Cell \u001b[0;32mIn[1], line 11\u001b[0;36m\u001b[0m\n\u001b[0;31m    Return True\u001b[0m\n\u001b[0m           ^\u001b[0m\n\u001b[0;31mSyntaxError\u001b[0m\u001b[0;31m:\u001b[0m invalid syntax\n"
     ]
    }
   ],
   "source": [
    "import re\n",
    "s = \"A man, a plan, a canal: Panama\"\n",
    "s = re.sub(\"[^a-z, ^0-9]\", \"\", )\n",
    "l,r = 0, len(s)-1\n",
    "\n",
    "while l<r:\n",
    "    if s[l]!=s[r]:\n",
    "        return False\n",
    "    l+=1\n",
    "    r-=1\n",
    "return True\n"
   ]
  },
  {
   "cell_type": "code",
   "execution_count": 2,
   "metadata": {},
   "outputs": [
    {
     "name": "stdout",
     "output_type": "stream",
     "text": [
      "i -1\n",
      "0 1 5 else -1 0 -4\n",
      "out\n",
      "i 1\n",
      "1 2 5 else 1 1 -5\n",
      "first 1 2 5 else 1 1 -5\n",
      "out\n",
      "i 3\n",
      "2 3 5 else 3 2 -6\n",
      "out\n",
      "i 3\n",
      "3 4 5 else 3 -1 -7\n",
      "out\n",
      "i 0\n",
      "4 5 5 else 0 -8 -8\n",
      "[]\n"
     ]
    }
   ],
   "source": [
    "nums = [-1,0,1,2,-1,-4]\n",
    "list_triplets=[]\n",
    "for i in range(len(nums)-1):\n",
    "    print('i', nums[i])\n",
    "    l=i+1\n",
    "    r=len(nums)-1\n",
    "    print(i,l,r ,'else',nums[i],nums[l], nums[r])\n",
    "\n",
    "    while l<r:\n",
    "        if nums[l]==nums[i]:\n",
    "            print('first', i,l,r ,'else',nums[i],nums[l], nums[r])\n",
    "            nums[l]+=1\n",
    "        if nums[r]==nums[i]:\n",
    "            print('second', nums[i],nums[l], nums[r])\n",
    "            nums[r]-=1\n",
    "        if nums[i]!=nums[l] & nums[l]!=r & nums[i]+nums[l]+nums[r]==0:\n",
    "            print('third')\n",
    "            triplets=[nums[i],nums[l], nums[r]]\n",
    "            print(triplets)\n",
    "            list_triplets.append(triplets)\n",
    "            nums[l]+=1\n",
    "            nums[r]-=1\n",
    "        else:\n",
    "            print(\"out\")\n",
    "            nums[l]+=1\n",
    "            nums[r]-=1\n",
    "            breakL\n",
    "\n",
    "print(list_triplets)\n",
    "\n"
   ]
  },
  {
   "cell_type": "code",
   "execution_count": 5,
   "metadata": {},
   "outputs": [
    {
     "ename": "TypeError",
     "evalue": "object of type 'int' has no len()",
     "output_type": "error",
     "traceback": [
      "\u001b[0;31m---------------------------------------------------------------------------\u001b[0m",
      "\u001b[0;31mTypeError\u001b[0m                                 Traceback (most recent call last)",
      "Cell \u001b[0;32mIn[5], line 5\u001b[0m\n\u001b[1;32m      1\u001b[0m \u001b[38;5;66;03m# What are the real danger\u001b[39;00m\n\u001b[1;32m      3\u001b[0m nums \u001b[38;5;241m=\u001b[39m [\u001b[38;5;241m-\u001b[39m\u001b[38;5;241m1\u001b[39m,\u001b[38;5;241m0\u001b[39m,\u001b[38;5;241m1\u001b[39m,\u001b[38;5;241m2\u001b[39m,\u001b[38;5;241m-\u001b[39m\u001b[38;5;241m1\u001b[39m,\u001b[38;5;241m-\u001b[39m\u001b[38;5;241m4\u001b[39m]\n\u001b[0;32m----> 5\u001b[0m \u001b[38;5;28;01mfor\u001b[39;00m i \u001b[38;5;129;01min\u001b[39;00m \u001b[38;5;28mrange\u001b[39m(\u001b[38;5;28;43mlen\u001b[39;49m\u001b[43m(\u001b[49m\u001b[38;5;241;43m10\u001b[39;49m\u001b[43m)\u001b[49m):\n\u001b[1;32m      6\u001b[0m     \u001b[38;5;28mprint\u001b[39m(i)\n",
      "\u001b[0;31mTypeError\u001b[0m: object of type 'int' has no len()"
     ]
    }
   ],
   "source": [
    "# What are the real danger\n",
    " \n",
    "nums = [-1,0,1,2,-1,-4]\n",
    "list_triplets = []\n",
    "l, r = nums[i]+1,len(nums)-1\n",
    "for i in range(len(nums)):\n",
    "    while l<r:\n",
    "        if nums[i] + nums[l] + nums[r] ==0:\n",
    "            \n",
    "    \n",
    "\n"
   ]
  },
  {
   "cell_type": "code",
   "execution_count": 11,
   "metadata": {},
   "outputs": [
    {
     "name": "stdout",
     "output_type": "stream",
     "text": [
      "start\n",
      "add\n",
      "step3 i 0 l 1 r 3 nums[i] -1 nums[l] 0 nums[r] 1 sum: 0\n",
      "list_triplets [[-1, 0, 1]]\n",
      "start\n",
      "step1 i 1 l 2 r 3 nums[i] 0 nums[l] 0 nums[r] 1 sum: 1\n",
      "add\n",
      "step3 i 1 l 2 r 2 nums[i] 0 nums[l] 0 nums[r] 0 sum: 0\n",
      "list_triplets [[-1, 0, 1], [0, 0, 0]]\n"
     ]
    },
    {
     "data": {
      "text/plain": [
       "[[-1, 0, 1], [0, 0, 0]]"
      ]
     },
     "execution_count": 11,
     "metadata": {},
     "output_type": "execute_result"
    }
   ],
   "source": [
    "# nums = [-1,0,1,2,-1,-4]\n",
    "# [-4, -1, -1, 0, 1, 2]\n",
    "nums = [-1,0,1,0]\n",
    "# -1 0 0 1\n",
    "nums.sort()\n",
    "list_triplets = []\n",
    "for i in range(len(nums)-1):\n",
    "    l, r = i+1 ,len(nums)-1\n",
    "    while l<r:\n",
    "        print('start')\n",
    "        if nums[i]==nums[l]+nums[r]:\n",
    "            print('no')\n",
    "        if nums[l] + nums[r] > nums[i] and nums[l] + nums[r] + nums[i] != 0:\n",
    "            print('step1','i',i,'l',l,'r',r,'nums[i]',nums[i],'nums[l]',nums[l],'nums[r]',nums[r],'sum:',nums[i]+nums[l]+nums[r])\n",
    "            r-=1\n",
    "        if nums[l] + nums[r] < nums[i] and nums[l] + nums[r] + nums[i] != 0:\n",
    "            print('step2','i',i,'l',l,'r',r,'nums[i]',nums[i],'nums[l]',nums[l],'nums[r]',nums[r],'sum:',nums[i]+nums[l]+nums[r])\n",
    "            l+=1\n",
    "        if nums[l] + nums[r] + nums[i] == 0:\n",
    "            print('add')\n",
    "            print('step3','i',i,'l',l,'r',r,'nums[i]',nums[i],'nums[l]',nums[l],'nums[r]',nums[r],'sum:',nums[i]+nums[l]+nums[r])\n",
    "            list_triplets.append([nums[i], nums[l], nums[r]])\n",
    "            print('list_triplets', list_triplets)\n",
    "            r-=1\n",
    "            break\n",
    "\n",
    "list_triplets"
   ]
  },
  {
   "attachments": {},
   "cell_type": "markdown",
   "metadata": {},
   "source": []
  },
  {
   "cell_type": "code",
   "execution_count": 3,
   "metadata": {},
   "outputs": [
    {
     "name": "stdout",
     "output_type": "stream",
     "text": [
      "CREATE TABLE my_table (Name VARCHAR(4), Age VARCHAR(2), City VARCHAR(8))\n"
     ]
    }
   ],
   "source": [
    "import pandas as pd\n",
    "\n",
    "def create_table_sql(df, table_name):\n",
    "    column_definitions = []\n",
    "    \n",
    "    for column in df.columns:\n",
    "        max_length = df[column].astype(str).str.len().max()\n",
    "        data_type = \"VARCHAR({})\".format(max_length)\n",
    "        column_definition = \"{} {}\".format(column, data_type)\n",
    "        column_definitions.append(column_definition)\n",
    "    \n",
    "    sql = \"CREATE TABLE {} ({})\".format(table_name, \", \".join(column_definitions))\n",
    "    return sql\n",
    "\n",
    "# Example usage\n",
    "df = pd.DataFrame({'Name': ['John', 'Jane', 'Mike'],\n",
    "                   'Age': [25, 30, 28],\n",
    "                   'City': ['New York', 'London', 'Paris']})\n",
    "\n",
    "table_name = \"my_table\"\n",
    "create_table_query = create_table_sql(df, table_name)\n",
    "print(create_table_query)\n"
   ]
  },
  {
   "cell_type": "code",
   "execution_count": 4,
   "metadata": {},
   "outputs": [
    {
     "name": "stdout",
     "output_type": "stream",
     "text": [
      "CREATE TABLE my_table (\n",
      "    ID INT,\n",
      "    Name VARCHAR(11),\n",
      "    Age INT,\n",
      "    Salary FLOAT,\n",
      "    Join_Date VARCHAR(10)\n",
      ")\n"
     ]
    }
   ],
   "source": [
    "import pandas as pd\n",
    "\n",
    "# Sample DataFrame\n",
    "data = {\n",
    "    'ID': [1, 2, 3],\n",
    "    'Name': ['John Doe', 'Jane Smith', 'Bob Johnson'],\n",
    "    'Age': [25, 30, 35],\n",
    "    'Salary': [50000.00, 60000.00, 70000.00],\n",
    "    'Join_Date': ['2022-01-01', '2022-02-01', '2022-03-01']\n",
    "}\n",
    "\n",
    "df = pd.DataFrame(data)\n",
    "\n",
    "# Get column information\n",
    "column_info = []\n",
    "for col in df.columns:\n",
    "    column_data = df[col]\n",
    "    column_type = str(column_data.dtype)\n",
    "    max_length = column_data.astype(str).apply(len).max()\n",
    "    column_info.append((col, column_type, max_length))\n",
    "\n",
    "# Generate SQL command\n",
    "table_name = 'my_table'\n",
    "sql_command = f\"CREATE TABLE {table_name} (\\n\"\n",
    "for col_info in column_info:\n",
    "    col_name, col_type, max_length = col_info\n",
    "    if 'int' in col_type:\n",
    "        sql_command += f\"    {col_name} INT,\\n\"\n",
    "    elif 'float' in col_type:\n",
    "        sql_command += f\"    {col_name} FLOAT,\\n\"\n",
    "    elif 'datetime' in col_type:\n",
    "        sql_command += f\"    {col_name} DATETIME,\\n\"\n",
    "    else:\n",
    "        sql_command += f\"    {col_name} VARCHAR({max_length}),\\n\"\n",
    "\n",
    "sql_command = sql_command.rstrip(',\\n') + \"\\n)\"\n",
    "print(sql_command)\n"
   ]
  },
  {
   "cell_type": "code",
   "execution_count": 10,
   "metadata": {},
   "outputs": [
    {
     "name": "stdout",
     "output_type": "stream",
     "text": [
      "Python version: 3.9.6 (default, Mar 10 2023, 20:16:38) \n",
      "[Clang 14.0.3 (clang-1403.0.22.14.1)]\n",
      "Python interpreter: /Users/firaterman/Documents/git_workspace/.venv/bin/python\n"
     ]
    },
    {
     "data": {
      "text/plain": [
       "{'COMMAND_MODE': 'unix2003',\n",
       " 'HOME': '/Users/firaterman',\n",
       " 'HOMEBREW_CELLAR': '/opt/homebrew/Cellar',\n",
       " 'HOMEBREW_PREFIX': '/opt/homebrew',\n",
       " 'HOMEBREW_REPOSITORY': '/opt/homebrew',\n",
       " 'INFOPATH': '/opt/homebrew/share/info:',\n",
       " 'LESS': '-R',\n",
       " 'LOGNAME': 'firaterman',\n",
       " 'LSCOLORS': 'Gxfxcxdxbxegedabagacad',\n",
       " 'LS_COLORS': 'di=1;36:ln=35:so=32:pi=33:ex=31:bd=34;46:cd=34;43:su=30;41:sg=30;46:tw=30;42:ow=30;43',\n",
       " 'MANPATH': '/opt/homebrew/share/man::',\n",
       " 'MallocNanoZone': '0',\n",
       " 'OLDPWD': '/',\n",
       " 'ORIGINAL_XDG_CURRENT_DESKTOP': 'undefined',\n",
       " 'P9K_SSH': '0',\n",
       " 'PAGER': 'cat',\n",
       " 'PATH': '/Users/firaterman/Documents/git_workspace/.venv/bin:/opt/homebrew/Cellar/apache-spark/3.3.2/bin:/opt/homebrew/bin:/opt/homebrew/sbin:/usr/local/bin:/System/Cryptexes/App/usr/bin:/usr/bin:/bin:/usr/sbin:/sbin:/usr/local/share/dotnet:~/.dotnet/tools:/var/run/com.apple.security.cryptexd/codex.system/bootstrap/usr/local/bin:/var/run/com.apple.security.cryptexd/codex.system/bootstrap/usr/bin:/var/run/com.apple.security.cryptexd/codex.system/bootstrap/usr/appleinternal/bin',\n",
       " 'PWD': '/',\n",
       " 'SHELL': '/bin/zsh',\n",
       " 'SHLVL': '1',\n",
       " 'SSH_AUTH_SOCK': '/private/tmp/com.apple.launchd.GKt6Hhzwv2/Listeners',\n",
       " 'TMPDIR': '/var/folders/rl/hwkmtmz15xl60kjd0j48p7900000gn/T/',\n",
       " 'USER': 'firaterman',\n",
       " 'VSCODE_AMD_ENTRYPOINT': 'vs/workbench/api/node/extensionHostProcess',\n",
       " 'VSCODE_CODE_CACHE_PATH': '/Users/firaterman/Library/Application Support/Code/CachedData/b3e4e68a0bc097f0ae7907b217c1119af9e03435',\n",
       " 'VSCODE_CRASH_REPORTER_PROCESS_TYPE': 'extensionHost',\n",
       " 'VSCODE_CRASH_REPORTER_SANDBOXED_HINT': '1',\n",
       " 'VSCODE_CWD': '/',\n",
       " 'VSCODE_HANDLES_UNCAUGHT_ERRORS': 'true',\n",
       " 'VSCODE_IPC_HOOK': '/Users/firaterman/Library/Application Support/Code/1.78-main.sock',\n",
       " 'VSCODE_NLS_CONFIG': '{\"locale\":\"en-gb\",\"osLocale\":\"en-fr\",\"availableLanguages\":{},\"_languagePackSupport\":true}',\n",
       " 'VSCODE_PID': '26605',\n",
       " 'XPC_FLAGS': '0x0',\n",
       " 'XPC_SERVICE_NAME': '0',\n",
       " 'ZSH': '/Users/firaterman/.oh-my-zsh',\n",
       " '_': '/Users/firaterman/Documents/git_workspace/.venv/bin/python',\n",
       " '__CFBundleIdentifier': 'com.microsoft.VSCode',\n",
       " '__CF_USER_TEXT_ENCODING': '0x1F5:0x0:0x0',\n",
       " 'ELECTRON_RUN_AS_NODE': '1',\n",
       " 'SPARK_HOME': '/opt/homebrew/Cellar/apache-spark/3.3.2/libexec',\n",
       " 'PYTHONUNBUFFERED': '1',\n",
       " 'PYTHONIOENCODING': 'utf-8',\n",
       " 'PYSPARK_PYTHON': '/usr/local/bin/python3',\n",
       " 'PYSPARK_DRIVER_PYTHON': 'jupyter',\n",
       " 'VIRTUAL_ENV': '/Users/firaterman/Documents/git_workspace/.venv',\n",
       " 'PS1': '(.venv) ',\n",
       " 'PYSPARK_DRIVER_PYTHON_OPTS': 'notebook',\n",
       " 'LC_CTYPE': 'UTF-8',\n",
       " 'PYDEVD_IPYTHON_COMPATIBLE_DEBUGGING': '1',\n",
       " 'PYDEVD_USE_FRAME_EVAL': 'NO',\n",
       " 'TERM': 'xterm-color',\n",
       " 'CLICOLOR': '1',\n",
       " 'FORCE_COLOR': '1',\n",
       " 'CLICOLOR_FORCE': '1',\n",
       " 'GIT_PAGER': 'cat',\n",
       " 'MPLBACKEND': 'module://matplotlib_inline.backend_inline'}"
      ]
     },
     "execution_count": 10,
     "metadata": {},
     "output_type": "execute_result"
    }
   ],
   "source": [
    "import pandas as pd\n",
    "import sys\n",
    "\n",
    "print(\"Python version:\", sys.version)\n",
    "print(\"Python interpreter:\", sys.executable)\n",
    "%env"
   ]
  },
  {
   "cell_type": "code",
   "execution_count": null,
   "metadata": {},
   "outputs": [],
   "source": []
  },
  {
   "attachments": {},
   "cell_type": "markdown",
   "metadata": {},
   "source": [
    "### EVENTS XLS"
   ]
  },
  {
   "cell_type": "code",
   "execution_count": 35,
   "metadata": {},
   "outputs": [],
   "source": [
    "import pandas as pd\n",
    "xls_file_path = '/Users/firaterman/Downloads/jj/events_database.xlsx'\n",
    "df = pd.read_excel(xls_file_path)\n"
   ]
  },
  {
   "cell_type": "code",
   "execution_count": 15,
   "metadata": {},
   "outputs": [
    {
     "name": "stdout",
     "output_type": "stream",
     "text": [
      "number of rows 30191\n",
      "count of rows per column Id                   30191\n",
      "Parent_Id            17250\n",
      "Date_created         30153\n",
      "Due_date             28218\n",
      "Title                17316\n",
      "Assigned_to          30191\n",
      "Supervisor_leader    30191\n",
      "State                30191\n",
      "Site_name            28190\n",
      "dtype: int64\n",
      "\n",
      "different length present in columns: Id                                                [8]\n",
      "Parent_Id                                      [6, 3]\n",
      "Date_created                                  [19, 3]\n",
      "Due_date                                      [19, 3]\n",
      "Title                                         [30, 3]\n",
      "Assigned_to          [12, 13, 15, 14, 17, 11, 16, 10]\n",
      "Supervisor_leader         [14, 11, 16, 15, 17, 12, 9]\n",
      "State                                    [8, 7, 4, 6]\n",
      "Site_name                              [7, 3, 10, 11]\n",
      "dtype: object\n"
     ]
    }
   ],
   "source": [
    "print(\"number of rows\",len(df))\n",
    "print(\"count of rows per column\",df.count())\n",
    "# different length present in columns\n",
    "lengths = df.apply(lambda col: col.astype(str).apply(len).unique())\n",
    "print(\"different length present in columns:\", lengths)\n",
    "\n",
    "# This will help to configure the json file to create the metadata of the file"
   ]
  },
  {
   "cell_type": "code",
   "execution_count": 17,
   "metadata": {},
   "outputs": [
    {
     "name": "stdout",
     "output_type": "stream",
     "text": [
      "\n",
      " count null values Id                       0\n",
      "Parent_Id            12941\n",
      "Date_created            38\n",
      "Due_date              1973\n",
      "Title                12875\n",
      "Assigned_to              0\n",
      "Supervisor_leader        0\n",
      "State                    0\n",
      "Site_name             2001\n",
      "dtype: int64\n"
     ]
    }
   ],
   "source": [
    "# count null values\n",
    "null_counts = df.isnull().sum()\n",
    "print(\"\\n\",\"count null values: \",null_counts)"
   ]
  },
  {
   "cell_type": "code",
   "execution_count": 30,
   "metadata": {},
   "outputs": [
    {
     "data": {
      "text/html": [
       "<div>\n",
       "<style scoped>\n",
       "    .dataframe tbody tr th:only-of-type {\n",
       "        vertical-align: middle;\n",
       "    }\n",
       "\n",
       "    .dataframe tbody tr th {\n",
       "        vertical-align: top;\n",
       "    }\n",
       "\n",
       "    .dataframe thead th {\n",
       "        text-align: right;\n",
       "    }\n",
       "</style>\n",
       "<table border=\"1\" class=\"dataframe\">\n",
       "  <thead>\n",
       "    <tr style=\"text-align: right;\">\n",
       "      <th></th>\n",
       "      <th>Id</th>\n",
       "      <th>Parent_Id</th>\n",
       "      <th>Date_created</th>\n",
       "      <th>Due_date</th>\n",
       "      <th>Title</th>\n",
       "      <th>Assigned_to</th>\n",
       "      <th>Supervisor_leader</th>\n",
       "      <th>State</th>\n",
       "      <th>Site_name</th>\n",
       "    </tr>\n",
       "  </thead>\n",
       "  <tbody>\n",
       "    <tr>\n",
       "      <th>count</th>\n",
       "      <td>30191</td>\n",
       "      <td>17250</td>\n",
       "      <td>30153</td>\n",
       "      <td>28218</td>\n",
       "      <td>17316</td>\n",
       "      <td>30191</td>\n",
       "      <td>30191</td>\n",
       "      <td>30191</td>\n",
       "      <td>28190</td>\n",
       "    </tr>\n",
       "    <tr>\n",
       "      <th>unique</th>\n",
       "      <td>20174</td>\n",
       "      <td>13621</td>\n",
       "      <td>9333</td>\n",
       "      <td>9242</td>\n",
       "      <td>13652</td>\n",
       "      <td>22</td>\n",
       "      <td>14</td>\n",
       "      <td>4</td>\n",
       "      <td>5</td>\n",
       "    </tr>\n",
       "    <tr>\n",
       "      <th>top</th>\n",
       "      <td>mHdkr71t</td>\n",
       "      <td>B3h7TY</td>\n",
       "      <td>09/03/2023 11:26 AM</td>\n",
       "      <td>2023/27/09 06:18 AM</td>\n",
       "      <td>L3YLROAptvyn7QauWTPpyZQqOxdfgq</td>\n",
       "      <td>Braidy Paisley</td>\n",
       "      <td>Maximiano Harshad</td>\n",
       "      <td>Closed</td>\n",
       "      <td>Spain_plan</td>\n",
       "    </tr>\n",
       "    <tr>\n",
       "      <th>freq</th>\n",
       "      <td>6</td>\n",
       "      <td>5</td>\n",
       "      <td>15</td>\n",
       "      <td>13</td>\n",
       "      <td>6</td>\n",
       "      <td>1776</td>\n",
       "      <td>5046</td>\n",
       "      <td>7586</td>\n",
       "      <td>9124</td>\n",
       "    </tr>\n",
       "  </tbody>\n",
       "</table>\n",
       "</div>"
      ],
      "text/plain": [
       "              Id Parent_Id         Date_created             Due_date  \\\n",
       "count      30191     17250                30153                28218   \n",
       "unique     20174     13621                 9333                 9242   \n",
       "top     mHdkr71t    B3h7TY  09/03/2023 11:26 AM  2023/27/09 06:18 AM   \n",
       "freq           6         5                   15                   13   \n",
       "\n",
       "                                 Title     Assigned_to  Supervisor_leader  \\\n",
       "count                            17316           30191              30191   \n",
       "unique                           13652              22                 14   \n",
       "top     L3YLROAptvyn7QauWTPpyZQqOxdfgq  Braidy Paisley  Maximiano Harshad   \n",
       "freq                                 6            1776               5046   \n",
       "\n",
       "         State   Site_name  \n",
       "count    30191       28190  \n",
       "unique       4           5  \n",
       "top     Closed  Spain_plan  \n",
       "freq      7586        9124  "
      ]
     },
     "execution_count": 30,
     "metadata": {},
     "output_type": "execute_result"
    }
   ],
   "source": [
    "df.describe()"
   ]
  },
  {
   "cell_type": "code",
   "execution_count": 38,
   "metadata": {},
   "outputs": [
    {
     "name": "stdout",
     "output_type": "stream",
     "text": [
      "count_id\n",
      "1.0    10558\n",
      "2.0     5134\n",
      "3.0     1290\n",
      "4.0      248\n",
      "5.0       20\n",
      "Name: count, dtype: int64\n"
     ]
    }
   ],
   "source": [
    "df['count_id'] = df.groupby([\"Parent_Id\"])[\"Id\"].transform('count')\n",
    "value_counts = df[\"count_id\"].value_counts()\n",
    "print(value_counts)\n",
    "# A grouping_id has a maximum of 5 unique id and a minimum of 1"
   ]
  },
  {
   "cell_type": "code",
   "execution_count": 39,
   "metadata": {},
   "outputs": [
    {
     "data": {
      "text/html": [
       "<div>\n",
       "<style scoped>\n",
       "    .dataframe tbody tr th:only-of-type {\n",
       "        vertical-align: middle;\n",
       "    }\n",
       "\n",
       "    .dataframe tbody tr th {\n",
       "        vertical-align: top;\n",
       "    }\n",
       "\n",
       "    .dataframe thead th {\n",
       "        text-align: right;\n",
       "    }\n",
       "</style>\n",
       "<table border=\"1\" class=\"dataframe\">\n",
       "  <thead>\n",
       "    <tr style=\"text-align: right;\">\n",
       "      <th></th>\n",
       "      <th>Id</th>\n",
       "      <th>Parent_Id</th>\n",
       "      <th>Date_created</th>\n",
       "      <th>Due_date</th>\n",
       "      <th>Title</th>\n",
       "      <th>Assigned_to</th>\n",
       "      <th>Supervisor_leader</th>\n",
       "      <th>State</th>\n",
       "      <th>Site_name</th>\n",
       "      <th>count_id</th>\n",
       "    </tr>\n",
       "  </thead>\n",
       "  <tbody>\n",
       "    <tr>\n",
       "      <th>0</th>\n",
       "      <td>NQjKOTnh</td>\n",
       "      <td>wb18gG</td>\n",
       "      <td>04/06/2023 09:47 AM</td>\n",
       "      <td>2023/09/09 06:19 AM</td>\n",
       "      <td>aAt7u8TVNyM5WUTRkxQvsPJ4y7M9nO</td>\n",
       "      <td>Karter Harve</td>\n",
       "      <td>Geghard Fester</td>\n",
       "      <td>Progress</td>\n",
       "      <td>US_plan</td>\n",
       "      <td>1.0</td>\n",
       "    </tr>\n",
       "    <tr>\n",
       "      <th>1</th>\n",
       "      <td>uDbetnjg</td>\n",
       "      <td>NaN</td>\n",
       "      <td>20/07/2023 07:02 PM</td>\n",
       "      <td>2023/14/09 02:31 PM</td>\n",
       "      <td>X2L8gwwGPCg4epck1IdFeQQAZzaypc</td>\n",
       "      <td>Royle Jacinda</td>\n",
       "      <td>Kaj Gunnarr</td>\n",
       "      <td>Pending</td>\n",
       "      <td>NaN</td>\n",
       "      <td>NaN</td>\n",
       "    </tr>\n",
       "    <tr>\n",
       "      <th>2</th>\n",
       "      <td>FYRoQXCm</td>\n",
       "      <td>NaN</td>\n",
       "      <td>30/04/2023 06:31 AM</td>\n",
       "      <td>2023/05/08 06:08 PM</td>\n",
       "      <td>w1QF1TyO4QODQNefWTmZYdNgsL0Wz2</td>\n",
       "      <td>Royle Jacinda</td>\n",
       "      <td>Kaj Gunnarr</td>\n",
       "      <td>Pending</td>\n",
       "      <td>US_plan</td>\n",
       "      <td>NaN</td>\n",
       "    </tr>\n",
       "    <tr>\n",
       "      <th>3</th>\n",
       "      <td>FLIKQF18</td>\n",
       "      <td>fLDxcx</td>\n",
       "      <td>24/05/2023 05:28 PM</td>\n",
       "      <td>2023/27/06 03:39 AM</td>\n",
       "      <td>NaN</td>\n",
       "      <td>Royle Jacinda</td>\n",
       "      <td>Kaj Gunnarr</td>\n",
       "      <td>Open</td>\n",
       "      <td>US_plan</td>\n",
       "      <td>1.0</td>\n",
       "    </tr>\n",
       "    <tr>\n",
       "      <th>4</th>\n",
       "      <td>KF5debhv</td>\n",
       "      <td>NaN</td>\n",
       "      <td>16/03/2023 05:24 PM</td>\n",
       "      <td>2023/16/10 05:24 PM</td>\n",
       "      <td>NaN</td>\n",
       "      <td>Royle Jacinda</td>\n",
       "      <td>Geghard Fester</td>\n",
       "      <td>Open</td>\n",
       "      <td>US_plan</td>\n",
       "      <td>NaN</td>\n",
       "    </tr>\n",
       "    <tr>\n",
       "      <th>...</th>\n",
       "      <td>...</td>\n",
       "      <td>...</td>\n",
       "      <td>...</td>\n",
       "      <td>...</td>\n",
       "      <td>...</td>\n",
       "      <td>...</td>\n",
       "      <td>...</td>\n",
       "      <td>...</td>\n",
       "      <td>...</td>\n",
       "      <td>...</td>\n",
       "    </tr>\n",
       "    <tr>\n",
       "      <th>30186</th>\n",
       "      <td>ohevpgdv</td>\n",
       "      <td>NaN</td>\n",
       "      <td>08/04/2023 12:10 AM</td>\n",
       "      <td>2023/26/11 06:04 PM</td>\n",
       "      <td>NaN</td>\n",
       "      <td>Bernetta Barrett</td>\n",
       "      <td>Vera Ludvík</td>\n",
       "      <td>Pending</td>\n",
       "      <td>Spain_plan</td>\n",
       "      <td>NaN</td>\n",
       "    </tr>\n",
       "    <tr>\n",
       "      <th>30187</th>\n",
       "      <td>q9MaOfoT</td>\n",
       "      <td>NaN</td>\n",
       "      <td>10/06/2023 05:39 PM</td>\n",
       "      <td>2023/28/06 08:01 AM</td>\n",
       "      <td>NaN</td>\n",
       "      <td>Phemie Constance</td>\n",
       "      <td>Luvinia Honora</td>\n",
       "      <td>Progress</td>\n",
       "      <td>Spain_plan</td>\n",
       "      <td>NaN</td>\n",
       "    </tr>\n",
       "    <tr>\n",
       "      <th>30188</th>\n",
       "      <td>cqMrBVRN</td>\n",
       "      <td>rr38mu</td>\n",
       "      <td>21/04/2023 10:20 AM</td>\n",
       "      <td>2023/07/11 05:20 AM</td>\n",
       "      <td>NaN</td>\n",
       "      <td>Lorelle Rylan</td>\n",
       "      <td>Basma Engel</td>\n",
       "      <td>Progress</td>\n",
       "      <td>NaN</td>\n",
       "      <td>3.0</td>\n",
       "    </tr>\n",
       "    <tr>\n",
       "      <th>30189</th>\n",
       "      <td>vM8M01ib</td>\n",
       "      <td>NaN</td>\n",
       "      <td>30/03/2023 01:05 AM</td>\n",
       "      <td>2023/22/06 01:02 AM</td>\n",
       "      <td>NaN</td>\n",
       "      <td>Elaine Jax</td>\n",
       "      <td>Vera Ludvík</td>\n",
       "      <td>Open</td>\n",
       "      <td>Spain_plan</td>\n",
       "      <td>NaN</td>\n",
       "    </tr>\n",
       "    <tr>\n",
       "      <th>30190</th>\n",
       "      <td>PjuGyibs</td>\n",
       "      <td>NaN</td>\n",
       "      <td>19/06/2023 08:41 PM</td>\n",
       "      <td>NaN</td>\n",
       "      <td>NaN</td>\n",
       "      <td>Elaine Jax</td>\n",
       "      <td>Vera Ludvík</td>\n",
       "      <td>Open</td>\n",
       "      <td>Spain_plan</td>\n",
       "      <td>NaN</td>\n",
       "    </tr>\n",
       "  </tbody>\n",
       "</table>\n",
       "<p>30191 rows × 10 columns</p>\n",
       "</div>"
      ],
      "text/plain": [
       "             Id Parent_Id         Date_created             Due_date  \\\n",
       "0      NQjKOTnh    wb18gG  04/06/2023 09:47 AM  2023/09/09 06:19 AM   \n",
       "1      uDbetnjg       NaN  20/07/2023 07:02 PM  2023/14/09 02:31 PM   \n",
       "2      FYRoQXCm       NaN  30/04/2023 06:31 AM  2023/05/08 06:08 PM   \n",
       "3      FLIKQF18    fLDxcx  24/05/2023 05:28 PM  2023/27/06 03:39 AM   \n",
       "4      KF5debhv       NaN  16/03/2023 05:24 PM  2023/16/10 05:24 PM   \n",
       "...         ...       ...                  ...                  ...   \n",
       "30186  ohevpgdv       NaN  08/04/2023 12:10 AM  2023/26/11 06:04 PM   \n",
       "30187  q9MaOfoT       NaN  10/06/2023 05:39 PM  2023/28/06 08:01 AM   \n",
       "30188  cqMrBVRN    rr38mu  21/04/2023 10:20 AM  2023/07/11 05:20 AM   \n",
       "30189  vM8M01ib       NaN  30/03/2023 01:05 AM  2023/22/06 01:02 AM   \n",
       "30190  PjuGyibs       NaN  19/06/2023 08:41 PM                  NaN   \n",
       "\n",
       "                                Title       Assigned_to Supervisor_leader  \\\n",
       "0      aAt7u8TVNyM5WUTRkxQvsPJ4y7M9nO      Karter Harve    Geghard Fester   \n",
       "1      X2L8gwwGPCg4epck1IdFeQQAZzaypc     Royle Jacinda       Kaj Gunnarr   \n",
       "2      w1QF1TyO4QODQNefWTmZYdNgsL0Wz2     Royle Jacinda       Kaj Gunnarr   \n",
       "3                                 NaN     Royle Jacinda       Kaj Gunnarr   \n",
       "4                                 NaN     Royle Jacinda    Geghard Fester   \n",
       "...                               ...               ...               ...   \n",
       "30186                             NaN  Bernetta Barrett       Vera Ludvík   \n",
       "30187                             NaN  Phemie Constance    Luvinia Honora   \n",
       "30188                             NaN     Lorelle Rylan       Basma Engel   \n",
       "30189                             NaN        Elaine Jax       Vera Ludvík   \n",
       "30190                             NaN        Elaine Jax       Vera Ludvík   \n",
       "\n",
       "          State   Site_name  count_id  \n",
       "0      Progress     US_plan       1.0  \n",
       "1       Pending         NaN       NaN  \n",
       "2       Pending     US_plan       NaN  \n",
       "3          Open     US_plan       1.0  \n",
       "4          Open     US_plan       NaN  \n",
       "...         ...         ...       ...  \n",
       "30186   Pending  Spain_plan       NaN  \n",
       "30187  Progress  Spain_plan       NaN  \n",
       "30188  Progress         NaN       3.0  \n",
       "30189      Open  Spain_plan       NaN  \n",
       "30190      Open  Spain_plan       NaN  \n",
       "\n",
       "[30191 rows x 10 columns]"
      ]
     },
     "execution_count": 39,
     "metadata": {},
     "output_type": "execute_result"
    }
   ],
   "source": [
    "df"
   ]
  },
  {
   "cell_type": "code",
   "execution_count": 124,
   "metadata": {},
   "outputs": [
    {
     "name": "stdout",
     "output_type": "stream",
     "text": [
      "State     Site_name  \n",
      "Closed    German_plan    1177\n",
      "          Italy_plan     1159\n",
      "          Korea_plan     1211\n",
      "          Spain_plan     2354\n",
      "          US_plan        1193\n",
      "Open      German_plan    1214\n",
      "          Italy_plan     1198\n",
      "          Korea_plan     1199\n",
      "          Spain_plan     2247\n",
      "          US_plan        1155\n",
      "Pending   German_plan    1177\n",
      "          Italy_plan     1220\n",
      "          Korea_plan     1200\n",
      "          Spain_plan     2262\n",
      "          US_plan        1181\n",
      "Progress  German_plan    1200\n",
      "          Italy_plan     1207\n",
      "          Korea_plan     1207\n",
      "          Spain_plan     2261\n",
      "          US_plan        1168\n",
      "Name: Id, dtype: int64\n",
      "Site_name\n",
      "German_plan    4768\n",
      "Italy_plan     4784\n",
      "Korea_plan     4817\n",
      "Spain_plan     9124\n",
      "US_plan        4697\n",
      "Name: Id, dtype: int64\n",
      "State\n",
      "Closed      7586\n",
      "Open        7538\n",
      "Pending     7514\n",
      "Progress    7553\n",
      "Name: Id, dtype: int64\n"
     ]
    }
   ],
   "source": [
    "print(df.groupby([\"State\", \"Site_name\"])[\"Id\"].count())\n",
    "print(df.groupby([\"Site_name\"])[\"Id\"].count())\n",
    "print(df.groupby([\"State\"])[\"Id\"].count())"
   ]
  },
  {
   "cell_type": "code",
   "execution_count": 125,
   "metadata": {},
   "outputs": [
    {
     "name": "stdout",
     "output_type": "stream",
     "text": [
      "1step           date_created             due_date\n",
      "0  04/06/2023 09:47 AM  2023/09/09 06:19 AM\n"
     ]
    },
    {
     "data": {
      "text/html": [
       "<div>\n",
       "<style scoped>\n",
       "    .dataframe tbody tr th:only-of-type {\n",
       "        vertical-align: middle;\n",
       "    }\n",
       "\n",
       "    .dataframe tbody tr th {\n",
       "        vertical-align: top;\n",
       "    }\n",
       "\n",
       "    .dataframe thead th {\n",
       "        text-align: right;\n",
       "    }\n",
       "</style>\n",
       "<table border=\"1\" class=\"dataframe\">\n",
       "  <thead>\n",
       "    <tr style=\"text-align: right;\">\n",
       "      <th></th>\n",
       "      <th>id</th>\n",
       "      <th>parent_id</th>\n",
       "      <th>date_created</th>\n",
       "      <th>due_date</th>\n",
       "      <th>title</th>\n",
       "      <th>assigned_to</th>\n",
       "      <th>supervisor_leader</th>\n",
       "      <th>state</th>\n",
       "      <th>site_name</th>\n",
       "    </tr>\n",
       "  </thead>\n",
       "  <tbody>\n",
       "    <tr>\n",
       "      <th>0</th>\n",
       "      <td>NQjKOTnh</td>\n",
       "      <td>wb18gG</td>\n",
       "      <td>2023-06-04 09:47:00</td>\n",
       "      <td>2023-09-09 06:19:00</td>\n",
       "      <td>aAt7u8TVNyM5WUTRkxQvsPJ4y7M9nO</td>\n",
       "      <td>Karter Harve</td>\n",
       "      <td>Geghard Fester</td>\n",
       "      <td>Progress</td>\n",
       "      <td>US_plan</td>\n",
       "    </tr>\n",
       "    <tr>\n",
       "      <th>1</th>\n",
       "      <td>uDbetnjg</td>\n",
       "      <td>NaN</td>\n",
       "      <td>2023-07-20 19:02:00</td>\n",
       "      <td>2023-09-14 14:31:00</td>\n",
       "      <td>X2L8gwwGPCg4epck1IdFeQQAZzaypc</td>\n",
       "      <td>Royle Jacinda</td>\n",
       "      <td>Kaj Gunnarr</td>\n",
       "      <td>Pending</td>\n",
       "      <td>NaN</td>\n",
       "    </tr>\n",
       "    <tr>\n",
       "      <th>2</th>\n",
       "      <td>FYRoQXCm</td>\n",
       "      <td>NaN</td>\n",
       "      <td>2023-04-30 06:31:00</td>\n",
       "      <td>2023-08-05 18:08:00</td>\n",
       "      <td>w1QF1TyO4QODQNefWTmZYdNgsL0Wz2</td>\n",
       "      <td>Royle Jacinda</td>\n",
       "      <td>Kaj Gunnarr</td>\n",
       "      <td>Pending</td>\n",
       "      <td>US_plan</td>\n",
       "    </tr>\n",
       "    <tr>\n",
       "      <th>3</th>\n",
       "      <td>FLIKQF18</td>\n",
       "      <td>fLDxcx</td>\n",
       "      <td>2023-05-24 17:28:00</td>\n",
       "      <td>2023-06-27 03:39:00</td>\n",
       "      <td>NaN</td>\n",
       "      <td>Royle Jacinda</td>\n",
       "      <td>Kaj Gunnarr</td>\n",
       "      <td>Open</td>\n",
       "      <td>US_plan</td>\n",
       "    </tr>\n",
       "    <tr>\n",
       "      <th>4</th>\n",
       "      <td>KF5debhv</td>\n",
       "      <td>NaN</td>\n",
       "      <td>2023-03-16 17:24:00</td>\n",
       "      <td>2023-10-16 17:24:00</td>\n",
       "      <td>NaN</td>\n",
       "      <td>Royle Jacinda</td>\n",
       "      <td>Geghard Fester</td>\n",
       "      <td>Open</td>\n",
       "      <td>US_plan</td>\n",
       "    </tr>\n",
       "    <tr>\n",
       "      <th>...</th>\n",
       "      <td>...</td>\n",
       "      <td>...</td>\n",
       "      <td>...</td>\n",
       "      <td>...</td>\n",
       "      <td>...</td>\n",
       "      <td>...</td>\n",
       "      <td>...</td>\n",
       "      <td>...</td>\n",
       "      <td>...</td>\n",
       "    </tr>\n",
       "    <tr>\n",
       "      <th>30186</th>\n",
       "      <td>ohevpgdv</td>\n",
       "      <td>NaN</td>\n",
       "      <td>2023-04-08 00:10:00</td>\n",
       "      <td>2023-11-26 18:04:00</td>\n",
       "      <td>NaN</td>\n",
       "      <td>Bernetta Barrett</td>\n",
       "      <td>Vera Ludvík</td>\n",
       "      <td>Pending</td>\n",
       "      <td>Spain_plan</td>\n",
       "    </tr>\n",
       "    <tr>\n",
       "      <th>30187</th>\n",
       "      <td>q9MaOfoT</td>\n",
       "      <td>NaN</td>\n",
       "      <td>2023-06-10 17:39:00</td>\n",
       "      <td>2023-06-28 08:01:00</td>\n",
       "      <td>NaN</td>\n",
       "      <td>Phemie Constance</td>\n",
       "      <td>Luvinia Honora</td>\n",
       "      <td>Progress</td>\n",
       "      <td>Spain_plan</td>\n",
       "    </tr>\n",
       "    <tr>\n",
       "      <th>30188</th>\n",
       "      <td>cqMrBVRN</td>\n",
       "      <td>rr38mu</td>\n",
       "      <td>2023-04-21 10:20:00</td>\n",
       "      <td>2023-11-07 05:20:00</td>\n",
       "      <td>NaN</td>\n",
       "      <td>Lorelle Rylan</td>\n",
       "      <td>Basma Engel</td>\n",
       "      <td>Progress</td>\n",
       "      <td>NaN</td>\n",
       "    </tr>\n",
       "    <tr>\n",
       "      <th>30189</th>\n",
       "      <td>vM8M01ib</td>\n",
       "      <td>NaN</td>\n",
       "      <td>2023-03-30 01:05:00</td>\n",
       "      <td>2023-06-22 01:02:00</td>\n",
       "      <td>NaN</td>\n",
       "      <td>Elaine Jax</td>\n",
       "      <td>Vera Ludvík</td>\n",
       "      <td>Open</td>\n",
       "      <td>Spain_plan</td>\n",
       "    </tr>\n",
       "    <tr>\n",
       "      <th>30190</th>\n",
       "      <td>PjuGyibs</td>\n",
       "      <td>NaN</td>\n",
       "      <td>2023-06-19 20:41:00</td>\n",
       "      <td>NaN</td>\n",
       "      <td>NaN</td>\n",
       "      <td>Elaine Jax</td>\n",
       "      <td>Vera Ludvík</td>\n",
       "      <td>Open</td>\n",
       "      <td>Spain_plan</td>\n",
       "    </tr>\n",
       "  </tbody>\n",
       "</table>\n",
       "<p>30191 rows × 9 columns</p>\n",
       "</div>"
      ],
      "text/plain": [
       "             id parent_id         date_created             due_date  \\\n",
       "0      NQjKOTnh    wb18gG  2023-06-04 09:47:00  2023-09-09 06:19:00   \n",
       "1      uDbetnjg       NaN  2023-07-20 19:02:00  2023-09-14 14:31:00   \n",
       "2      FYRoQXCm       NaN  2023-04-30 06:31:00  2023-08-05 18:08:00   \n",
       "3      FLIKQF18    fLDxcx  2023-05-24 17:28:00  2023-06-27 03:39:00   \n",
       "4      KF5debhv       NaN  2023-03-16 17:24:00  2023-10-16 17:24:00   \n",
       "...         ...       ...                  ...                  ...   \n",
       "30186  ohevpgdv       NaN  2023-04-08 00:10:00  2023-11-26 18:04:00   \n",
       "30187  q9MaOfoT       NaN  2023-06-10 17:39:00  2023-06-28 08:01:00   \n",
       "30188  cqMrBVRN    rr38mu  2023-04-21 10:20:00  2023-11-07 05:20:00   \n",
       "30189  vM8M01ib       NaN  2023-03-30 01:05:00  2023-06-22 01:02:00   \n",
       "30190  PjuGyibs       NaN  2023-06-19 20:41:00                  NaN   \n",
       "\n",
       "                                title       assigned_to supervisor_leader  \\\n",
       "0      aAt7u8TVNyM5WUTRkxQvsPJ4y7M9nO      Karter Harve    Geghard Fester   \n",
       "1      X2L8gwwGPCg4epck1IdFeQQAZzaypc     Royle Jacinda       Kaj Gunnarr   \n",
       "2      w1QF1TyO4QODQNefWTmZYdNgsL0Wz2     Royle Jacinda       Kaj Gunnarr   \n",
       "3                                 NaN     Royle Jacinda       Kaj Gunnarr   \n",
       "4                                 NaN     Royle Jacinda    Geghard Fester   \n",
       "...                               ...               ...               ...   \n",
       "30186                             NaN  Bernetta Barrett       Vera Ludvík   \n",
       "30187                             NaN  Phemie Constance    Luvinia Honora   \n",
       "30188                             NaN     Lorelle Rylan       Basma Engel   \n",
       "30189                             NaN        Elaine Jax       Vera Ludvík   \n",
       "30190                             NaN        Elaine Jax       Vera Ludvík   \n",
       "\n",
       "          state   site_name  \n",
       "0      Progress     US_plan  \n",
       "1       Pending         NaN  \n",
       "2       Pending     US_plan  \n",
       "3          Open     US_plan  \n",
       "4          Open     US_plan  \n",
       "...         ...         ...  \n",
       "30186   Pending  Spain_plan  \n",
       "30187  Progress  Spain_plan  \n",
       "30188  Progress         NaN  \n",
       "30189      Open  Spain_plan  \n",
       "30190      Open  Spain_plan  \n",
       "\n",
       "[30191 rows x 9 columns]"
      ]
     },
     "execution_count": 125,
     "metadata": {},
     "output_type": "execute_result"
    }
   ],
   "source": [
    "## let's use ISO 8601 timestamp format YYYY-MM-DDTH:MM:SS \n",
    "# This format provides a standardized representation of dates and times and is widely supported across different database systems and programming languages.\n",
    "# Using the ISO 8601 timestamp format ensures consistency, makes it easier to sort and compare dates, and avoids any ambiguity \n",
    "# that can arise from different date formats used in different regions or systems.\n",
    "df.columns = df.columns.str.lower()\n",
    "actual_date_format = {\n",
    "    'date_created': \"%d/%m/%Y %I:%M %p\",\n",
    "    'due_date': \"%Y/%d/%m %I:%M %p\"\n",
    "}\n",
    "new_date_format = \"%Y-%m-%d %H:%M:%S\"\n",
    "\n",
    "print('1step',df[[\"date_created\", \"due_date\"]].head(1))\n",
    "\n",
    "def convert_date_columns(df, actual_date_format, new_date_format):\n",
    "    for col, fmt in actual_date_format.items():\n",
    "        df[col] = pd.to_datetime(df[col], format=fmt)\n",
    "        df[col] = df[col].dt.strftime(new_date_format)\n",
    "    return df\n",
    "\n",
    "df = convert_date_columns(df, actual_date_format, new_date_format)\n",
    "df"
   ]
  },
  {
   "cell_type": "code",
   "execution_count": 126,
   "metadata": {},
   "outputs": [
    {
     "data": {
      "text/html": [
       "<div>\n",
       "<style scoped>\n",
       "    .dataframe tbody tr th:only-of-type {\n",
       "        vertical-align: middle;\n",
       "    }\n",
       "\n",
       "    .dataframe tbody tr th {\n",
       "        vertical-align: top;\n",
       "    }\n",
       "\n",
       "    .dataframe thead th {\n",
       "        text-align: right;\n",
       "    }\n",
       "</style>\n",
       "<table border=\"1\" class=\"dataframe\">\n",
       "  <thead>\n",
       "    <tr style=\"text-align: right;\">\n",
       "      <th></th>\n",
       "      <th>id</th>\n",
       "      <th>parent_id</th>\n",
       "      <th>date_created</th>\n",
       "      <th>due_date</th>\n",
       "      <th>title</th>\n",
       "      <th>assigned_to</th>\n",
       "      <th>supervisor_leader</th>\n",
       "      <th>state</th>\n",
       "      <th>site_name</th>\n",
       "    </tr>\n",
       "  </thead>\n",
       "  <tbody>\n",
       "    <tr>\n",
       "      <th>0</th>\n",
       "      <td>NQjKOTnh</td>\n",
       "      <td>wb18gG</td>\n",
       "      <td>2023-06-04 09:47:00</td>\n",
       "      <td>2023-09-09 06:19:00</td>\n",
       "      <td>aAt7u8TVNyM5WUTRkxQvsPJ4y7M9nO</td>\n",
       "      <td>Karter Harve</td>\n",
       "      <td>Geghard Fester</td>\n",
       "      <td>Progress</td>\n",
       "      <td>US_plan</td>\n",
       "    </tr>\n",
       "    <tr>\n",
       "      <th>1</th>\n",
       "      <td>uDbetnjg</td>\n",
       "      <td>NaN</td>\n",
       "      <td>2023-07-20 19:02:00</td>\n",
       "      <td>2023-09-14 14:31:00</td>\n",
       "      <td>X2L8gwwGPCg4epck1IdFeQQAZzaypc</td>\n",
       "      <td>Royle Jacinda</td>\n",
       "      <td>Kaj Gunnarr</td>\n",
       "      <td>Pending</td>\n",
       "      <td>NaN</td>\n",
       "    </tr>\n",
       "    <tr>\n",
       "      <th>2</th>\n",
       "      <td>FYRoQXCm</td>\n",
       "      <td>NaN</td>\n",
       "      <td>2023-04-30 06:31:00</td>\n",
       "      <td>2023-08-05 18:08:00</td>\n",
       "      <td>w1QF1TyO4QODQNefWTmZYdNgsL0Wz2</td>\n",
       "      <td>Royle Jacinda</td>\n",
       "      <td>Kaj Gunnarr</td>\n",
       "      <td>Pending</td>\n",
       "      <td>US_plan</td>\n",
       "    </tr>\n",
       "    <tr>\n",
       "      <th>3</th>\n",
       "      <td>FLIKQF18</td>\n",
       "      <td>fLDxcx</td>\n",
       "      <td>2023-05-24 17:28:00</td>\n",
       "      <td>2023-06-27 03:39:00</td>\n",
       "      <td>NaN</td>\n",
       "      <td>Royle Jacinda</td>\n",
       "      <td>Kaj Gunnarr</td>\n",
       "      <td>Open</td>\n",
       "      <td>US_plan</td>\n",
       "    </tr>\n",
       "    <tr>\n",
       "      <th>4</th>\n",
       "      <td>KF5debhv</td>\n",
       "      <td>NaN</td>\n",
       "      <td>2023-03-16 17:24:00</td>\n",
       "      <td>2023-10-16 17:24:00</td>\n",
       "      <td>NaN</td>\n",
       "      <td>Royle Jacinda</td>\n",
       "      <td>Geghard Fester</td>\n",
       "      <td>Open</td>\n",
       "      <td>US_plan</td>\n",
       "    </tr>\n",
       "    <tr>\n",
       "      <th>...</th>\n",
       "      <td>...</td>\n",
       "      <td>...</td>\n",
       "      <td>...</td>\n",
       "      <td>...</td>\n",
       "      <td>...</td>\n",
       "      <td>...</td>\n",
       "      <td>...</td>\n",
       "      <td>...</td>\n",
       "      <td>...</td>\n",
       "    </tr>\n",
       "    <tr>\n",
       "      <th>30186</th>\n",
       "      <td>ohevpgdv</td>\n",
       "      <td>NaN</td>\n",
       "      <td>2023-04-08 00:10:00</td>\n",
       "      <td>2023-11-26 18:04:00</td>\n",
       "      <td>NaN</td>\n",
       "      <td>Bernetta Barrett</td>\n",
       "      <td>Vera Ludvík</td>\n",
       "      <td>Pending</td>\n",
       "      <td>Spain_plan</td>\n",
       "    </tr>\n",
       "    <tr>\n",
       "      <th>30187</th>\n",
       "      <td>q9MaOfoT</td>\n",
       "      <td>NaN</td>\n",
       "      <td>2023-06-10 17:39:00</td>\n",
       "      <td>2023-06-28 08:01:00</td>\n",
       "      <td>NaN</td>\n",
       "      <td>Phemie Constance</td>\n",
       "      <td>Luvinia Honora</td>\n",
       "      <td>Progress</td>\n",
       "      <td>Spain_plan</td>\n",
       "    </tr>\n",
       "    <tr>\n",
       "      <th>30188</th>\n",
       "      <td>cqMrBVRN</td>\n",
       "      <td>rr38mu</td>\n",
       "      <td>2023-04-21 10:20:00</td>\n",
       "      <td>2023-11-07 05:20:00</td>\n",
       "      <td>NaN</td>\n",
       "      <td>Lorelle Rylan</td>\n",
       "      <td>Basma Engel</td>\n",
       "      <td>Progress</td>\n",
       "      <td>NaN</td>\n",
       "    </tr>\n",
       "    <tr>\n",
       "      <th>30189</th>\n",
       "      <td>vM8M01ib</td>\n",
       "      <td>NaN</td>\n",
       "      <td>2023-03-30 01:05:00</td>\n",
       "      <td>2023-06-22 01:02:00</td>\n",
       "      <td>NaN</td>\n",
       "      <td>Elaine Jax</td>\n",
       "      <td>Vera Ludvík</td>\n",
       "      <td>Open</td>\n",
       "      <td>Spain_plan</td>\n",
       "    </tr>\n",
       "    <tr>\n",
       "      <th>30190</th>\n",
       "      <td>PjuGyibs</td>\n",
       "      <td>NaN</td>\n",
       "      <td>2023-06-19 20:41:00</td>\n",
       "      <td>1970-01-02 00:00:00</td>\n",
       "      <td>NaN</td>\n",
       "      <td>Elaine Jax</td>\n",
       "      <td>Vera Ludvík</td>\n",
       "      <td>Open</td>\n",
       "      <td>Spain_plan</td>\n",
       "    </tr>\n",
       "  </tbody>\n",
       "</table>\n",
       "<p>30191 rows × 9 columns</p>\n",
       "</div>"
      ],
      "text/plain": [
       "             id parent_id         date_created             due_date  \\\n",
       "0      NQjKOTnh    wb18gG  2023-06-04 09:47:00  2023-09-09 06:19:00   \n",
       "1      uDbetnjg       NaN  2023-07-20 19:02:00  2023-09-14 14:31:00   \n",
       "2      FYRoQXCm       NaN  2023-04-30 06:31:00  2023-08-05 18:08:00   \n",
       "3      FLIKQF18    fLDxcx  2023-05-24 17:28:00  2023-06-27 03:39:00   \n",
       "4      KF5debhv       NaN  2023-03-16 17:24:00  2023-10-16 17:24:00   \n",
       "...         ...       ...                  ...                  ...   \n",
       "30186  ohevpgdv       NaN  2023-04-08 00:10:00  2023-11-26 18:04:00   \n",
       "30187  q9MaOfoT       NaN  2023-06-10 17:39:00  2023-06-28 08:01:00   \n",
       "30188  cqMrBVRN    rr38mu  2023-04-21 10:20:00  2023-11-07 05:20:00   \n",
       "30189  vM8M01ib       NaN  2023-03-30 01:05:00  2023-06-22 01:02:00   \n",
       "30190  PjuGyibs       NaN  2023-06-19 20:41:00  1970-01-02 00:00:00   \n",
       "\n",
       "                                title       assigned_to supervisor_leader  \\\n",
       "0      aAt7u8TVNyM5WUTRkxQvsPJ4y7M9nO      Karter Harve    Geghard Fester   \n",
       "1      X2L8gwwGPCg4epck1IdFeQQAZzaypc     Royle Jacinda       Kaj Gunnarr   \n",
       "2      w1QF1TyO4QODQNefWTmZYdNgsL0Wz2     Royle Jacinda       Kaj Gunnarr   \n",
       "3                                 NaN     Royle Jacinda       Kaj Gunnarr   \n",
       "4                                 NaN     Royle Jacinda    Geghard Fester   \n",
       "...                               ...               ...               ...   \n",
       "30186                             NaN  Bernetta Barrett       Vera Ludvík   \n",
       "30187                             NaN  Phemie Constance    Luvinia Honora   \n",
       "30188                             NaN     Lorelle Rylan       Basma Engel   \n",
       "30189                             NaN        Elaine Jax       Vera Ludvík   \n",
       "30190                             NaN        Elaine Jax       Vera Ludvík   \n",
       "\n",
       "          state   site_name  \n",
       "0      Progress     US_plan  \n",
       "1       Pending         NaN  \n",
       "2       Pending     US_plan  \n",
       "3          Open     US_plan  \n",
       "4          Open     US_plan  \n",
       "...         ...         ...  \n",
       "30186   Pending  Spain_plan  \n",
       "30187  Progress  Spain_plan  \n",
       "30188  Progress         NaN  \n",
       "30189      Open  Spain_plan  \n",
       "30190      Open  Spain_plan  \n",
       "\n",
       "[30191 rows x 9 columns]"
      ]
     },
     "execution_count": 126,
     "metadata": {},
     "output_type": "execute_result"
    }
   ],
   "source": [
    "date_columns = [\"date_created\", \"due_date\"]\n",
    "default_date = \"1970-01-02 00:00:0\"\n",
    "def replace_null_date(df, columns_list, default_date):\n",
    "    default_date = pd.to_datetime(default_date)\n",
    "    for col in columns_list:\n",
    "        df[col].fillna(default_date, inplace=True)\n",
    "    return df\n",
    "\n",
    "df = replace_null_date(df, date_columns, default_date)\n",
    "df"
   ]
  },
  {
   "cell_type": "code",
   "execution_count": 128,
   "metadata": {},
   "outputs": [
    {
     "data": {
      "text/html": [
       "<div>\n",
       "<style scoped>\n",
       "    .dataframe tbody tr th:only-of-type {\n",
       "        vertical-align: middle;\n",
       "    }\n",
       "\n",
       "    .dataframe tbody tr th {\n",
       "        vertical-align: top;\n",
       "    }\n",
       "\n",
       "    .dataframe thead th {\n",
       "        text-align: right;\n",
       "    }\n",
       "</style>\n",
       "<table border=\"1\" class=\"dataframe\">\n",
       "  <thead>\n",
       "    <tr style=\"text-align: right;\">\n",
       "      <th></th>\n",
       "      <th>id</th>\n",
       "      <th>parent_id</th>\n",
       "      <th>date_created</th>\n",
       "      <th>due_date</th>\n",
       "      <th>title</th>\n",
       "      <th>assigned_to</th>\n",
       "      <th>supervisor_leader</th>\n",
       "      <th>state</th>\n",
       "      <th>site_name</th>\n",
       "    </tr>\n",
       "  </thead>\n",
       "  <tbody>\n",
       "    <tr>\n",
       "      <th>1489</th>\n",
       "      <td>JKUmENPu</td>\n",
       "      <td>IOj4gc</td>\n",
       "      <td>2023-03-26 02:56:00</td>\n",
       "      <td>2023-08-12 16:43:00</td>\n",
       "      <td>IiqXeHNGEVBmsT96XiDMPgtcnRMLGB</td>\n",
       "      <td>Adela Skylar</td>\n",
       "      <td>Geghard Fester</td>\n",
       "      <td>Open</td>\n",
       "      <td>US_plan</td>\n",
       "    </tr>\n",
       "    <tr>\n",
       "      <th>2107</th>\n",
       "      <td>HTDOaaxi</td>\n",
       "      <td>M7MQSc</td>\n",
       "      <td>2023-03-26 02:56:00</td>\n",
       "      <td>2023-06-22 12:41:00</td>\n",
       "      <td>N5GaPoXczlpmcPEGwSOlvbCp3nT0KC</td>\n",
       "      <td>Royle Jacinda</td>\n",
       "      <td>Jyotsana Magda</td>\n",
       "      <td>Pending</td>\n",
       "      <td>US_plan</td>\n",
       "    </tr>\n",
       "    <tr>\n",
       "      <th>7973</th>\n",
       "      <td>C8LEJvzq</td>\n",
       "      <td>NaN</td>\n",
       "      <td>2023-03-26 02:56:00</td>\n",
       "      <td>2023-10-17 08:34:00</td>\n",
       "      <td>Eyt7lsCyNHmX9tR4k37ZNpLtJ4dz6c</td>\n",
       "      <td>Brandee Belinda</td>\n",
       "      <td>Aubrianna Yusuf</td>\n",
       "      <td>Progress</td>\n",
       "      <td>Korea_plan</td>\n",
       "    </tr>\n",
       "    <tr>\n",
       "      <th>10721</th>\n",
       "      <td>xX1cXRfo</td>\n",
       "      <td>e3BvNt</td>\n",
       "      <td>2023-03-26 02:56:00</td>\n",
       "      <td>2023-11-01 09:24:00</td>\n",
       "      <td>NaN</td>\n",
       "      <td>Heather Delaney</td>\n",
       "      <td>Maximiano Harshad</td>\n",
       "      <td>Open</td>\n",
       "      <td>Italy_plan</td>\n",
       "    </tr>\n",
       "    <tr>\n",
       "      <th>14882</th>\n",
       "      <td>pyixZmHQ</td>\n",
       "      <td>46bl2q</td>\n",
       "      <td>2023-03-26 02:56:00</td>\n",
       "      <td>2023-07-21 08:35:00</td>\n",
       "      <td>gMuzIjPO3M1fiISsUBeFS7hqmFDugj</td>\n",
       "      <td>Benji Kaydence</td>\n",
       "      <td>Maximiano Harshad</td>\n",
       "      <td>Open</td>\n",
       "      <td>Italy_plan</td>\n",
       "    </tr>\n",
       "    <tr>\n",
       "      <th>24361</th>\n",
       "      <td>Ym8Xlva1</td>\n",
       "      <td>NaN</td>\n",
       "      <td>2023-03-26 02:56:00</td>\n",
       "      <td>2023-09-18 00:50:00</td>\n",
       "      <td>NaN</td>\n",
       "      <td>Tenley Rhetta</td>\n",
       "      <td>Dmytro Broccán</td>\n",
       "      <td>Progress</td>\n",
       "      <td>NaN</td>\n",
       "    </tr>\n",
       "  </tbody>\n",
       "</table>\n",
       "</div>"
      ],
      "text/plain": [
       "             id parent_id         date_created             due_date  \\\n",
       "1489   JKUmENPu    IOj4gc  2023-03-26 02:56:00  2023-08-12 16:43:00   \n",
       "2107   HTDOaaxi    M7MQSc  2023-03-26 02:56:00  2023-06-22 12:41:00   \n",
       "7973   C8LEJvzq       NaN  2023-03-26 02:56:00  2023-10-17 08:34:00   \n",
       "10721  xX1cXRfo    e3BvNt  2023-03-26 02:56:00  2023-11-01 09:24:00   \n",
       "14882  pyixZmHQ    46bl2q  2023-03-26 02:56:00  2023-07-21 08:35:00   \n",
       "24361  Ym8Xlva1       NaN  2023-03-26 02:56:00  2023-09-18 00:50:00   \n",
       "\n",
       "                                title      assigned_to  supervisor_leader  \\\n",
       "1489   IiqXeHNGEVBmsT96XiDMPgtcnRMLGB     Adela Skylar     Geghard Fester   \n",
       "2107   N5GaPoXczlpmcPEGwSOlvbCp3nT0KC    Royle Jacinda     Jyotsana Magda   \n",
       "7973   Eyt7lsCyNHmX9tR4k37ZNpLtJ4dz6c  Brandee Belinda    Aubrianna Yusuf   \n",
       "10721                             NaN  Heather Delaney  Maximiano Harshad   \n",
       "14882  gMuzIjPO3M1fiISsUBeFS7hqmFDugj   Benji Kaydence  Maximiano Harshad   \n",
       "24361                             NaN    Tenley Rhetta     Dmytro Broccán   \n",
       "\n",
       "          state   site_name  \n",
       "1489       Open     US_plan  \n",
       "2107    Pending     US_plan  \n",
       "7973   Progress  Korea_plan  \n",
       "10721      Open  Italy_plan  \n",
       "14882      Open  Italy_plan  \n",
       "24361  Progress         NaN  "
      ]
     },
     "execution_count": 128,
     "metadata": {},
     "output_type": "execute_result"
    }
   ],
   "source": [
    "xx = df[df[\"date_created\"]==\"2023-03-26 02:56:00\"]\n",
    "xx "
   ]
  },
  {
   "cell_type": "code",
   "execution_count": 130,
   "metadata": {},
   "outputs": [
    {
     "data": {
      "text/plain": [
       "1489     2023-03-26 02:56:00\n",
       "2107     2023-03-26 02:56:00\n",
       "7973     2023-03-26 02:56:00\n",
       "10721    2023-03-26 02:56:00\n",
       "14882    2023-03-26 02:56:00\n",
       "24361    2023-03-26 02:56:00\n",
       "Name: date_created, dtype: object"
      ]
     },
     "execution_count": 130,
     "metadata": {},
     "output_type": "execute_result"
    }
   ],
   "source": [
    "xx[\"date_created\"]"
   ]
  },
  {
   "cell_type": "code",
   "execution_count": 136,
   "metadata": {},
   "outputs": [
    {
     "data": {
      "text/html": [
       "<div>\n",
       "<style scoped>\n",
       "    .dataframe tbody tr th:only-of-type {\n",
       "        vertical-align: middle;\n",
       "    }\n",
       "\n",
       "    .dataframe tbody tr th {\n",
       "        vertical-align: top;\n",
       "    }\n",
       "\n",
       "    .dataframe thead th {\n",
       "        text-align: right;\n",
       "    }\n",
       "</style>\n",
       "<table border=\"1\" class=\"dataframe\">\n",
       "  <thead>\n",
       "    <tr style=\"text-align: right;\">\n",
       "      <th></th>\n",
       "      <th>id</th>\n",
       "      <th>parent_id</th>\n",
       "      <th>date_created</th>\n",
       "      <th>due_date</th>\n",
       "      <th>title</th>\n",
       "      <th>assigned_to</th>\n",
       "      <th>supervisor_leader</th>\n",
       "      <th>state</th>\n",
       "      <th>site_name</th>\n",
       "    </tr>\n",
       "  </thead>\n",
       "  <tbody>\n",
       "    <tr>\n",
       "      <th>1489</th>\n",
       "      <td>JKUmENPu</td>\n",
       "      <td>IOj4gc</td>\n",
       "      <td>2023-03-26 02:56:00</td>\n",
       "      <td>2023-08-12 16:43:00</td>\n",
       "      <td>IiqXeHNGEVBmsT96XiDMPgtcnRMLGB</td>\n",
       "      <td>Adela Skylar</td>\n",
       "      <td>Geghard Fester</td>\n",
       "      <td>Open</td>\n",
       "      <td>US_plan</td>\n",
       "    </tr>\n",
       "    <tr>\n",
       "      <th>11669</th>\n",
       "      <td>JKUmENPu</td>\n",
       "      <td>NaN</td>\n",
       "      <td>2023-07-28 09:11:00</td>\n",
       "      <td>2023-06-25 14:19:00</td>\n",
       "      <td>wsiKOIfj9mpZq79oE3FP7PtdcgPKZz</td>\n",
       "      <td>Helen Sherri</td>\n",
       "      <td>Maximiano Harshad</td>\n",
       "      <td>Closed</td>\n",
       "      <td>Italy_plan</td>\n",
       "    </tr>\n",
       "  </tbody>\n",
       "</table>\n",
       "</div>"
      ],
      "text/plain": [
       "             id parent_id         date_created             due_date  \\\n",
       "1489   JKUmENPu    IOj4gc  2023-03-26 02:56:00  2023-08-12 16:43:00   \n",
       "11669  JKUmENPu       NaN  2023-07-28 09:11:00  2023-06-25 14:19:00   \n",
       "\n",
       "                                title   assigned_to  supervisor_leader  \\\n",
       "1489   IiqXeHNGEVBmsT96XiDMPgtcnRMLGB  Adela Skylar     Geghard Fester   \n",
       "11669  wsiKOIfj9mpZq79oE3FP7PtdcgPKZz  Helen Sherri  Maximiano Harshad   \n",
       "\n",
       "        state   site_name  \n",
       "1489     Open     US_plan  \n",
       "11669  Closed  Italy_plan  "
      ]
     },
     "execution_count": 136,
     "metadata": {},
     "output_type": "execute_result"
    }
   ],
   "source": [
    "perso = df[df[\"id\"]==\"JKUmENPu\"]\n",
    "perso\n",
    "\n"
   ]
  },
  {
   "cell_type": "code",
   "execution_count": 151,
   "metadata": {},
   "outputs": [
    {
     "name": "stdout",
     "output_type": "stream",
     "text": [
      "19\n",
      "19\n"
     ]
    }
   ],
   "source": [
    "column_values = perso['date_created']\n",
    "\n",
    "for value in column_values:\n",
    "    if isinstance(value, str):\n",
    "        print(len(value))\n",
    "    else:\n",
    "        print(\"Not a string value\")"
   ]
  },
  {
   "cell_type": "code",
   "execution_count": 155,
   "metadata": {},
   "outputs": [
    {
     "data": {
      "text/html": [
       "<div>\n",
       "<style scoped>\n",
       "    .dataframe tbody tr th:only-of-type {\n",
       "        vertical-align: middle;\n",
       "    }\n",
       "\n",
       "    .dataframe tbody tr th {\n",
       "        vertical-align: top;\n",
       "    }\n",
       "\n",
       "    .dataframe thead th {\n",
       "        text-align: right;\n",
       "    }\n",
       "</style>\n",
       "<table border=\"1\" class=\"dataframe\">\n",
       "  <thead>\n",
       "    <tr style=\"text-align: right;\">\n",
       "      <th></th>\n",
       "      <th>id</th>\n",
       "      <th>parent_id</th>\n",
       "      <th>date_created</th>\n",
       "      <th>due_date</th>\n",
       "      <th>title</th>\n",
       "      <th>assigned_to</th>\n",
       "      <th>supervisor_leader</th>\n",
       "      <th>state</th>\n",
       "      <th>site_name</th>\n",
       "    </tr>\n",
       "  </thead>\n",
       "  <tbody>\n",
       "    <tr>\n",
       "      <th>1489</th>\n",
       "      <td>JKUmENPu</td>\n",
       "      <td>IOj4gc</td>\n",
       "      <td>2023-03-26 02:56:00</td>\n",
       "      <td>2023-08-12 16:43:00</td>\n",
       "      <td>IiqXeHNGEVBmsT96XiDMPgtcnRMLGB</td>\n",
       "      <td>Adela Skylar</td>\n",
       "      <td>Geghard Fester</td>\n",
       "      <td>Open</td>\n",
       "      <td>US_plan</td>\n",
       "    </tr>\n",
       "    <tr>\n",
       "      <th>11669</th>\n",
       "      <td>JKUmENPu</td>\n",
       "      <td>NaN</td>\n",
       "      <td>2023-07-28 09:11:00</td>\n",
       "      <td>2023-06-25 14:19:00</td>\n",
       "      <td>wsiKOIfj9mpZq79oE3FP7PtdcgPKZz</td>\n",
       "      <td>Helen Sherri</td>\n",
       "      <td>Maximiano Harshad</td>\n",
       "      <td>Closed</td>\n",
       "      <td>Italy_plan</td>\n",
       "    </tr>\n",
       "  </tbody>\n",
       "</table>\n",
       "</div>"
      ],
      "text/plain": [
       "             id parent_id         date_created             due_date  \\\n",
       "1489   JKUmENPu    IOj4gc  2023-03-26 02:56:00  2023-08-12 16:43:00   \n",
       "11669  JKUmENPu       NaN  2023-07-28 09:11:00  2023-06-25 14:19:00   \n",
       "\n",
       "                                title   assigned_to  supervisor_leader  \\\n",
       "1489   IiqXeHNGEVBmsT96XiDMPgtcnRMLGB  Adela Skylar     Geghard Fester   \n",
       "11669  wsiKOIfj9mpZq79oE3FP7PtdcgPKZz  Helen Sherri  Maximiano Harshad   \n",
       "\n",
       "        state   site_name  \n",
       "1489     Open     US_plan  \n",
       "11669  Closed  Italy_plan  "
      ]
     },
     "execution_count": 155,
     "metadata": {},
     "output_type": "execute_result"
    }
   ],
   "source": [
    "perso"
   ]
  },
  {
   "cell_type": "code",
   "execution_count": 177,
   "metadata": {},
   "outputs": [
    {
     "name": "stdout",
     "output_type": "stream",
     "text": [
      "date_created %d/%m/%Y %I:%M %p\n",
      "due_date %Y/%d/%m %I:%M %p\n"
     ]
    },
    {
     "data": {
      "text/html": [
       "<div>\n",
       "<style scoped>\n",
       "    .dataframe tbody tr th:only-of-type {\n",
       "        vertical-align: middle;\n",
       "    }\n",
       "\n",
       "    .dataframe tbody tr th {\n",
       "        vertical-align: top;\n",
       "    }\n",
       "\n",
       "    .dataframe thead th {\n",
       "        text-align: right;\n",
       "    }\n",
       "</style>\n",
       "<table border=\"1\" class=\"dataframe\">\n",
       "  <thead>\n",
       "    <tr style=\"text-align: right;\">\n",
       "      <th></th>\n",
       "      <th>date_created</th>\n",
       "      <th>due_date</th>\n",
       "    </tr>\n",
       "  </thead>\n",
       "  <tbody>\n",
       "    <tr>\n",
       "      <th>1489</th>\n",
       "      <td>2023-03-26 02:56:00</td>\n",
       "      <td>2023-08-12 16:43:00</td>\n",
       "    </tr>\n",
       "    <tr>\n",
       "      <th>11669</th>\n",
       "      <td>2023-07-28 09:11:00</td>\n",
       "      <td>2023-06-25 14:19:00</td>\n",
       "    </tr>\n",
       "  </tbody>\n",
       "</table>\n",
       "</div>"
      ],
      "text/plain": [
       "              date_created             due_date\n",
       "1489   2023-03-26 02:56:00  2023-08-12 16:43:00\n",
       "11669  2023-07-28 09:11:00  2023-06-25 14:19:00"
      ]
     },
     "execution_count": 177,
     "metadata": {},
     "output_type": "execute_result"
    }
   ],
   "source": [
    "df.columns = df.columns.str.lower()\n",
    "ff=df[df[\"id\"]==\"JKUmENPu\"].head(2)\n",
    "\n",
    "actual_date_format = {\n",
    "    'date_created': \"%d/%m/%Y %I:%M %p\",\n",
    "    'due_date': \"%Y/%d/%m %I:%M %p\"\n",
    "}\n",
    "new_date_format = \"%Y-%m-%d %H:%M:%S\"\n",
    "\n",
    "for col, fmt in actual_date_format.items():\n",
    "    print(col, fmt)\n",
    "\n",
    "def convert_date_columns(df, actual_date_format, new_date_format):\n",
    "    for col, fmt in actual_date_format.items():\n",
    "        df[col] = pd.to_datetime(df[col], format=fmt)\n",
    "        df[col] = df[col].dt.strftime(new_date_format)\n",
    "    return df\n",
    "\n",
    "ff = convert_date_columns(ff, actual_date_format, new_date_format)\n",
    "ff[[\"date_created\", \"due_date\"]]"
   ]
  },
  {
   "cell_type": "code",
   "execution_count": 178,
   "metadata": {},
   "outputs": [],
   "source": [
    "import pytz\n",
    "\n",
    "local_timezone = pytz.timezone('Asia/Kathmandu')  # Specify your local time zone\n",
    "utc_timezone = pytz.timezone('UTC')  # UTC time zone\n",
    "\n",
    "ff['date_created'] = pd.to_datetime(ff['date_created']).dt.tz_localize(local_timezone).dt.tz_convert(utc_timezone)\n"
   ]
  },
  {
   "cell_type": "code",
   "execution_count": 172,
   "metadata": {},
   "outputs": [
    {
     "data": {
      "text/html": [
       "<div>\n",
       "<style scoped>\n",
       "    .dataframe tbody tr th:only-of-type {\n",
       "        vertical-align: middle;\n",
       "    }\n",
       "\n",
       "    .dataframe tbody tr th {\n",
       "        vertical-align: top;\n",
       "    }\n",
       "\n",
       "    .dataframe thead th {\n",
       "        text-align: right;\n",
       "    }\n",
       "</style>\n",
       "<table border=\"1\" class=\"dataframe\">\n",
       "  <thead>\n",
       "    <tr style=\"text-align: right;\">\n",
       "      <th></th>\n",
       "      <th>id</th>\n",
       "      <th>parent_id</th>\n",
       "      <th>date_created</th>\n",
       "      <th>due_date</th>\n",
       "      <th>title</th>\n",
       "      <th>assigned_to</th>\n",
       "      <th>supervisor_leader</th>\n",
       "      <th>state</th>\n",
       "      <th>site_name</th>\n",
       "    </tr>\n",
       "  </thead>\n",
       "  <tbody>\n",
       "    <tr>\n",
       "      <th>1489</th>\n",
       "      <td>JKUmENPu</td>\n",
       "      <td>IOj4gc</td>\n",
       "      <td>2023-03-26 02:56:00+00:00</td>\n",
       "      <td>2023-08-12 16:43:00</td>\n",
       "      <td>IiqXeHNGEVBmsT96XiDMPgtcnRMLGB</td>\n",
       "      <td>Adela Skylar</td>\n",
       "      <td>Geghard Fester</td>\n",
       "      <td>Open</td>\n",
       "      <td>US_plan</td>\n",
       "    </tr>\n",
       "    <tr>\n",
       "      <th>11669</th>\n",
       "      <td>JKUmENPu</td>\n",
       "      <td>NaN</td>\n",
       "      <td>2023-07-28 09:11:00+00:00</td>\n",
       "      <td>2023-06-25 14:19:00</td>\n",
       "      <td>wsiKOIfj9mpZq79oE3FP7PtdcgPKZz</td>\n",
       "      <td>Helen Sherri</td>\n",
       "      <td>Maximiano Harshad</td>\n",
       "      <td>Closed</td>\n",
       "      <td>Italy_plan</td>\n",
       "    </tr>\n",
       "  </tbody>\n",
       "</table>\n",
       "</div>"
      ],
      "text/plain": [
       "             id parent_id              date_created             due_date  \\\n",
       "1489   JKUmENPu    IOj4gc 2023-03-26 02:56:00+00:00  2023-08-12 16:43:00   \n",
       "11669  JKUmENPu       NaN 2023-07-28 09:11:00+00:00  2023-06-25 14:19:00   \n",
       "\n",
       "                                title   assigned_to  supervisor_leader  \\\n",
       "1489   IiqXeHNGEVBmsT96XiDMPgtcnRMLGB  Adela Skylar     Geghard Fester   \n",
       "11669  wsiKOIfj9mpZq79oE3FP7PtdcgPKZz  Helen Sherri  Maximiano Harshad   \n",
       "\n",
       "        state   site_name  \n",
       "1489     Open     US_plan  \n",
       "11669  Closed  Italy_plan  "
      ]
     },
     "execution_count": 172,
     "metadata": {},
     "output_type": "execute_result"
    }
   ],
   "source": [
    "ff"
   ]
  },
  {
   "cell_type": "code",
   "execution_count": null,
   "metadata": {},
   "outputs": [],
   "source": []
  },
  {
   "attachments": {},
   "cell_type": "markdown",
   "metadata": {},
   "source": [
    "### CSV :  LABS"
   ]
  },
  {
   "cell_type": "code",
   "execution_count": 1,
   "metadata": {},
   "outputs": [
    {
     "name": "stdout",
     "output_type": "stream",
     "text": [
      "  Labs_workcenter    Site_name Functional_area\n",
      "0        1uW0nahr      US_plan             FA3\n",
      "1        viliGEQ0   Swiss_plan             FA4\n",
      "2        FNxgawTM   Swiss_plan             FA7\n",
      "3        g90UZarW  German_plan             FA4\n",
      "4        xqWWLPGh   Korea_plan             FA2\n",
      "number of rows: 20\n"
     ]
    }
   ],
   "source": [
    "import pandas as pd\n",
    "csv_file_path = '/Users/firaterman/Downloads/jj/labs.csv'\n",
    "labs = pd.read_csv(csv_file_path)\n",
    "print(labs.head(5))\n",
    "print(\"number of rows:\", len(labs))"
   ]
  },
  {
   "cell_type": "code",
   "execution_count": 2,
   "metadata": {},
   "outputs": [
    {
     "name": "stdout",
     "output_type": "stream",
     "text": [
      "different length present in columns Labs_workcenter            [8]\n",
      "Site_name          [7, 10, 11]\n",
      "Functional_area            [3]\n",
      "dtype: object\n"
     ]
    }
   ],
   "source": [
    "# different length present in columns\n",
    "lengths = labs.apply(lambda col: col.astype(str).apply(len).unique())\n",
    "print(\"different length present in columns\", lengths)\n"
   ]
  },
  {
   "cell_type": "code",
   "execution_count": 3,
   "metadata": {},
   "outputs": [
    {
     "data": {
      "text/html": [
       "<div>\n",
       "<style scoped>\n",
       "    .dataframe tbody tr th:only-of-type {\n",
       "        vertical-align: middle;\n",
       "    }\n",
       "\n",
       "    .dataframe tbody tr th {\n",
       "        vertical-align: top;\n",
       "    }\n",
       "\n",
       "    .dataframe thead th {\n",
       "        text-align: right;\n",
       "    }\n",
       "</style>\n",
       "<table border=\"1\" class=\"dataframe\">\n",
       "  <thead>\n",
       "    <tr style=\"text-align: right;\">\n",
       "      <th></th>\n",
       "      <th>Labs_workcenter</th>\n",
       "      <th>Site_name</th>\n",
       "      <th>Functional_area</th>\n",
       "    </tr>\n",
       "  </thead>\n",
       "  <tbody>\n",
       "    <tr>\n",
       "      <th>count</th>\n",
       "      <td>20</td>\n",
       "      <td>20</td>\n",
       "      <td>17</td>\n",
       "    </tr>\n",
       "    <tr>\n",
       "      <th>unique</th>\n",
       "      <td>20</td>\n",
       "      <td>6</td>\n",
       "      <td>7</td>\n",
       "    </tr>\n",
       "    <tr>\n",
       "      <th>top</th>\n",
       "      <td>1uW0nahr</td>\n",
       "      <td>German_plan</td>\n",
       "      <td>FA4</td>\n",
       "    </tr>\n",
       "    <tr>\n",
       "      <th>freq</th>\n",
       "      <td>1</td>\n",
       "      <td>5</td>\n",
       "      <td>4</td>\n",
       "    </tr>\n",
       "  </tbody>\n",
       "</table>\n",
       "</div>"
      ],
      "text/plain": [
       "       Labs_workcenter    Site_name Functional_area\n",
       "count               20           20              17\n",
       "unique              20            6               7\n",
       "top           1uW0nahr  German_plan             FA4\n",
       "freq                 1            5               4"
      ]
     },
     "execution_count": 3,
     "metadata": {},
     "output_type": "execute_result"
    }
   ],
   "source": [
    "labs.describe()"
   ]
  },
  {
   "cell_type": "code",
   "execution_count": 4,
   "metadata": {},
   "outputs": [
    {
     "data": {
      "text/plain": [
       "Labs_workcenter    0\n",
       "Site_name          0\n",
       "Functional_area    3\n",
       "dtype: int64"
      ]
     },
     "execution_count": 4,
     "metadata": {},
     "output_type": "execute_result"
    }
   ],
   "source": [
    "\n",
    "null_counts = labs.isnull().sum()\n",
    "null_counts\n"
   ]
  },
  {
   "cell_type": "code",
   "execution_count": 5,
   "metadata": {},
   "outputs": [
    {
     "data": {
      "text/plain": [
       "Site_name\n",
       "German_plan    5\n",
       "Italy_plan     2\n",
       "Korea_plan     3\n",
       "Spain_plan     3\n",
       "Swiss_plan     4\n",
       "US_plan        3\n",
       "Name: Labs_workcenter, dtype: int64"
      ]
     },
     "execution_count": 5,
     "metadata": {},
     "output_type": "execute_result"
    }
   ],
   "source": [
    "# number of labs_workcenter by site_name\n",
    "labs.groupby(\"Site_name\")[\"Labs_workcenter\"].count()"
   ]
  },
  {
   "cell_type": "code",
   "execution_count": 8,
   "metadata": {},
   "outputs": [
    {
     "data": {
      "text/plain": [
       "array(['FA3', 'FA4', 'FA7', 'FA2', 'FA1', nan, 'FA0', 'FA5'], dtype=object)"
      ]
     },
     "execution_count": 8,
     "metadata": {},
     "output_type": "execute_result"
    }
   ],
   "source": [
    "\n",
    "labs[\"Functional_area\"].unique()"
   ]
  },
  {
   "cell_type": "code",
   "execution_count": 10,
   "metadata": {},
   "outputs": [],
   "source": [
    "import numpy as np\n",
    "labs['Functional_area'].replace('', np.nan, inplace=True)"
   ]
  },
  {
   "cell_type": "code",
   "execution_count": 12,
   "metadata": {},
   "outputs": [
    {
     "data": {
      "text/plain": [
       "array(['FA3', 'FA4', 'FA7', 'FA2', 'FA1', nan, 'FA0', 'FA5'], dtype=object)"
      ]
     },
     "execution_count": 12,
     "metadata": {},
     "output_type": "execute_result"
    }
   ],
   "source": [
    "labs[\"Functional_area\"].unique()"
   ]
  },
  {
   "attachments": {},
   "cell_type": "markdown",
   "metadata": {},
   "source": [
    "### CSV : Batch tables"
   ]
  },
  {
   "cell_type": "code",
   "execution_count": 6,
   "metadata": {},
   "outputs": [
    {
     "data": {
      "text/html": [
       "<div>\n",
       "<style scoped>\n",
       "    .dataframe tbody tr th:only-of-type {\n",
       "        vertical-align: middle;\n",
       "    }\n",
       "\n",
       "    .dataframe tbody tr th {\n",
       "        vertical-align: top;\n",
       "    }\n",
       "\n",
       "    .dataframe thead th {\n",
       "        text-align: right;\n",
       "    }\n",
       "</style>\n",
       "<table border=\"1\" class=\"dataframe\">\n",
       "  <thead>\n",
       "    <tr style=\"text-align: right;\">\n",
       "      <th></th>\n",
       "      <th>Id</th>\n",
       "      <th>Batch_Id</th>\n",
       "      <th>Name</th>\n",
       "      <th>Release_date</th>\n",
       "    </tr>\n",
       "  </thead>\n",
       "  <tbody>\n",
       "    <tr>\n",
       "      <th>0</th>\n",
       "      <td>PvCriotn</td>\n",
       "      <td>9254069</td>\n",
       "      <td>fjeukyqk</td>\n",
       "      <td>09/02/2023 12:53 PM</td>\n",
       "    </tr>\n",
       "    <tr>\n",
       "      <th>1</th>\n",
       "      <td>46aX0Wgi</td>\n",
       "      <td>8173082</td>\n",
       "      <td>vzbnmzxw</td>\n",
       "      <td>14/08/2023 11:38 PM</td>\n",
       "    </tr>\n",
       "    <tr>\n",
       "      <th>2</th>\n",
       "      <td>SQUDIvL0</td>\n",
       "      <td>4660314</td>\n",
       "      <td>zhsospit</td>\n",
       "      <td>21/02/2023 03:26 AM</td>\n",
       "    </tr>\n",
       "    <tr>\n",
       "      <th>3</th>\n",
       "      <td>Yp1x4jVK</td>\n",
       "      <td>3667107</td>\n",
       "      <td>fwrkegns</td>\n",
       "      <td>18/08/2023 06:34 PM</td>\n",
       "    </tr>\n",
       "    <tr>\n",
       "      <th>4</th>\n",
       "      <td>klEvWoIc</td>\n",
       "      <td>3165801</td>\n",
       "      <td>kxeggsaq</td>\n",
       "      <td>24/08/2023 03:15 AM</td>\n",
       "    </tr>\n",
       "  </tbody>\n",
       "</table>\n",
       "</div>"
      ],
      "text/plain": [
       "         Id  Batch_Id      Name         Release_date\n",
       "0  PvCriotn   9254069  fjeukyqk  09/02/2023 12:53 PM\n",
       "1  46aX0Wgi   8173082  vzbnmzxw  14/08/2023 11:38 PM\n",
       "2  SQUDIvL0   4660314  zhsospit  21/02/2023 03:26 AM\n",
       "3  Yp1x4jVK   3667107  fwrkegns  18/08/2023 06:34 PM\n",
       "4  klEvWoIc   3165801  kxeggsaq  24/08/2023 03:15 AM"
      ]
     },
     "execution_count": 6,
     "metadata": {},
     "output_type": "execute_result"
    }
   ],
   "source": [
    "csv_file_path = '/Users/firaterman/Downloads/jj/batches_table.csv'\n",
    "batches_tables = pd.read_csv(csv_file_path)\n",
    "batches_tables.head(5)"
   ]
  },
  {
   "cell_type": "code",
   "execution_count": 7,
   "metadata": {},
   "outputs": [
    {
     "data": {
      "text/plain": [
       "Id              12000\n",
       "Batch_Id        12000\n",
       "Name            12000\n",
       "Release_date    12000\n",
       "dtype: int64"
      ]
     },
     "execution_count": 7,
     "metadata": {},
     "output_type": "execute_result"
    }
   ],
   "source": [
    "batches_tables.count()"
   ]
  },
  {
   "cell_type": "code",
   "execution_count": 12,
   "metadata": {},
   "outputs": [
    {
     "name": "stdout",
     "output_type": "stream",
     "text": [
      "   Id  Batch_Id  Name  Release_date\n",
      "0   8         7     8            19\n",
      "8\n",
      "8\n"
     ]
    }
   ],
   "source": [
    "# different length present in columns\n",
    "lengths = batches_tables.apply(lambda col: col.astype(str).apply(len).unique())\n",
    "print(lengths)\n"
   ]
  },
  {
   "cell_type": "code",
   "execution_count": 91,
   "metadata": {},
   "outputs": [
    {
     "data": {
      "text/html": [
       "<div>\n",
       "<style scoped>\n",
       "    .dataframe tbody tr th:only-of-type {\n",
       "        vertical-align: middle;\n",
       "    }\n",
       "\n",
       "    .dataframe tbody tr th {\n",
       "        vertical-align: top;\n",
       "    }\n",
       "\n",
       "    .dataframe thead th {\n",
       "        text-align: right;\n",
       "    }\n",
       "</style>\n",
       "<table border=\"1\" class=\"dataframe\">\n",
       "  <thead>\n",
       "    <tr style=\"text-align: right;\">\n",
       "      <th></th>\n",
       "      <th>Id</th>\n",
       "      <th>Batch_Id</th>\n",
       "      <th>Name</th>\n",
       "      <th>Release_date</th>\n",
       "    </tr>\n",
       "  </thead>\n",
       "  <tbody>\n",
       "    <tr>\n",
       "      <th>count</th>\n",
       "      <td>12000</td>\n",
       "      <td>1.200000e+04</td>\n",
       "      <td>12000</td>\n",
       "      <td>12000</td>\n",
       "    </tr>\n",
       "    <tr>\n",
       "      <th>unique</th>\n",
       "      <td>8592</td>\n",
       "      <td>NaN</td>\n",
       "      <td>9052</td>\n",
       "      <td>8872</td>\n",
       "    </tr>\n",
       "    <tr>\n",
       "      <th>top</th>\n",
       "      <td>OMvnrroC</td>\n",
       "      <td>NaN</td>\n",
       "      <td>muosxqdz</td>\n",
       "      <td>23/06/2023 02:24 PM</td>\n",
       "    </tr>\n",
       "    <tr>\n",
       "      <th>freq</th>\n",
       "      <td>6</td>\n",
       "      <td>NaN</td>\n",
       "      <td>6</td>\n",
       "      <td>6</td>\n",
       "    </tr>\n",
       "    <tr>\n",
       "      <th>mean</th>\n",
       "      <td>NaN</td>\n",
       "      <td>5.512216e+06</td>\n",
       "      <td>NaN</td>\n",
       "      <td>NaN</td>\n",
       "    </tr>\n",
       "    <tr>\n",
       "      <th>std</th>\n",
       "      <td>NaN</td>\n",
       "      <td>2.592243e+06</td>\n",
       "      <td>NaN</td>\n",
       "      <td>NaN</td>\n",
       "    </tr>\n",
       "    <tr>\n",
       "      <th>min</th>\n",
       "      <td>NaN</td>\n",
       "      <td>1.000204e+06</td>\n",
       "      <td>NaN</td>\n",
       "      <td>NaN</td>\n",
       "    </tr>\n",
       "    <tr>\n",
       "      <th>25%</th>\n",
       "      <td>NaN</td>\n",
       "      <td>3.270030e+06</td>\n",
       "      <td>NaN</td>\n",
       "      <td>NaN</td>\n",
       "    </tr>\n",
       "    <tr>\n",
       "      <th>50%</th>\n",
       "      <td>NaN</td>\n",
       "      <td>5.511214e+06</td>\n",
       "      <td>NaN</td>\n",
       "      <td>NaN</td>\n",
       "    </tr>\n",
       "    <tr>\n",
       "      <th>75%</th>\n",
       "      <td>NaN</td>\n",
       "      <td>7.726396e+06</td>\n",
       "      <td>NaN</td>\n",
       "      <td>NaN</td>\n",
       "    </tr>\n",
       "    <tr>\n",
       "      <th>max</th>\n",
       "      <td>NaN</td>\n",
       "      <td>9.998996e+06</td>\n",
       "      <td>NaN</td>\n",
       "      <td>NaN</td>\n",
       "    </tr>\n",
       "  </tbody>\n",
       "</table>\n",
       "</div>"
      ],
      "text/plain": [
       "              Id      Batch_Id      Name         Release_date\n",
       "count      12000  1.200000e+04     12000                12000\n",
       "unique      8592           NaN      9052                 8872\n",
       "top     OMvnrroC           NaN  muosxqdz  23/06/2023 02:24 PM\n",
       "freq           6           NaN         6                    6\n",
       "mean         NaN  5.512216e+06       NaN                  NaN\n",
       "std          NaN  2.592243e+06       NaN                  NaN\n",
       "min          NaN  1.000204e+06       NaN                  NaN\n",
       "25%          NaN  3.270030e+06       NaN                  NaN\n",
       "50%          NaN  5.511214e+06       NaN                  NaN\n",
       "75%          NaN  7.726396e+06       NaN                  NaN\n",
       "max          NaN  9.998996e+06       NaN                  NaN"
      ]
     },
     "execution_count": 91,
     "metadata": {},
     "output_type": "execute_result"
    }
   ],
   "source": [
    "batches_tables.describe(include=\"all\")\n"
   ]
  },
  {
   "cell_type": "code",
   "execution_count": 84,
   "metadata": {},
   "outputs": [
    {
     "data": {
      "text/plain": [
       "Id              0\n",
       "Batch_Id        0\n",
       "Name            0\n",
       "Release_date    0\n",
       "dtype: int64"
      ]
     },
     "execution_count": 84,
     "metadata": {},
     "output_type": "execute_result"
    }
   ],
   "source": [
    "null_counts = batches_tables.isnull().sum()\n",
    "null_counts"
   ]
  },
  {
   "attachments": {},
   "cell_type": "markdown",
   "metadata": {},
   "source": [
    "### JSON : batch_details\n"
   ]
  },
  {
   "cell_type": "code",
   "execution_count": 4,
   "metadata": {},
   "outputs": [
    {
     "name": "stdout",
     "output_type": "stream",
     "text": [
      "number of rows: 10000\n"
     ]
    }
   ],
   "source": [
    "batch_det_path = '/Users/firaterman/Downloads/jj/batches_det.json'\n",
    "# Open the JSON file\n",
    "batch_det = pd.read_json(batch_det_path)\n",
    "batch_det.head(5)\n",
    "print(\"number of rows:\", len(batch_det))"
   ]
  },
  {
   "cell_type": "code",
   "execution_count": 5,
   "metadata": {},
   "outputs": [
    {
     "name": "stdout",
     "output_type": "stream",
     "text": [
      "type\n",
      "       3355\n",
      "HA1    3291\n",
      "HA2    3354\n",
      "Name: batches_id, dtype: int64\n"
     ]
    }
   ],
   "source": [
    "print(batch_det.groupby([\"type\"])[\"batches_id\"].count())"
   ]
  },
  {
   "cell_type": "code",
   "execution_count": 108,
   "metadata": {},
   "outputs": [
    {
     "data": {
      "text/plain": [
       "array(['HA2', 'HA1', ''], dtype=object)"
      ]
     },
     "execution_count": 108,
     "metadata": {},
     "output_type": "execute_result"
    }
   ],
   "source": [
    "batch_det[\"type\"].nunique()\n",
    "batch_det[\"type\"].unique()"
   ]
  },
  {
   "cell_type": "code",
   "execution_count": 102,
   "metadata": {},
   "outputs": [
    {
     "data": {
      "text/plain": [
       "batches_id    0\n",
       "type          0\n",
       "amount        0\n",
       "dtype: int64"
      ]
     },
     "execution_count": 102,
     "metadata": {},
     "output_type": "execute_result"
    }
   ],
   "source": [
    "null_counts = batch_det.isnull().sum()\n",
    "null_counts"
   ]
  },
  {
   "cell_type": "code",
   "execution_count": 109,
   "metadata": {},
   "outputs": [
    {
     "name": "stdout",
     "output_type": "stream",
     "text": [
      "different length present in columns batches_id                [7]\n",
      "type                   [3, 0]\n",
      "amount        [7, 6, 5, 4, 3]\n",
      "dtype: object\n"
     ]
    }
   ],
   "source": [
    "lengths = batch_det.apply(lambda col: col.astype(str).apply(len).unique())\n",
    "print(\"different length present in columns\", lengths)"
   ]
  },
  {
   "cell_type": "code",
   "execution_count": 28,
   "metadata": {},
   "outputs": [
    {
     "name": "stdout",
     "output_type": "stream",
     "text": [
      "CREATE TABLE IF NOT EXISTS jandj.my_table (\n",
      "id VARCHAR(8), parent_id VARCHAR(19), date_created VARCHAR(50), due_date VARCHAR(50), title VARCHAR(30), assigned_to VARCHAR(128), supervisor_leader VARCHAR(128), state VARCHAR(8), site_name VARCHAR(128), \n",
      "CREATE TABLE IF NOT EXISTS jandj.my_table (\n",
      "id VARCHAR(8), parent_id VARCHAR(19), date_created VARCHAR(50), due_date VARCHAR(50), title VARCHAR(30), assigned_to VARCHAR(128), supervisor_leader VARCHAR(128), state VARCHAR(8), site_name VARCHAR(128)\n"
     ]
    }
   ],
   "source": [
    "import mysql.connector\n",
    "import pandas as pd\n",
    "import json \n",
    "\n",
    "\n",
    "user='root'\n",
    "password='password'\n",
    "host='localhost'\n",
    "database='jandj'\n",
    "\n",
    "connection = mysql.connector.connect(\n",
    "    host=host,\n",
    "    user=user,\n",
    "    password=password,\n",
    "    database=database\n",
    ")\n",
    "\n",
    "with open('/Users/firaterman/Documents/git_workspace/FERMAN/jandj/config/config_event_database.json') as f:\n",
    "    table_data = json.load(f)\n",
    "cursor = connection.cursor()\n",
    "\n",
    "# Read the XLS file into a DataFrame using pandas\n",
    "xls_file_path = '/Users/firaterman/Downloads/jj/events_database.xlsx'\n",
    "df = pd.read_excel(xls_file_path)\n",
    "# columns = df.columns.tolist()\n",
    "\n",
    "\n",
    "database_name = table_data['database_name']\n",
    "table_name = table_data['table_name']\n",
    "columns = table_data['columns']\n",
    "#data = table_data['data_type']\n",
    "\n",
    "\n",
    "table_name = 'my_table'\n",
    "create_table_query = f\"CREATE TABLE IF NOT EXISTS {database}.{table_name} (\\n\"\n",
    "for column in columns:\n",
    "        create_table_query += f\"{column['name']} {column['data_type']}, \"\n",
    "print(create_table_query)\n",
    "create_table_query = create_table_query.rstrip(\", \")\n",
    "print(create_table_query)\n"
   ]
  },
  {
   "cell_type": "code",
   "execution_count": null,
   "metadata": {},
   "outputs": [],
   "source": []
  }
 ],
 "metadata": {
  "interpreter": {
   "hash": "dd13c374e603f05868d1d06979cdcb04436998f6504389b955c3865716919ae6"
  },
  "kernelspec": {
   "display_name": "Python 3.9.1 64-bit ('3.9.1': pyenv)",
   "name": "python3"
  },
  "language_info": {
   "codemirror_mode": {
    "name": "ipython",
    "version": 3
   },
   "file_extension": ".py",
   "mimetype": "text/x-python",
   "name": "python",
   "nbconvert_exporter": "python",
   "pygments_lexer": "ipython3",
   "version": "3.9.16"
  },
  "orig_nbformat": 4
 },
 "nbformat": 4,
 "nbformat_minor": 2
}
