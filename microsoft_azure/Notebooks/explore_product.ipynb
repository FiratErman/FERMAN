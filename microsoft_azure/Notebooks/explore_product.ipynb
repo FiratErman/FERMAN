{
 "cells": [
  {
   "cell_type": "code",
   "execution_count": null,
   "metadata": {},
   "outputs": [],
   "source": [
    "%%pyspark\n",
    "df = spark.read.load(\n",
    "    'abfss://files@datalakeyr2wefx.dfs.core.windows.net/product_data/products.csv',\n",
    "    format='csv',\n",
    "## If header exists uncomment line below\n",
    "    header=True\n",
    ")\n",
    "display(df.limit(10))"
   ]
  },
  {
   "cell_type": "code",
   "execution_count": null,
   "metadata": {},
   "outputs": [],
   "source": [
    "\n",
    "df_count = df.groupBy(\"category\").count()\n",
    "display(df_count)\n",
    "df.show()"
   ]
  }
 ],
 "metadata": {
  "language_info": {
   "name": "python"
  },
  "orig_nbformat": 4
 },
 "nbformat": 4,
 "nbformat_minor": 2
}
