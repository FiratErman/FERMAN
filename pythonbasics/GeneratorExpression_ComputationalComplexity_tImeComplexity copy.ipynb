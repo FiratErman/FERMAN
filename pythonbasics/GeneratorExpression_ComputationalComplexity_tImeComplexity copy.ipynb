{
 "cells": [
  {
   "cell_type": "markdown",
   "metadata": {},
   "source": [
    "# GENERATOR EXPRESSION\n",
    "Generators don't use memory by storing data, it generate\n",
    "items at one at a time and it work s like list comprehension\n",
    "\n",
    "Generators are iterators, a kind of iterable you can only iterate over once. Generators do not store all the values in memory, they generate the values on the fly\n"
   ]
  },
  {
   "cell_type": "code",
   "execution_count": 16,
   "metadata": {},
   "outputs": [
    {
     "name": "stdout",
     "output_type": "stream",
     "text": [
      "[0, 1, 2, 3, 4, 5, 6, 7, 8, 9]\n",
      "<generator object <genexpr> at 0x7f91f8775dd0>\n"
     ]
    }
   ],
   "source": [
    "# my generator create a generator object\n",
    "\"\"\" is just the same except you used () instead of []. BUT, you cannot \n",
    " perform for i in mygenerator a second time since generators can only be \n",
    " used once: they calculate 0, then forget about it and calculate 1, \n",
    " and end calculating 4, one by one.\"\"\"\n",
    "my_list_comprehension= [x for x in range(0,10)]\n",
    "my_generator_expression= (x for x in range(0,10))\n",
    "\n",
    "print(my_list_comprehension)\n",
    "print(my_generator_expression)"
   ]
  },
  {
   "cell_type": "code",
   "execution_count": 10,
   "metadata": {},
   "outputs": [
    {
     "data": {
      "text/plain": [
       "[0, 1, 2, 3, 4, 5, 6, 7, 8, 9]"
      ]
     },
     "execution_count": 10,
     "metadata": {},
     "output_type": "execute_result"
    }
   ],
   "source": [
    "[*my_generator_expression]"
   ]
  },
  {
   "cell_type": "code",
   "execution_count": 19,
   "metadata": {},
   "outputs": [
    {
     "data": {
      "text/plain": [
       "2"
      ]
     },
     "execution_count": 19,
     "metadata": {},
     "output_type": "execute_result"
    }
   ],
   "source": [
    "# To generate next items\n",
    "next(my_generator_expression)"
   ]
  },
  {
   "cell_type": "markdown",
   "metadata": {},
   "source": [
    "### Lazy evaluation : a generator only gets the next items when ask for it"
   ]
  },
  {
   "cell_type": "code",
   "execution_count": 20,
   "metadata": {},
   "outputs": [
    {
     "name": "stdout",
     "output_type": "stream",
     "text": [
      "3\n",
      "4\n",
      "5\n",
      "6\n",
      "7\n",
      "8\n",
      "9\n"
     ]
    }
   ],
   "source": [
    "# Here we don't get the value printed in next \n",
    "for items_left in my_generator_expression:\n",
    "    print(items_left)"
   ]
  },
  {
   "cell_type": "markdown",
   "metadata": {},
   "source": [
    "# HOW TO USE YIELD IN PYTHON\n",
    "#### Use Yield in a fonction in place of return to make the function behave as generator"
   ]
  },
  {
   "cell_type": "markdown",
   "metadata": {},
   "source": [
    "## YIELD CAN LET YOU GENERATE FROM INFINITE SEQUENCES"
   ]
  },
  {
   "cell_type": "code",
   "execution_count": 23,
   "metadata": {},
   "outputs": [
    {
     "data": {
      "text/plain": [
       "'yield is a keyword that is used like return, \\nexcept the function will return a generator.'"
      ]
     },
     "execution_count": 23,
     "metadata": {},
     "output_type": "execute_result"
    }
   ],
   "source": [
    "\"\"\"yield is a keyword that is used like return, \n",
    "except the function will return a generator.\"\"\""
   ]
  },
  {
   "cell_type": "code",
   "execution_count": 21,
   "metadata": {},
   "outputs": [],
   "source": [
    "# generate a list that each member is the sum of the two items before\n",
    "def normal_fibonaci(n):\n",
    "    fibs = [0,1]\n",
    "    for i in range (2,n+1):\n",
    "        fibs.append(fibs[-1] + fibs[-2])\n",
    "\n",
    "    return fibs"
   ]
  },
  {
   "cell_type": "code",
   "execution_count": 22,
   "metadata": {},
   "outputs": [
    {
     "data": {
      "text/plain": [
       "[0, 1, 1, 2, 3]"
      ]
     },
     "execution_count": 22,
     "metadata": {},
     "output_type": "execute_result"
    }
   ],
   "source": [
    "normal_fibonaci(4)"
   ]
  },
  {
   "cell_type": "code",
   "execution_count": null,
   "metadata": {},
   "outputs": [],
   "source": []
  },
  {
   "cell_type": "markdown",
   "metadata": {},
   "source": [
    "# COMPUTATIONAL COMPLEXITY"
   ]
  },
  {
   "cell_type": "code",
   "execution_count": 24,
   "metadata": {},
   "outputs": [
    {
     "data": {
      "text/plain": [
       "'1. Constant is the best \\n2. Second best is logarithmic O(log(n)) : runstime grow slower than input size\\nwith a binary search.(like searching a word in a dictionnary, search by slot in the dataset until we find the nulber )'"
      ]
     },
     "execution_count": 24,
     "metadata": {},
     "output_type": "execute_result"
    }
   ],
   "source": [
    "\n",
    "# COMPUTATIONAL COMPLEXITY\n",
    "\"\"\"1. Constant is the best \n",
    "2. Second best is logarithmic O(log(n)) : runstime grow slower than input size\n",
    "example : a binary search.(like searching a word in a dictionnary, search by slot in \n",
    "the dataset until we find the nulber )\"\n",
    "3. Linear O(n):  Runtimes grows at the same rate as input\n",
    "example: Unsorted list search \"\"\n",
    "4. Log linear O(n log(n)): an operation of log(n) complexity for each input value\n",
    "example: efficient scoring\n",
    "5. Quadratic O(nsquared): an operation of complexity O(n) is carried out for each inout\n",
    "example: check all pair of input values (double for loop)\n",
    "6. Ploynomial O(n^3) ; computations with other exponents/\n",
    "example: check all triplets of input values (triple for loop)\n",
    "7. Explonentiel O(2^n): complexity is multiplied (doubled,tripled etc) with each additional input value\n",
    "ex: recursive algorithme \n",
    "8. O(n!): ex: permutation . Runtime can be infinite (loop without exit fo rexample)"
   ]
  },
  {
   "cell_type": "code",
   "execution_count": null,
   "metadata": {},
   "outputs": [],
   "source": [
    "\"\"\"Multiple input dimensions: \n",
    "inputs of size n and m. complexity may depend on both : O(m*n)\n",
    "ex: 2 dimensional data\n",
    "\"\"\"\n",
    "\n",
    "\"\"\" COmplexity implication :\n",
    "code implementation can have a practical impact.\n",
    "Analyzing runtime and refactoring is useful. Some problem are hard(intractable\"\"\"\n",
    "\n",
    "\"\"\"Considerations: \n",
    "Practival vs Theoretical implications\n",
    "Suboptimal solutions(heuristics) may be good enough\n",
    "Better technology helps\n",
    "\"\"\""
   ]
  },
  {
   "cell_type": "markdown",
   "metadata": {},
   "source": [
    "# MEMORY COMPLEXITY (SPACE COMPLEXITY)"
   ]
  },
  {
   "cell_type": "code",
   "execution_count": null,
   "metadata": {},
   "outputs": [],
   "source": []
  }
 ],
 "metadata": {
  "interpreter": {
   "hash": "7e80e4b0bb41dd3a607d8d785d4639bf8cd6b033bea912612b2a9de95fb4c0a3"
  },
  "kernelspec": {
   "display_name": "Python 3.8.8 64-bit ('base': conda)",
   "name": "python3"
  },
  "language_info": {
   "codemirror_mode": {
    "name": "ipython",
    "version": 3
   },
   "file_extension": ".py",
   "mimetype": "text/x-python",
   "name": "python",
   "nbconvert_exporter": "python",
   "pygments_lexer": "ipython3",
   "version": "3.8.8"
  },
  "orig_nbformat": 4
 },
 "nbformat": 4,
 "nbformat_minor": 2
}
