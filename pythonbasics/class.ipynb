{
 "cells": [
  {
   "cell_type": "code",
   "execution_count": 1,
   "metadata": {},
   "outputs": [
    {
     "name": "stdout",
     "output_type": "stream",
     "text": [
      "<class 'int'>\n",
      "<class 'str'>\n"
     ]
    }
   ],
   "source": [
    "#Each variable is a datatype in python is an object is a class\n",
    "item = 5\n",
    "item2 = \"phone\"\n",
    "print(type(item))\n",
    "print(type(item2))"
   ]
  },
  {
   "cell_type": "code",
   "execution_count": 4,
   "metadata": {},
   "outputs": [
    {
     "name": "stdout",
     "output_type": "stream",
     "text": [
      "ok\n",
      "<class 'str'>\n",
      "<class '__main__.Item'>\n",
      "phone\n"
     ]
    }
   ],
   "source": [
    "class Item:\n",
    "    print(\"ok\")\n",
    "    pass\n",
    "\n",
    "item1 = Item() \n",
    "#Create INSTANCES \n",
    "item1.name = \"phone\"\n",
    "item1.quantity = 5\n",
    "item1.price = 800\n",
    "\n",
    "print(type(item1.name))\n",
    "print(type(item1))\n",
    "\n",
    "print(item1.name)\n"
   ]
  },
  {
   "cell_type": "code",
   "execution_count": 11,
   "metadata": {},
   "outputs": [
    {
     "name": "stdout",
     "output_type": "stream",
     "text": [
      "ok\n",
      "k\n"
     ]
    },
    {
     "data": {
      "text/plain": [
       "4000"
      ]
     },
     "execution_count": 11,
     "metadata": {},
     "output_type": "execute_result"
    }
   ],
   "source": [
    "# Lets create method calculate_total_price\n",
    "class Item:\n",
    "    print(\"ok\")\n",
    "    #function inside class are called method and have ALWAYS parameters\n",
    "    # we can call the parameter self because it is CONVENTION but it could have another name\n",
    "    def calculate_total_price(self,x,y):\n",
    "        return x * y \n",
    "\n",
    "\n",
    "Item1 = Item()\n",
    "quantity = 5\n",
    "price = 800\n",
    "#it won't work \n",
    "Item1.calculate_total_price(quantity,price)\n",
    "print(\"k\")\n",
    "\n",
    "\n",
    "Item1.quantity1 = 5\n",
    "Item1.price1 = 800\n",
    "#now it will work because we instantiate an instance in the attribute\n",
    "Item1.calculate_total_price(Item1.quantity1,Item1.price1)\n",
    "\n"
   ]
  },
  {
   "cell_type": "code",
   "execution_count": 1,
   "metadata": {},
   "outputs": [
    {
     "name": "stdout",
     "output_type": "stream",
     "text": [
      "nphone\n"
     ]
    }
   ],
   "source": [
    "#The problem is that instances are hard Coded this is not good\n",
    "# to avoid it we have multiple solution here\n",
    "\n",
    "\n",
    "#The init magic method is by default inserted in every classes we create\n",
    "#Even if we don't instantiate it \n",
    "class Item:\n",
    "    #This is a MAGIC Method \n",
    "    def __init__(self, name):\n",
    "        print(f\"n{name}\")\n",
    "    def calculate_total_price(self,x,y):\n",
    "        return x * y \n",
    "\n",
    "Item1 = Item(\"phone\")\n",
    "Item1.name = \"ok\"\n",
    "Item1.quantity1 = 5\n",
    "Item1.price1 = 800\n"
   ]
  },
  {
   "cell_type": "code",
   "execution_count": 14,
   "metadata": {},
   "outputs": [
    {
     "name": "stdout",
     "output_type": "stream",
     "text": [
      "phone\n",
      "5\n",
      "400\n"
     ]
    },
    {
     "data": {
      "text/plain": [
       "2000"
      ]
     },
     "execution_count": 14,
     "metadata": {},
     "output_type": "execute_result"
    }
   ],
   "source": [
    "#We can create dynamic ATTRIBUTE INSTANCE assignment \n",
    "class Item:\n",
    "    #This is a MAGIC Method \n",
    "    def __init__(self, name, quantity, price):\n",
    "        self.name = name\n",
    "        self.price = price \n",
    "        self.quantity = quantity\n",
    "    def calculate_total_price(self,x,y):\n",
    "        return x * y \n",
    "\n",
    "item1 = Item(\"phone\", 5, 400)\n",
    "print(item1.name)\n",
    "print(item1.quantity)\n",
    "print(item1.price)\n",
    "\n",
    "item1.calculate_total_price(item1.quantity,item1.price)"
   ]
  },
  {
   "cell_type": "code",
   "execution_count": 4,
   "metadata": {},
   "outputs": [
    {
     "name": "stdout",
     "output_type": "stream",
     "text": [
      "phone\n",
      "5\n",
      "0\n"
     ]
    },
    {
     "data": {
      "text/plain": [
       "0"
      ]
     },
     "execution_count": 4,
     "metadata": {},
     "output_type": "execute_result"
    }
   ],
   "source": [
    "#if i want to dont use price for exampe i just fix it to 0\n",
    "class Item:\n",
    "    def __init__(self, name, quantity, price=0):\n",
    "        self.name = name\n",
    "        self.price = price \n",
    "        self.quantity = quantity\n",
    "    def calculate_total_price(self,x,y):\n",
    "        return x * y \n",
    "\n",
    "item1 = Item(\"phone\", 5)\n",
    "print(item1.name)\n",
    "print(item1.quantity)\n",
    "print(item1.price)\n",
    "\n",
    "item1.calculate_total_price(item1.quantity,item1.price)"
   ]
  },
  {
   "cell_type": "code",
   "execution_count": 9,
   "metadata": {},
   "outputs": [
    {
     "data": {
      "text/plain": [
       "0"
      ]
     },
     "execution_count": 9,
     "metadata": {},
     "output_type": "execute_result"
    }
   ],
   "source": [
    "Item(\"phone\",5,10).calculate_total_price(item1.quantity,item1.price)"
   ]
  },
  {
   "cell_type": "code",
   "execution_count": 14,
   "metadata": {},
   "outputs": [
    {
     "data": {
      "text/plain": [
       "1200"
      ]
     },
     "execution_count": 14,
     "metadata": {},
     "output_type": "execute_result"
    }
   ],
   "source": [
    "# how it works now\n",
    "# also define type in order to avoid error\n",
    "class Item:\n",
    "    #This is a MAGIC Method \n",
    "    def __init__(self, name: str, quantity: int, price: float):\n",
    "        # run validation to the received argument to avoid negatives value\n",
    "        #we can also integrate a message if it fails\n",
    "        assert price >= 0, f\"price {price} is negative\"\n",
    "        assert quantity >= 0, 'quantity is negative'\n",
    "\n",
    "        #Assign to self object\n",
    "        self.name = name\n",
    "        self.price = price \n",
    "        self.quantity = quantity\n",
    "\n",
    "        \n",
    "    # we change x and y and drop it from the method paraneters because already defined it in init\n",
    "    def calculate_total_price(self):\n",
    "        return self.price * self.quantity\n",
    "\n",
    "item1 = Item(\"phone\", 3, 400)\n",
    "\n",
    "item1.calculate_total_price()"
   ]
  },
  {
   "cell_type": "code",
   "execution_count": 15,
   "metadata": {},
   "outputs": [
    {
     "ename": "AssertionError",
     "evalue": "price -4 is negative",
     "output_type": "error",
     "traceback": [
      "\u001b[0;31m---------------------------------------------------------------------------\u001b[0m",
      "\u001b[0;31mAssertionError\u001b[0m                            Traceback (most recent call last)",
      "\u001b[0;32m<ipython-input-15-724a93d03269>\u001b[0m in \u001b[0;36m<module>\u001b[0;34m\u001b[0m\n\u001b[0;32m----> 1\u001b[0;31m \u001b[0mitem1\u001b[0m \u001b[0;34m=\u001b[0m \u001b[0mItem\u001b[0m\u001b[0;34m(\u001b[0m\u001b[0;34m\"phone\"\u001b[0m\u001b[0;34m,\u001b[0m \u001b[0;34m-\u001b[0m\u001b[0;36m1\u001b[0m\u001b[0;34m,\u001b[0m \u001b[0;34m-\u001b[0m\u001b[0;36m4\u001b[0m\u001b[0;34m)\u001b[0m\u001b[0;34m\u001b[0m\u001b[0;34m\u001b[0m\u001b[0m\n\u001b[0m\u001b[1;32m      2\u001b[0m \u001b[0;34m\u001b[0m\u001b[0m\n\u001b[1;32m      3\u001b[0m \u001b[0mitem1\u001b[0m\u001b[0;34m.\u001b[0m\u001b[0mcalculate_total_price\u001b[0m\u001b[0;34m(\u001b[0m\u001b[0;34m)\u001b[0m\u001b[0;34m\u001b[0m\u001b[0;34m\u001b[0m\u001b[0m\n",
      "\u001b[0;32m<ipython-input-14-f584228581c8>\u001b[0m in \u001b[0;36m__init__\u001b[0;34m(self, name, quantity, price)\u001b[0m\n\u001b[1;32m      6\u001b[0m         \u001b[0;31m# run validation to the received argument to avoid negatives value\u001b[0m\u001b[0;34m\u001b[0m\u001b[0;34m\u001b[0m\u001b[0;34m\u001b[0m\u001b[0m\n\u001b[1;32m      7\u001b[0m         \u001b[0;31m#we can also integrate a message if it fails\u001b[0m\u001b[0;34m\u001b[0m\u001b[0;34m\u001b[0m\u001b[0;34m\u001b[0m\u001b[0m\n\u001b[0;32m----> 8\u001b[0;31m         \u001b[0;32massert\u001b[0m \u001b[0mprice\u001b[0m \u001b[0;34m>=\u001b[0m \u001b[0;36m0\u001b[0m\u001b[0;34m,\u001b[0m \u001b[0;34mf\"price {price} is negative\"\u001b[0m\u001b[0;34m\u001b[0m\u001b[0;34m\u001b[0m\u001b[0m\n\u001b[0m\u001b[1;32m      9\u001b[0m         \u001b[0;32massert\u001b[0m \u001b[0mquantity\u001b[0m \u001b[0;34m>=\u001b[0m \u001b[0;36m0\u001b[0m\u001b[0;34m,\u001b[0m \u001b[0;34m'quantity is negative'\u001b[0m\u001b[0;34m\u001b[0m\u001b[0;34m\u001b[0m\u001b[0m\n\u001b[1;32m     10\u001b[0m \u001b[0;34m\u001b[0m\u001b[0m\n",
      "\u001b[0;31mAssertionError\u001b[0m: price -4 is negative"
     ]
    }
   ],
   "source": [
    "item1 = Item(\"phone\", -1, -4)\n",
    "\n",
    "item1.calculate_total_price()"
   ]
  },
  {
   "cell_type": "code",
   "execution_count": 24,
   "metadata": {},
   "outputs": [
    {
     "name": "stdout",
     "output_type": "stream",
     "text": [
      "0.8\n",
      "0.8\n",
      "80.0\n"
     ]
    }
   ],
   "source": [
    "#LETS CREATE CLASS ATTRIBUTE\n",
    "#lets create some discount instance\n",
    "# Class attribute vs Instance attribute\n",
    "\n",
    "class Item:\n",
    "    pay_rate = 0.8 # the pay rate after 20% discount\n",
    "    #This is a MAGIC Method \n",
    "    def __init__(self, name: str, quantity: int, price: float):\n",
    "        # run validation to the received argument to avoid negatives value\n",
    "        #we can also integrate a message if it fails\n",
    "        assert price >= 0, f\"price {price} is negative\"\n",
    "        assert quantity >= 0 \n",
    "\n",
    "        #Assign to self object\n",
    "        self.name = name\n",
    "        self.price = price \n",
    "        self.quantity = quantity\n",
    "\n",
    "        \n",
    "    # we change x and y and drop it from the method paraneters because already defined it in init\n",
    "    def calculate_total_price(self):\n",
    "        return self.price * self.quantity\n",
    "    \n",
    "    def apply_discount (self):\n",
    "        self.price = self.price * Item.pay_rate\n",
    "        print(self.price)\n",
    "\n",
    "item1 = Item(\"phone\", 3, 100)\n",
    "\n",
    "#we can also have acces to the class directly \n",
    "print(Item.pay_rate)\n",
    "print(item1.pay_rate)\n",
    "item1.apply_discount()"
   ]
  },
  {
   "cell_type": "code",
   "execution_count": null,
   "metadata": {},
   "outputs": [],
   "source": []
  },
  {
   "cell_type": "code",
   "execution_count": 26,
   "metadata": {},
   "outputs": [
    {
     "data": {
      "text/plain": [
       "240.0"
      ]
     },
     "execution_count": 26,
     "metadata": {},
     "output_type": "execute_result"
    }
   ],
   "source": [
    "item1.calculate_total_price()"
   ]
  },
  {
   "cell_type": "code",
   "execution_count": null,
   "metadata": {},
   "outputs": [],
   "source": [
    "#test"
   ]
  },
  {
   "cell_type": "code",
   "execution_count": 16,
   "metadata": {},
   "outputs": [
    {
     "data": {
      "text/plain": [
       "[]"
      ]
     },
     "execution_count": 16,
     "metadata": {},
     "output_type": "execute_result"
    }
   ],
   "source": [
    "# how it works now\n",
    "# also define type in order to avoid error\n",
    "class Item:\n",
    "    #This is a MAGIC Method \n",
    "    def __init__(self, name: str, quantity: int, vf=0):\n",
    "        # run validation to the received argument to avoid negatives value\n",
    "        #we can also integrate a message if it fails\n",
    "\n",
    "\n",
    "        #Assign to self object\n",
    "        self.name = name\n",
    "        self.vf = []\n",
    "        self.quantity = quantity\n",
    "\n",
    "        \n",
    "    # we change x and y and drop it from the method paraneters because already defined it in init\n",
    "    def calculate_total_price(self):\n",
    "        return self.vf * self.quantity\n",
    "\n",
    "item1 = Item(\"phone\", 3, 400)\n",
    "\n",
    "item1.calculate_total_price()"
   ]
  },
  {
   "cell_type": "code",
   "execution_count": 65,
   "metadata": {},
   "outputs": [
    {
     "name": "stdout",
     "output_type": "stream",
     "text": [
      "[]\n",
      "[400]\n",
      "ok\n"
     ]
    },
    {
     "data": {
      "text/plain": [
       "403"
      ]
     },
     "execution_count": 65,
     "metadata": {},
     "output_type": "execute_result"
    }
   ],
   "source": [
    "# how it works now\n",
    "# also define type in order to avoid error\n",
    "class Item:\n",
    "    #This is a MAGIC Method \n",
    "    def __init__(self, name: str, quantity: int, vf:None):\n",
    "        # run validation to the received argument to avoid negatives value\n",
    "        #we can also integrate a message if it fails\n",
    "\n",
    "\n",
    "        #Assign to self object\n",
    "        self.name = name\n",
    "        if vf is not None:\n",
    "            self.vf = vf\n",
    "            self.cole = []\n",
    "        self.quantity = quantity\n",
    "\n",
    "        \n",
    "    # we change x and y and drop it from the method paraneters because already defined it in init\n",
    "    def calculate_total_price(self):\n",
    "        print(self.cole)\n",
    "        self.cole.append(self.vf)\n",
    "        print(self.cole)\n",
    "        print('ok')\n",
    "        return self.vf + self.quantity\n",
    "\n",
    "\n",
    "item1 = Item(\"phone\", 3, 400)\n",
    "\n",
    "item1.calculate_total_price()"
   ]
  },
  {
   "cell_type": "code",
   "execution_count": 17,
   "metadata": {},
   "outputs": [
    {
     "ename": "TypeError",
     "evalue": "__init__() missing 1 required positional argument: 'vf'",
     "output_type": "error",
     "traceback": [
      "\u001b[0;31m---------------------------------------------------------------------------\u001b[0m",
      "\u001b[0;31mTypeError\u001b[0m                                 Traceback (most recent call last)",
      "\u001b[0;32m<ipython-input-17-3b0ef12a1de4>\u001b[0m in \u001b[0;36m<module>\u001b[0;34m\u001b[0m\n\u001b[1;32m     26\u001b[0m \u001b[0;34m\u001b[0m\u001b[0m\n\u001b[1;32m     27\u001b[0m \u001b[0;34m\u001b[0m\u001b[0m\n\u001b[0;32m---> 28\u001b[0;31m \u001b[0mitem1\u001b[0m \u001b[0;34m=\u001b[0m \u001b[0mItem\u001b[0m\u001b[0;34m(\u001b[0m\u001b[0;34m\"phone\"\u001b[0m\u001b[0;34m,\u001b[0m \u001b[0;36m3\u001b[0m\u001b[0;34m)\u001b[0m\u001b[0;34m\u001b[0m\u001b[0;34m\u001b[0m\u001b[0m\n\u001b[0m\u001b[1;32m     29\u001b[0m \u001b[0;34m\u001b[0m\u001b[0m\n\u001b[1;32m     30\u001b[0m \u001b[0mitem1\u001b[0m\u001b[0;34m.\u001b[0m\u001b[0mcalculate_total_price\u001b[0m\u001b[0;34m(\u001b[0m\u001b[0;34m)\u001b[0m\u001b[0;34m\u001b[0m\u001b[0;34m\u001b[0m\u001b[0m\n",
      "\u001b[0;31mTypeError\u001b[0m: __init__() missing 1 required positional argument: 'vf'"
     ]
    }
   ],
   "source": [
    "# how it works now\n",
    "# also define type in order to avoid error\n",
    "class Item:\n",
    "    #This is a MAGIC Method \n",
    "    def __init__(self, name: str, quantity: int, vf:None):\n",
    "        # run validation to the received argument to avoid negatives value\n",
    "        #we can also integrate a message if it fails\n",
    "\n",
    "        #Assign to self object\n",
    "        self.name = name\n",
    "        if vf is None:\n",
    "            vf = {}\n",
    "        else:\n",
    "            self.vf = vf\n",
    "            #self.cole = []\n",
    "        self.quantity = quantity\n",
    "\n",
    "        \n",
    "    # we change x and y and drop it from the method paraneters because already defined it in init\n",
    "    def calculate_total_price(self):\n",
    "        #print(self.cole)\n",
    "        #self.cole.append(self.vf)\n",
    "        #print(self.cole)\n",
    "        #print('ok')\n",
    "        return self.vf + self.quantity\n",
    "\n",
    "\n",
    "item1 = Item(\"phone\", 3)\n",
    "\n",
    "item1.calculate_total_price()"
   ]
  },
  {
   "cell_type": "code",
   "execution_count": 99,
   "metadata": {},
   "outputs": [],
   "source": [
    "# how it works now\n",
    "# also define type in order to avoid error\n",
    "class Item:\n",
    "    #This is a MAGIC Method \n",
    "    def __init__(self, name: str, quantity: int, vf:None):\n",
    "        # run validation to the received argument to avoid negatives value\n",
    "        #we can also integrate a message if it fails\n",
    "\n",
    "\n",
    "        #Assign to self object\n",
    "        self.name = name\n",
    "        if vf is not None:\n",
    "            self.vf = vf\n",
    "            self.cole = []\n",
    "        else :\n",
    "            self.vf = None\n",
    "        self.quantity = quantity\n",
    "\n",
    "        \n",
    "    # we change x and y and drop it from the method paraneters because already defined it in init\n",
    "    def calculate_total_price(self):\n",
    "        return self.vf + self.quantity\n",
    "\n",
    "\n"
   ]
  },
  {
   "cell_type": "code",
   "execution_count": 100,
   "metadata": {},
   "outputs": [
    {
     "ename": "TypeError",
     "evalue": "__init__() missing 1 required positional argument: 'vf'",
     "output_type": "error",
     "traceback": [
      "\u001b[0;31m---------------------------------------------------------------------------\u001b[0m",
      "\u001b[0;31mTypeError\u001b[0m                                 Traceback (most recent call last)",
      "\u001b[0;32m<ipython-input-100-f04ba6d2d315>\u001b[0m in \u001b[0;36m<module>\u001b[0;34m\u001b[0m\n\u001b[0;32m----> 1\u001b[0;31m \u001b[0mitem1\u001b[0m \u001b[0;34m=\u001b[0m \u001b[0mItem\u001b[0m\u001b[0;34m(\u001b[0m\u001b[0;34m\"phone\"\u001b[0m\u001b[0;34m,\u001b[0m \u001b[0;36m3\u001b[0m\u001b[0;34m)\u001b[0m\u001b[0;34m\u001b[0m\u001b[0;34m\u001b[0m\u001b[0m\n\u001b[0m\u001b[1;32m      2\u001b[0m \u001b[0;34m\u001b[0m\u001b[0m\n\u001b[1;32m      3\u001b[0m \u001b[0mitem1\u001b[0m\u001b[0;34m.\u001b[0m\u001b[0mcalculate_total_price\u001b[0m\u001b[0;34m(\u001b[0m\u001b[0;34m)\u001b[0m\u001b[0;34m\u001b[0m\u001b[0;34m\u001b[0m\u001b[0m\n",
      "\u001b[0;31mTypeError\u001b[0m: __init__() missing 1 required positional argument: 'vf'"
     ]
    }
   ],
   "source": [
    "item1 = Item(\"phone\", 3)\n",
    "\n",
    "item1.calculate_total_price()"
   ]
  },
  {
   "cell_type": "code",
   "execution_count": null,
   "metadata": {},
   "outputs": [],
   "source": []
  }
 ],
 "metadata": {
  "interpreter": {
   "hash": "7e80e4b0bb41dd3a607d8d785d4639bf8cd6b033bea912612b2a9de95fb4c0a3"
  },
  "kernelspec": {
   "display_name": "Python 3.8.8 64-bit ('base': conda)",
   "name": "python3"
  },
  "language_info": {
   "codemirror_mode": {
    "name": "ipython",
    "version": 3
   },
   "file_extension": ".py",
   "mimetype": "text/x-python",
   "name": "python",
   "nbconvert_exporter": "python",
   "pygments_lexer": "ipython3",
   "version": "3.8.8"
  },
  "orig_nbformat": 4
 },
 "nbformat": 4,
 "nbformat_minor": 2
}
