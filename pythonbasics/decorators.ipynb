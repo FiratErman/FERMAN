{
 "cells": [
  {
   "cell_type": "code",
   "execution_count": 16,
   "metadata": {},
   "outputs": [
    {
     "name": "stdout",
     "output_type": "stream",
     "text": [
      "another function\n",
      "<function print_hello at 0x7fa768a7e5e0>\n",
      "another function\n",
      "hello\n",
      "None\n"
     ]
    }
   ],
   "source": [
    "def function_caller(f):\n",
    "    print(\"another function\")\n",
    "    return f \n",
    "\n",
    "\n",
    "def print_hello():\n",
    "    print(\"hello\")\n",
    "\n",
    "print(function_caller(print_hello))#dont work\n",
    "print(function_caller(print_hello)())#work "
   ]
  },
  {
   "cell_type": "code",
   "execution_count": 1,
   "metadata": {},
   "outputs": [
    {
     "name": "stdout",
     "output_type": "stream",
     "text": [
      "started\n",
      "hello\n",
      "ended\n",
      "started\n",
      "hello\n",
      "ended\n"
     ]
    }
   ],
   "source": [
    "def function_caller(f):\n",
    "    def wrapper():\n",
    "        print(\"started\")\n",
    "        f()\n",
    "        print(\"ended\")\n",
    "    \n",
    "    return wrapper\n",
    "\n",
    "\n",
    "def print_hello():\n",
    "    print(\"hello\")\n",
    "\n",
    "function_caller(print_hello)()\n",
    "x = function_caller(print_hello) # This is the same thing as decorators\n",
    "x()"
   ]
  },
  {
   "cell_type": "code",
   "execution_count": 5,
   "metadata": {},
   "outputs": [
    {
     "name": "stdout",
     "output_type": "stream",
     "text": [
      "started\n",
      "hello\n",
      "ended\n"
     ]
    }
   ],
   "source": [
    "# Use decorators\n",
    "def function_caller(f):\n",
    "    def wrapper():\n",
    "        print(\"started\")\n",
    "        f()\n",
    "        print(\"ended\")\n",
    "    \n",
    "    return wrapper\n",
    "\n",
    "@function_caller\n",
    "def print_hello():\n",
    "    print(\"hello\")\n",
    "\n",
    "print_hello()"
   ]
  },
  {
   "cell_type": "code",
   "execution_count": 8,
   "metadata": {},
   "outputs": [
    {
     "name": "stdout",
     "output_type": "stream",
     "text": [
      "Before\n",
      "run\n",
      "After\n"
     ]
    }
   ],
   "source": [
    "# concrete example\n",
    "\n",
    "import time \n",
    "\n",
    "def before_after(func):\n",
    "    def wrapper(*args):\n",
    "        print(\"Before\")\n",
    "        func(*args)\n",
    "        print(\"After\")\n",
    "    return wrapper \n",
    "\n",
    "class Test:\n",
    "    @before_after\n",
    "    def decorated_method(self):\n",
    "        print(\"run\")\n",
    "\n",
    "\n",
    "\n",
    "t = Test()\n",
    "t.decorated_method() "
   ]
  },
  {
   "cell_type": "code",
   "execution_count": null,
   "metadata": {},
   "outputs": [],
   "source": [
    "# concrete example\n",
    "\n",
    "import time \n",
    "\n",
    "def timer(func):\n",
    "    def wrapper():\n",
    "        before = time.time()        \n",
    "        func()\n",
    "        print(time.time() - before, \"seconds\")\n",
    "    return wrapper \n",
    "\n",
    "@timer\n",
    "def run():\n",
    "    time.sleep(2)\n",
    "\n",
    "run()"
   ]
  }
 ],
 "metadata": {
  "interpreter": {
   "hash": "7e80e4b0bb41dd3a607d8d785d4639bf8cd6b033bea912612b2a9de95fb4c0a3"
  },
  "kernelspec": {
   "display_name": "Python 3.8.8 64-bit ('base': conda)",
   "name": "python3"
  },
  "language_info": {
   "codemirror_mode": {
    "name": "ipython",
    "version": 3
   },
   "file_extension": ".py",
   "mimetype": "text/x-python",
   "name": "python",
   "nbconvert_exporter": "python",
   "pygments_lexer": "ipython3",
   "version": "3.8.8"
  },
  "orig_nbformat": 4
 },
 "nbformat": 4,
 "nbformat_minor": 2
}
