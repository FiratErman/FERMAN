{
 "cells": [
  {
   "cell_type": "code",
   "execution_count": 1,
   "metadata": {},
   "outputs": [],
   "source": [
    "### 2d array"
   ]
  },
  {
   "cell_type": "code",
   "execution_count": 48,
   "metadata": {},
   "outputs": [],
   "source": [
    "\n",
    "arr=[\n",
    "  [ 1, 6, 8, 0, 0, 0 ],\n",
    "  [ 0, 4, 0, 0, 5, 0 ],\n",
    "  [ 7, 9, 3, 0, 1, 0 ],\n",
    "  [ 0, 0, 2, 4, 4, 0 ],\n",
    "  [ 0, 0, 0, 2, 0, 0 ],\n",
    "  [ 0, 0, 1, 2, 4, 0 ]\n",
    "]"
   ]
  },
  {
   "cell_type": "code",
   "execution_count": 53,
   "metadata": {},
   "outputs": [
    {
     "name": "stdout",
     "output_type": "stream",
     "text": [
      "[38, 26, 12, 6, 15, 13, 15, 14, 19, 16, 10, 7, 3, 9, 19, 14]\n",
      "38\n"
     ]
    }
   ],
   "source": [
    "list_sum = []\n",
    "for i in range(0,4):\n",
    "    for j in range(0,4):\n",
    "        first_row = arr[i][j] + arr[i][j+1] +  arr[i][j+2] \n",
    "        second_row =  arr[i+1][j+1]\n",
    "        third_row = arr[i+2][j] + arr[i+2][j+1] +  arr[i+2][j+2]\n",
    "        sum_arrays = first_row + second_row + third_row \n",
    "        list_sum.append(sum_arrays)\n",
    "\n",
    "print(list_sum)\n",
    "print(max(list_sum))"
   ]
  },
  {
   "cell_type": "code",
   "execution_count": 108,
   "metadata": {},
   "outputs": [
    {
     "name": "stdout",
     "output_type": "stream",
     "text": [
      "-1\n",
      "-2\n",
      "-3\n"
     ]
    },
    {
     "data": {
      "text/plain": [
       "[3, 2, 1]"
      ]
     },
     "execution_count": 108,
     "metadata": {},
     "output_type": "execute_result"
    }
   ],
   "source": [
    "### Reverse Array\n",
    "\n",
    "list_a = [1,2,3]\n",
    "reversed_list_a = []\n",
    "\n",
    "# for i in range(len(list_a)):\n",
    "#     print(i)\n",
    "#     reversed_list_a.append(list_a[-i])\n",
    "#     print(reversed_list_a)\n",
    "\n",
    "ini=-1\n",
    "listr= []\n",
    "while ini > (len(list_a)*(-1)-1):\n",
    "    print(ini)\n",
    "    listr.append(list_a[ini])\n",
    "    ini -= 1\n",
    "\n",
    "listr\n",
    "\n"
   ]
  },
  {
   "cell_type": "code",
   "execution_count": 128,
   "metadata": {},
   "outputs": [
    {
     "data": {
      "text/plain": [
       "[2, 3, 4, 5, 1]"
      ]
     },
     "execution_count": 128,
     "metadata": {},
     "output_type": "execute_result"
    }
   ],
   "source": [
    "### Left Rotation\n",
    "\n",
    "a = [1,2,3,4,5]\n",
    "new_a = []\n",
    "\n",
    "new_a.append(a[1])\n",
    "new_a.append(a[2])\n",
    "new_a.append(a[3])\n",
    "new_a.append(a[4])\n",
    "new_a.append(a[0])\n",
    "\n",
    "\n",
    "\n",
    "new_a"
   ]
  },
  {
   "cell_type": "code",
   "execution_count": 15,
   "metadata": {},
   "outputs": [
    {
     "name": "stdout",
     "output_type": "stream",
     "text": [
      "[2, 3, 4, 5, 1]\n",
      "[3, 4, 5, 1, 2]\n"
     ]
    }
   ],
   "source": [
    "# This works but timeout in the website\n",
    "\n",
    "a = [1,2,3,4,5]\n",
    "d = 2\n",
    "z = 1\n",
    "x = d%len(a)\n",
    "while z < x+1:\n",
    "    new_a = []\n",
    "    for i in range(len(a)):\n",
    "        position = 1+i\n",
    "        if position < len(a):\n",
    "            new_a.append(a[position])\n",
    "        else:\n",
    "            new_a.append(a[0]) \n",
    "    a = new_a\n",
    "    z += 1\n",
    "    \n",
    "    print(a)"
   ]
  },
  {
   "cell_type": "code",
   "execution_count": 42,
   "metadata": {},
   "outputs": [
    {
     "name": "stdout",
     "output_type": "stream",
     "text": [
      "final [2, 3, 4, 5, 1]\n"
     ]
    }
   ],
   "source": [
    "#Best solution regarding the timeout\n",
    "list_a = [1,2,3,4,5]\n",
    "d = 2\n",
    "x = d%len(a)\n",
    "list_a = list_a[1:] + list_a[:1]\n",
    "print('final', list_a)\n",
    "\n",
    "    "
   ]
  },
  {
   "cell_type": "code",
   "execution_count": 52,
   "metadata": {},
   "outputs": [
    {
     "name": "stdout",
     "output_type": "stream",
     "text": [
      "2\n"
     ]
    }
   ],
   "source": [
    "### Sparse array\n",
    "output = []\n",
    "for term in queries:\n",
    "    count = 0\n",
    "    for i in range(len(stringList)):\n",
    "        if term == stringList[i]:\n",
    "            print(term)\n",
    "            count += 1\n",
    "    output.append(count)\n",
    "        \n",
    "output"
   ]
  },
  {
   "cell_type": "code",
   "execution_count": 64,
   "metadata": {},
   "outputs": [
    {
     "name": "stdout",
     "output_type": "stream",
     "text": [
      "av\n",
      "av\n",
      "vvc\n"
     ]
    },
    {
     "data": {
      "text/plain": [
       "[2, 1, 0]"
      ]
     },
     "execution_count": 64,
     "metadata": {},
     "output_type": "execute_result"
    }
   ],
   "source": [
    "queries = ['av', 'vvc', 'bb']\n",
    "stringList = ['av', 'av', 'vvc']\n",
    "output = []\n",
    "for term in queries:\n",
    "    count = 0\n",
    "    for i in range(len(stringList)):\n",
    "        if term == stringList[i]:\n",
    "            print(term)\n",
    "            count += 1\n",
    "    output.append(count)\n",
    "\n",
    "output\n",
    "            "
   ]
  },
  {
   "cell_type": "code",
   "execution_count": 86,
   "metadata": {},
   "outputs": [
    {
     "data": {
      "text/plain": [
       "[2, 0]"
      ]
     },
     "execution_count": 86,
     "metadata": {},
     "output_type": "execute_result"
    }
   ],
   "source": [
    "#Compare the triples \n",
    "a = [2,1,5]\n",
    "b = [1,1,2]\n",
    "\n",
    "score_a = 0\n",
    "score_b = 0\n",
    "c= []\n",
    "\n",
    "for i,j in zip(range(len(a)),range(len(b))):\n",
    "    if a[i]>b[j]:\n",
    "        score_a += 1\n",
    "    elif a[i] < b[j]:\n",
    "        score_b += 1\n",
    "c.append(score_a)\n",
    "c.append(score_b)\n",
    "\n",
    "c\n",
    "\n"
   ]
  },
  {
   "cell_type": "code",
   "execution_count": 94,
   "metadata": {},
   "outputs": [
    {
     "data": {
      "text/plain": [
       "6"
      ]
     },
     "execution_count": 94,
     "metadata": {},
     "output_type": "execute_result"
    }
   ],
   "source": [
    "\n",
    "ar = [1,2,3]\n",
    "\n",
    "if len(ar)<10**10 and len(ar)>0:\n",
    "    sum = 0\n",
    "    for i in range(len(ar)):\n",
    "        sum += ar[i]\n",
    "sum"
   ]
  },
  {
   "cell_type": "code",
   "execution_count": 140,
   "metadata": {},
   "outputs": [],
   "source": [
    "arr=[\n",
    "  [ 1, 6, 8],\n",
    "  [ 0, 4, 0],\n",
    "  [ 7, 9, 3]\n",
    "]"
   ]
  },
  {
   "cell_type": "code",
   "execution_count": 132,
   "metadata": {},
   "outputs": [
    {
     "data": {
      "text/plain": [
       "[1, 4, 3]"
      ]
     },
     "execution_count": 132,
     "metadata": {},
     "output_type": "execute_result"
    }
   ],
   "source": [
    "import numpy as np \n",
    "a = [arr[i][i] for i in range(len(arr))]\n",
    "b = [arr[i][~i] for i in range(len(arr))]\n",
    "for i in range(lemn)"
   ]
  },
  {
   "cell_type": "code",
   "execution_count": 139,
   "metadata": {},
   "outputs": [
    {
     "data": {
      "text/plain": [
       "8"
      ]
     },
     "execution_count": 139,
     "metadata": {},
     "output_type": "execute_result"
    }
   ],
   "source": [
    "score_a = 0 \n",
    "score_b = 0\n",
    "for i in range(len(arr)):\n",
    "    score += arr[i][i]\n",
    "for i in range(len(arr)):\n",
    "    score += arr[i][i]\n",
    "\n",
    "\n",
    "score"
   ]
  },
  {
   "cell_type": "code",
   "execution_count": 14,
   "metadata": {},
   "outputs": [
    {
     "data": {
      "text/plain": [
       "4"
      ]
     },
     "execution_count": 14,
     "metadata": {},
     "output_type": "execute_result"
    }
   ],
   "source": [
    "arr=[\n",
    "  [ 1, 6, 8],\n",
    "  [ 0, 4, 5],\n",
    "  [ 7, 9, 3]\n",
    "]\n",
    "\n",
    "arr[~1][~1]\n"
   ]
  },
  {
   "cell_type": "code",
   "execution_count": 16,
   "metadata": {},
   "outputs": [
    {
     "data": {
      "text/plain": [
       "3"
      ]
     },
     "execution_count": 16,
     "metadata": {},
     "output_type": "execute_result"
    }
   ],
   "source": [
    "10//3"
   ]
  },
  {
   "cell_type": "code",
   "execution_count": 17,
   "metadata": {},
   "outputs": [
    {
     "data": {
      "text/plain": [
       "1"
      ]
     },
     "execution_count": 17,
     "metadata": {},
     "output_type": "execute_result"
    }
   ],
   "source": [
    "10%3"
   ]
  },
  {
   "cell_type": "code",
   "execution_count": 18,
   "metadata": {},
   "outputs": [
    {
     "data": {
      "text/plain": [
       "10"
      ]
     },
     "execution_count": 18,
     "metadata": {},
     "output_type": "execute_result"
    }
   ],
   "source": [
    "10%11"
   ]
  },
  {
   "cell_type": "code",
   "execution_count": 19,
   "metadata": {},
   "outputs": [
    {
     "data": {
      "text/plain": [
       "2"
      ]
     },
     "execution_count": 19,
     "metadata": {},
     "output_type": "execute_result"
    }
   ],
   "source": [
    "10%4"
   ]
  },
  {
   "cell_type": "code",
   "execution_count": 8,
   "metadata": {},
   "outputs": [],
   "source": [
    "dp = [[False] * 5 ]"
   ]
  },
  {
   "cell_type": "code",
   "execution_count": 9,
   "metadata": {},
   "outputs": [
    {
     "data": {
      "text/plain": [
       "[[False, False, False, False, False]]"
      ]
     },
     "execution_count": 9,
     "metadata": {},
     "output_type": "execute_result"
    }
   ],
   "source": [
    "dp"
   ]
  },
  {
   "cell_type": "code",
   "execution_count": 22,
   "metadata": {},
   "outputs": [
    {
     "ename": "AttributeError",
     "evalue": "'tuple' object has no attribute 'append'",
     "output_type": "error",
     "traceback": [
      "\u001b[0;31m---------------------------------------------------------------------------\u001b[0m",
      "\u001b[0;31mAttributeError\u001b[0m                            Traceback (most recent call last)",
      "\u001b[0;32m<ipython-input-22-4de3a6ef66ea>\u001b[0m in \u001b[0;36m<module>\u001b[0;34m\u001b[0m\n\u001b[1;32m      1\u001b[0m \u001b[0mchar_set\u001b[0m \u001b[0;34m=\u001b[0m \u001b[0;34m(\u001b[0m\u001b[0;34m)\u001b[0m\u001b[0;34m\u001b[0m\u001b[0;34m\u001b[0m\u001b[0m\n\u001b[0;32m----> 2\u001b[0;31m \u001b[0mchar_set\u001b[0m\u001b[0;34m.\u001b[0m\u001b[0mappend\u001b[0m\u001b[0;34m(\u001b[0m\u001b[0;36m2\u001b[0m\u001b[0;34m)\u001b[0m\u001b[0;34m\u001b[0m\u001b[0;34m\u001b[0m\u001b[0m\n\u001b[0m",
      "\u001b[0;31mAttributeError\u001b[0m: 'tuple' object has no attribute 'append'"
     ]
    }
   ],
   "source": [
    "char_set = ()\n",
    "char_set.append(2)\n"
   ]
  },
  {
   "cell_type": "code",
   "execution_count": 64,
   "metadata": {},
   "outputs": [
    {
     "name": "stdout",
     "output_type": "stream",
     "text": [
      "status 0 0\n",
      "ans 1\n",
      "status 0 1\n",
      "ans 2\n",
      "status 0 2\n",
      "ans 3\n",
      "status 0 3\n",
      "remove a\n",
      "status 1 3\n",
      "ans 3\n",
      "status 1 4\n",
      "ans 4\n",
      "status 1 5\n",
      "ans 5\n",
      "status 1 6\n",
      "ans 6\n",
      "status 1 7\n",
      "ans 7\n"
     ]
    }
   ],
   "source": [
    "s = \"abcadfeg\"\n",
    "char_set = set()\n",
    "i, j, answer = 0, 0, 0\n",
    "while j<len(s):\n",
    "    print(\"status\",i,j)\n",
    "    if s[j] not in char_set:\n",
    "        char_set.add(s[i])\n",
    "        answer = max(answer, j-i+1)\n",
    "        print(\"ans\", answer)\n",
    "        j += 1\n",
    "    else: \n",
    "        print(\"remove\", s[i])\n",
    "        char_set.remove(s[i])\n",
    "        i += 1\n",
    "\n",
    "\n",
    "    \n",
    "\n"
   ]
  },
  {
   "cell_type": "code",
   "execution_count": 53,
   "metadata": {},
   "outputs": [],
   "source": [
    "char_set = set()\n",
    "i, j, ans = 0, 0, 0\n",
    "while j < len(s):\n",
    "    if s[j] not in char_set:\n",
    "        char_set.add(s[j])\n",
    "        ans = max(ans, j - i + 1)\n",
    "        j += 1\n",
    "    else:\n",
    "        char_set.remove(s[i])\n",
    "        i += 1\n"
   ]
  },
  {
   "cell_type": "markdown",
   "metadata": {},
   "source": []
  },
  {
   "cell_type": "code",
   "execution_count": 66,
   "metadata": {},
   "outputs": [
    {
     "data": {
      "text/plain": [
       "1"
      ]
     },
     "execution_count": 66,
     "metadata": {},
     "output_type": "execute_result"
    }
   ],
   "source": [
    "11%2"
   ]
  },
  {
   "cell_type": "code",
   "execution_count": 44,
   "metadata": {},
   "outputs": [],
   "source": [
    "char_set = set()\n",
    "s = \"abcabcbb\"\n",
    "\n",
    "if s[j] not in char_set:\n",
    "    char_set.add(s[j])"
   ]
  },
  {
   "cell_type": "code",
   "execution_count": 45,
   "metadata": {},
   "outputs": [
    {
     "data": {
      "text/plain": [
       "{'a'}"
      ]
     },
     "execution_count": 45,
     "metadata": {},
     "output_type": "execute_result"
    }
   ],
   "source": [
    "char_set"
   ]
  },
  {
   "cell_type": "code",
   "execution_count": 48,
   "metadata": {},
   "outputs": [],
   "source": [
    "char_set = set()"
   ]
  },
  {
   "cell_type": "code",
   "execution_count": 49,
   "metadata": {},
   "outputs": [],
   "source": [
    "char_set.add('a')"
   ]
  },
  {
   "cell_type": "code",
   "execution_count": 37,
   "metadata": {},
   "outputs": [
    {
     "name": "stdout",
     "output_type": "stream",
     "text": [
      "yu\n",
      "[[True, False, False, False, False], [False, True, True, False, False], [False, False, True, False, False], [False, False, False, True, False], [False, False, False, False, True]]\n",
      "k 3 i 0\n",
      "j 2\n",
      "k 3 i 1\n",
      "j 3\n",
      "k 3 i 2\n",
      "j 4\n",
      "k 4 i 0\n",
      "j 3\n",
      "k 4 i 1\n",
      "j 4\n",
      "k 5 i 0\n",
      "j 4\n",
      "abba\n"
     ]
    }
   ],
   "source": [
    "s = 'abbab'\n",
    "   \n",
    "n = len(s)\n",
    "dp = [[False] * n for _ in range(n)]\n",
    "for i in range(n):\n",
    "    dp[i][i] = True\n",
    "start = 0\n",
    "max_length = 1\n",
    "# Check for substrings of length 2\n",
    "for i in range(n - 1):\n",
    "    if s[i] == s[i + 1]:\n",
    "        print(\"yu\")\n",
    "        dp[i][i + 1] = True\n",
    "        start = i\n",
    "        max_length = 2\n",
    "        print(dp)\n",
    "for k in range(3, n + 1):\n",
    "    for i in range(n - k + 1):\n",
    "        print(\"k\",k,\"i\",i)\n",
    "        j = i + k - 1\n",
    "        print(\"j\", j)\n",
    "        if dp[i + 1][j - 1] and s[i] == s[j]:\n",
    "            dp[i][j] = True\n",
    "            if k > max_length:\n",
    "                start = i\n",
    "                max_length = k\n",
    "print (s[start:start + max_length]\n",
    ")"
   ]
  },
  {
   "cell_type": "code",
   "execution_count": 38,
   "metadata": {},
   "outputs": [
    {
     "name": "stdout",
     "output_type": "stream",
     "text": [
      "1 {'a'}\n",
      "2 {'b', 'a'}\n",
      "3 {'c', 'b', 'a'}\n",
      "hi 3 {'c', 'b'}\n",
      "3 {'c', 'b', 'a'}\n",
      "4 {'c', 'd', 'b', 'a'}\n",
      "5 {'c', 'r', 'b', 'a', 'd'}\n",
      "6 {'c', 'r', 'b', 't', 'a', 'd'}\n"
     ]
    }
   ],
   "source": [
    "s = 'abcadrt'\n",
    "\n",
    "char_set = set()\n",
    "i, j, ans = 0, 0, 0\n",
    "while j < len(s):\n",
    "    if s[j] not in char_set:\n",
    "        char_set.add(s[j])\n",
    "        ans = max(ans, j - i + 1)\n",
    "        print(ans, char_set)\n",
    "        j += 1\n",
    "    else:\n",
    "        char_set.remove(s[i])\n",
    "        i += 1\n",
    "        print('hi', ans, char_set)\n",
    "\n",
    "\n"
   ]
  },
  {
   "cell_type": "code",
   "execution_count": 21,
   "metadata": {},
   "outputs": [
    {
     "name": "stdout",
     "output_type": "stream",
     "text": [
      "add a {'a'} 1\n",
      "add b {'a', 'b'} 2\n",
      "add c {'a', 'b', 'c'} 3\n",
      "add d {'a', 'd', 'b', 'c'} 4\n",
      "remove a {'d', 'b', 'c'} 4\n",
      "remove b {'d', 'c'} 4\n",
      "add b {'d', 'b', 'c'} 4\n",
      "add f {'b', 'd', 'f', 'c'} 4\n"
     ]
    },
    {
     "data": {
      "text/plain": [
       "4"
      ]
     },
     "execution_count": 21,
     "metadata": {},
     "output_type": "execute_result"
    }
   ],
   "source": [
    "s = 'abcdbf'\n",
    "\n",
    "\n",
    "i, j, m = 0, 0, 0\n",
    "char_set = set()\n",
    "\n",
    "while j<len(s):\n",
    "    if s[j] not in char_set:\n",
    "        char_set.add(s[j])\n",
    "        m = max(m, j-i+1)\n",
    "        print(\"add\", s[j], char_set, m)\n",
    "        j += 1\n",
    "    else:\n",
    "        char_set.remove(s[i])\n",
    "        print(\"remove\", s[i], char_set, m)\n",
    "        i += 1\n",
    "\n",
    "m\n"
   ]
  },
  {
   "cell_type": "code",
   "execution_count": 42,
   "metadata": {},
   "outputs": [
    {
     "name": "stdout",
     "output_type": "stream",
     "text": [
      "ok 3.0\n"
     ]
    }
   ],
   "source": [
    "nums1 = [1,3]\n",
    "nums2 = [2,3]\n",
    "nums = nums1 + nums2\n",
    "nums.sort()\n",
    "\n",
    "if len(nums)%2==0:\n",
    "    mediane = (nums[len(nums)//2] + nums[(len(nums)//2)+1])/2\n",
    "    print(\"ok\",mediane)\n",
    "else:\n",
    "    mediane = nums[len(nums)//2]\n",
    "    print(\"_d\", mediane)\n"
   ]
  },
  {
   "cell_type": "code",
   "execution_count": 48,
   "metadata": {},
   "outputs": [
    {
     "data": {
      "text/plain": [
       "[[True, False, False, False, False],\n",
       " [False, True, False, False, False],\n",
       " [False, False, True, False, False],\n",
       " [False, False, False, True, False],\n",
       " [False, False, False, False, True]]"
      ]
     },
     "execution_count": 48,
     "metadata": {},
     "output_type": "execute_result"
    }
   ],
   "source": [
    "s = \"babad\"\n",
    "n = len(s)\n",
    "dp = [[False] * n for i in range(n)]\n",
    "dp\n",
    "\n",
    "for i in range(5):\n",
    "    dp[i][i] = True\n",
    "\n",
    "dp\n",
    "\n",
    "# k=3\n",
    "# i=0\n",
    "# j= 2\n",
    "# if dp[1][1] and s[0] == s[2]:\n",
    "#     dp[0][2] = True \n",
    "\n",
    "start=0\n",
    "max_length = 3 \n",
    "[[True, False, True, False, False],\n",
    " [False, True, False, False, False],\n",
    " [False, False, True, False, False],\n",
    " [False, False, False, True, False],\n",
    " [False, False, False, False, True]]\n",
    "\n",
    "\n",
    "# k=3\n",
    "# i=1\n",
    "# j= 3\n",
    "# if dp[2][2] and s[1] == s[3]:\n",
    "#     dp[1][3] = True \n",
    "\n",
    "start=0\n",
    "max_length = 3 \n",
    "[[True, False, True, False, False],\n",
    " [False, True, False, True, False],\n",
    " [False, False, True, False, False],\n",
    " [False, False, False, True, False],\n",
    " [False, False, False, False, True]]"
   ]
  },
  {
   "cell_type": "code",
   "execution_count": 50,
   "metadata": {},
   "outputs": [
    {
     "name": "stdout",
     "output_type": "stream",
     "text": [
      "step1 [[True, False, False, False, False], [False, True, False, False, False], [False, False, True, False, False], [False, False, False, True, False], [False, False, False, False, True]]\n",
      "step2: i 3\n",
      "step2 dp [[True, False, False, False, False], [False, True, False, False, False], [False, False, True, False, False], [False, False, False, True, False], [False, False, False, False, True]]\n",
      "k: 3 i: 0 j: 2\n",
      "step dp [[True, False, True, False, False], [False, True, False, False, False], [False, False, True, False, False], [False, False, False, True, False], [False, False, False, False, True]]\n",
      "k: 3 i: 1 j: 3\n",
      "step dp [[True, False, True, False, False], [False, True, False, True, False], [False, False, True, False, False], [False, False, False, True, False], [False, False, False, False, True]]\n",
      "k: 3 i: 2 j: 4\n",
      "step dp [[True, False, True, False, False], [False, True, False, True, False], [False, False, True, False, False], [False, False, False, True, False], [False, False, False, False, True]]\n",
      "k: 4 i: 0 j: 3\n",
      "step dp [[True, False, True, False, False], [False, True, False, True, False], [False, False, True, False, False], [False, False, False, True, False], [False, False, False, False, True]]\n",
      "k: 4 i: 1 j: 4\n",
      "step dp [[True, False, True, False, False], [False, True, False, True, False], [False, False, True, False, False], [False, False, False, True, False], [False, False, False, False, True]]\n",
      "k: 5 i: 0 j: 4\n",
      "step dp [[True, False, True, False, False], [False, True, False, True, False], [False, False, True, False, False], [False, False, False, True, False], [False, False, False, False, True]]\n"
     ]
    }
   ],
   "source": [
    "s = \"babad\"\n",
    "n = len(s)\n",
    "dp = [[False] * n for i in range(n)]\n",
    "\n",
    "for i in range(n):\n",
    "    dp[i][i] = True\n",
    "start = 0\n",
    "max_length = 1\n",
    "print(\"step1\", dp)\n",
    "# Check for substrings of length 2\n",
    "for i in range(n - 1):\n",
    "    if s[i] == s[i + 1]:\n",
    "        dp[i][i + 1] = True\n",
    "        start = i\n",
    "        max_length = 2\n",
    "print(\"step2: i\", i)\n",
    "print(\"step2 dp\", dp)\n",
    "# Check for substrings of length 3 and greater\n",
    "for k in range(3, n + 1):\n",
    "    for i in range(n - k + 1):\n",
    "        j = i + k - 1\n",
    "        if dp[i + 1][j - 1] and s[i] == s[j]:\n",
    "            dp[i][j] = True\n",
    "            if k > max_length:\n",
    "                start = i\n",
    "                max_length = k\n",
    "        print(\"k:\", k, \"i:\", i, \"j:\", j)\n",
    "        print(\"step dp\", dp)"
   ]
  },
  {
   "cell_type": "code",
   "execution_count": 27,
   "metadata": {},
   "outputs": [
    {
     "data": {
      "text/plain": [
       "[1, 2, 3, 4, 6]"
      ]
     },
     "execution_count": 27,
     "metadata": {},
     "output_type": "execute_result"
    }
   ],
   "source": [
    "nums = [1,1,2,6,4,4,3,2,1]\n",
    "cache = []\n",
    "None_list = []\n",
    "for i in range(len(nums)):\n",
    "    if nums[i] in cache:\n",
    "        None_list.append(\"None\")\n",
    "    else:\n",
    "        cache.append(nums[i])\n",
    "        cache.sort()\n",
    "\n",
    "#cache = cache.sort()\n",
    "#a = cache + None_list\n",
    "cache"
   ]
  },
  {
   "cell_type": "code",
   "execution_count": 53,
   "metadata": {},
   "outputs": [
    {
     "data": {
      "text/plain": [
       "[1, 2]"
      ]
     },
     "execution_count": 53,
     "metadata": {},
     "output_type": "execute_result"
    }
   ],
   "source": [
    "nums = [1,1,2]\n",
    "cache = []\n",
    "None_list = []\n",
    "for i in range(len(nums)):\n",
    "    if nums[i] in cache:\n",
    "        None_list.append(\"None\")\n",
    "    else:\n",
    "        cache.append(nums[i])\n",
    "        cache.sort()\n",
    "nums = cache\n",
    "\n",
    "nums"
   ]
  },
  {
   "cell_type": "code",
   "execution_count": 59,
   "metadata": {},
   "outputs": [
    {
     "data": {
      "text/plain": [
       "[1, 3, 2, 3]"
      ]
     },
     "execution_count": 59,
     "metadata": {},
     "output_type": "execute_result"
    }
   ],
   "source": [
    "nums = [1,1,2,3]\n",
    "nums[1] = nums[3]\n",
    "nums\n",
    "            "
   ]
  },
  {
   "cell_type": "code",
   "execution_count": 17,
   "metadata": {},
   "outputs": [
    {
     "name": "stdout",
     "output_type": "stream",
     "text": [
      "7 1\n",
      "buy\n",
      "1\n",
      "1 5\n",
      "sell i 1\n",
      "5 3\n",
      "buy\n",
      "3\n",
      "3 6\n",
      "sell i 3\n",
      "6 4\n",
      "buy\n",
      "4\n"
     ]
    },
    {
     "data": {
      "text/plain": [
       "[4, 3]"
      ]
     },
     "execution_count": 17,
     "metadata": {},
     "output_type": "execute_result"
    }
   ],
   "source": [
    "prices = [7,1,5,3,6,4]\n",
    "buy = 0\n",
    "sell = 0\n",
    "profit = []\n",
    "i=0\n",
    "for j in range(1,len(prices)):\n",
    "    print(prices[i],prices[j])\n",
    "    if prices[j]<prices[i]:\n",
    "        print(\"buy\")\n",
    "        buy = prices[j]\n",
    "        i += 1\n",
    "        print(buy)\n",
    "    else:\n",
    "        print(\"sell\", 'i', i)\n",
    "        sell = prices[j]\n",
    "        profit.append(sell-buy)\n",
    "        i += 1\n",
    "\n",
    "profit\n",
    "\n"
   ]
  },
  {
   "cell_type": "code",
   "execution_count": 20,
   "metadata": {},
   "outputs": [
    {
     "data": {
      "text/plain": [
       "4"
      ]
     },
     "execution_count": 20,
     "metadata": {},
     "output_type": "execute_result"
    }
   ],
   "source": [
    "prices = [1,2,3,4,5]\n",
    "profit = 0\n",
    "for j in range(1,len(prices)):\n",
    "    diff = prices[i] - prices[i-1]\n",
    "    if diff > 0:\n",
    "        profit += diff \n",
    "profit\n"
   ]
  },
  {
   "cell_type": "code",
   "execution_count": 78,
   "metadata": {},
   "outputs": [
    {
     "name": "stdout",
     "output_type": "stream",
     "text": [
      "[1, 2, 3, 4]\n",
      "[5, 6, 7]\n"
     ]
    },
    {
     "data": {
      "text/plain": [
       "[5, 6, 7, 1, 2, 3, 4]"
      ]
     },
     "execution_count": 78,
     "metadata": {},
     "output_type": "execute_result"
    }
   ],
   "source": [
    "nums = [1,2,3,4,5,6,7]\n",
    "k=3\n",
    "new_k = k%len(nums)\n",
    "print(nums[:-new_k])\n",
    "print(nums[-new_k:])\n",
    "nums[:] = nums[-new_k:] + nums[:-new_k] \n",
    "nums"
   ]
  },
  {
   "cell_type": "code",
   "execution_count": 20,
   "metadata": {},
   "outputs": [
    {
     "data": {
      "text/plain": [
       "[2, 2]"
      ]
     },
     "execution_count": 20,
     "metadata": {},
     "output_type": "execute_result"
    }
   ],
   "source": [
    "nums1 = [2,2]\n",
    "nums2 = [1,2,2,3]\n",
    "cache = []\n",
    "for i in range(len(nums1)):\n",
    "    for j in range(len(nums2)):\n",
    "        if nums1[i]==nums2[j]:\n",
    "            cache.append(nums1[i])\n",
    "            nums2[j]=None\n",
    "            break\n",
    "cache\n"
   ]
  },
  {
   "cell_type": "code",
   "execution_count": 23,
   "metadata": {},
   "outputs": [
    {
     "data": {
      "text/plain": [
       "[None, None]"
      ]
     },
     "execution_count": 23,
     "metadata": {},
     "output_type": "execute_result"
    }
   ],
   "source": [
    "nums1 = [1,2,2,1]\n",
    "nums2 = [2,2]\n",
    "cache = []\n",
    "for i in range(len(nums1)):\n",
    "    for j in range(len(nums2)):\n",
    "        if nums1[i]==nums2[j]:\n",
    "            cache.append(nums1[i])\n",
    "            nums2[j]=None\n",
    "            break\n",
    "cache\n",
    "nums2"
   ]
  },
  {
   "cell_type": "code",
   "execution_count": 48,
   "metadata": {},
   "outputs": [
    {
     "data": {
      "text/plain": [
       "[1, 2, 4]"
      ]
     },
     "execution_count": 48,
     "metadata": {},
     "output_type": "execute_result"
    }
   ],
   "source": [
    "digits = [1,2,3]\n",
    "\n",
    "if digits[-1]==9:\n",
    "    if len(digits)==1:\n",
    "        digits.append(digits[0])\n",
    "        digits[-1]=0\n",
    "        digits[0]=1\n",
    "    else:\n",
    "        digits[-2]=digits[-2]+1\n",
    "        digits[-1]=0\n",
    "else:\n",
    "    digits[-1]=digits[-1]+1\n",
    "\n",
    "digits"
   ]
  },
  {
   "cell_type": "code",
   "execution_count": 6,
   "metadata": {},
   "outputs": [
    {
     "name": "stdout",
     "output_type": "stream",
     "text": [
      "[8, 9, 0] here\n",
      "[8, 0, 0] here\n"
     ]
    },
    {
     "data": {
      "text/plain": [
       "[8, 0, 0]"
      ]
     },
     "execution_count": 6,
     "metadata": {},
     "output_type": "execute_result"
    }
   ],
   "source": [
    "digits = [8,9,9]\n",
    "\n",
    "for i in range(1,len(digits)):\n",
    "    if digits[0]!= 9:\n",
    "        while digits[-i] == 9:\n",
    "            digits[-i]=0\n",
    "            print(digits, \"here\")\n",
    "            break\n",
    "        else:\n",
    "            print(\"no\")        \n",
    "            \n",
    "digits\n",
    "\n",
    "\n"
   ]
  },
  {
   "cell_type": "code",
   "execution_count": 15,
   "metadata": {},
   "outputs": [
    {
     "name": "stdout",
     "output_type": "stream",
     "text": [
      "[8, 9, 9] here\n",
      "[8, 9, 0] here\n"
     ]
    },
    {
     "data": {
      "text/plain": [
       "[9, 0, 0]"
      ]
     },
     "execution_count": 15,
     "metadata": {},
     "output_type": "execute_result"
    }
   ],
   "source": [
    "digits = [8,9,9]\n",
    "\n",
    "for i in range(1,len(digits)):\n",
    "    if digits[0]!= 9:\n",
    "            if digits[-i]==9:\n",
    "                print(digits, \"here\")\n",
    "                digits[-i]=0\n",
    "digits[0] += 1\n",
    "digits\n",
    "\n"
   ]
  },
  {
   "cell_type": "code",
   "execution_count": 27,
   "metadata": {},
   "outputs": [
    {
     "data": {
      "text/plain": [
       "[2, 2, 3]"
      ]
     },
     "execution_count": 27,
     "metadata": {},
     "output_type": "execute_result"
    }
   ],
   "source": [
    "digits = [1,2,3]\n",
    "d=[1]\n",
    "\n",
    "if digits[0]!= 9:\n",
    "    for i in range(1,len(digits)):\n",
    "        if digits[-i]==9:\n",
    "            digits[-i]=0\n",
    "    digits[0] += 1\n",
    "else:\n",
    "    for i in range(1,len(digits)):\n",
    "        if digits[-i]==9:\n",
    "            digits[-i]=0\n",
    "    digits[0]=0\n",
    "    digits = d+digits\n",
    "\n",
    "digits\n",
    "\n",
    "\n",
    "# else:\n",
    "#     digits[-1]=digits[-1]+1"
   ]
  },
  {
   "cell_type": "code",
   "execution_count": 44,
   "metadata": {},
   "outputs": [
    {
     "data": {
      "text/plain": [
       "[2, 8, 0]"
      ]
     },
     "execution_count": 44,
     "metadata": {},
     "output_type": "execute_result"
    }
   ],
   "source": [
    "digits = [1,8,9]\n",
    "d=[1]\n",
    "\n",
    "if digits[-1] != 9:\n",
    "    digits[-1]=digits[-1]+1\n",
    "else:\n",
    "    if digits[0]!= 9:\n",
    "        for i in range(1,len(digits)):\n",
    "            if digits[-i]==9:\n",
    "                digits[-i]=0\n",
    "        digits[0] += 1\n",
    "    else:\n",
    "        for i in range(1,len(digits)):\n",
    "            if digits[-i]==9:\n",
    "                digits[-i]=0\n",
    "                digits[-i-1]=digits[-i-1]+1\n",
    "        digits[0]=0\n",
    "        digits = d+digits\n",
    "\n",
    "digits\n"
   ]
  },
  {
   "cell_type": "code",
   "execution_count": 40,
   "metadata": {},
   "outputs": [
    {
     "ename": "KeyboardInterrupt",
     "evalue": "",
     "output_type": "error",
     "traceback": [
      "\u001b[0;31m---------------------------------------------------------------------------\u001b[0m",
      "\u001b[0;31mKeyboardInterrupt\u001b[0m                         Traceback (most recent call last)",
      "Cell \u001b[0;32mIn[40], line 7\u001b[0m\n\u001b[1;32m      5\u001b[0m     digits[\u001b[38;5;241m-\u001b[39m\u001b[38;5;241m1\u001b[39m]\u001b[38;5;241m=\u001b[39mdigits[\u001b[38;5;241m-\u001b[39m\u001b[38;5;241m1\u001b[39m]\u001b[38;5;241m+\u001b[39m\u001b[38;5;241m1\u001b[39m\n\u001b[1;32m      6\u001b[0m \u001b[38;5;28;01melse\u001b[39;00m:\n\u001b[0;32m----> 7\u001b[0m     \u001b[38;5;28;01mwhile\u001b[39;00m \u001b[43mj\u001b[49m\u001b[38;5;241;43m<\u001b[39;49m\u001b[38;5;28;43mlen\u001b[39;49m\u001b[43m(\u001b[49m\u001b[43mdigits\u001b[49m\u001b[43m)\u001b[49m:\n\u001b[1;32m      8\u001b[0m         \u001b[38;5;28;01mif\u001b[39;00m digits[\u001b[38;5;241m-\u001b[39mi]\u001b[38;5;241m==\u001b[39m\u001b[38;5;241m9\u001b[39m:\n\u001b[1;32m      9\u001b[0m             digits[\u001b[38;5;241m-\u001b[39mi]\u001b[38;5;241m=\u001b[39m\u001b[38;5;241m0\u001b[39m\n",
      "\u001b[0;31mKeyboardInterrupt\u001b[0m: "
     ]
    }
   ],
   "source": [
    "digits = [1,2,9]\n",
    "j=1\n",
    "\n",
    "if digits[-1] != 9:\n",
    "    digits[-1]=digits[-1]+1\n",
    "else:\n",
    "    while j<len(digits):\n",
    "        if digits[-i]==9:\n",
    "            digits[-i]=0\n",
    "            j+=1\n",
    "\n",
    "\n",
    "\n",
    "digits"
   ]
  },
  {
   "cell_type": "code",
   "execution_count": 36,
   "metadata": {},
   "outputs": [
    {
     "name": "stdout",
     "output_type": "stream",
     "text": [
      "o\n"
     ]
    },
    {
     "data": {
      "text/plain": [
       "[1, 3, 0, 9]"
      ]
     },
     "execution_count": 36,
     "metadata": {},
     "output_type": "execute_result"
    }
   ],
   "source": [
    "digits = [1,2,8,9]\n",
    "for i in range(len(digits)-1,-1, -1):\n",
    "    if digits[i]!=9:\n",
    "        print('a')\n",
    "        digits[i]+=1\n",
    "        break\n",
    "    else:\n",
    "        if digits[i-1] != 9:\n",
    "            print(\"o\")\n",
    "            digits[i]=0\n",
    "            digits[i-1]= digits[i-1]+1\n",
    "            break\n",
    "\n",
    "\n",
    "digits\n",
    "    "
   ]
  },
  {
   "cell_type": "code",
   "execution_count": 203,
   "metadata": {},
   "outputs": [
    {
     "name": "stdout",
     "output_type": "stream",
     "text": [
      "i 1 1\n",
      "i 3 2\n",
      "i 4 2\n"
     ]
    },
    {
     "data": {
      "text/plain": [
       "[1, 3, 12, 3, 12]"
      ]
     },
     "execution_count": 203,
     "metadata": {},
     "output_type": "execute_result"
    }
   ],
   "source": [
    "nums = [0,1,0,3,12]\n",
    "zeros = 0\n",
    "\n",
    "for i in range(len(nums)):\n",
    "    if nums[i] == 0:\n",
    "        zeros += 1\n",
    "    else: \n",
    "        print('i',i,zeros)\n",
    "        nums[i-zeros] = nums[i]\n",
    "    for i in range(len(nums),zeros,-1):\n",
    "        if \n",
    "nums\n",
    "\n",
    "\n",
    "        "
   ]
  },
  {
   "cell_type": "code",
   "execution_count": 218,
   "metadata": {},
   "outputs": [
    {
     "name": "stdout",
     "output_type": "stream",
     "text": [
      "zeros: 1\n",
      "zeros: 2\n",
      "zeros: 3\n"
     ]
    },
    {
     "data": {
      "text/plain": [
       "[0, 0, 0]"
      ]
     },
     "execution_count": 218,
     "metadata": {},
     "output_type": "execute_result"
    }
   ],
   "source": [
    "nums = [0,0,0]\n",
    "zeros = 0\n",
    "for i in range(len(nums)):\n",
    "    if nums[i] == 0:\n",
    "        zeros += 1\n",
    "        print(\"zeros:\",zeros)\n",
    "    else:\n",
    "        nums[i-zeros] = nums[i]\n",
    "        print(nums)\n",
    "for i in range(len(nums),len(nums)-zeros,-1):\n",
    "    nums[i-1] = 0\n",
    "\n",
    "nums\n"
   ]
  },
  {
   "cell_type": "code",
   "execution_count": 239,
   "metadata": {},
   "outputs": [
    {
     "name": "stdout",
     "output_type": "stream",
     "text": [
      "l 1 0\n",
      "l 2 0\n",
      "l 2 1\n"
     ]
    },
    {
     "data": {
      "text/plain": [
       "'\\nmatrix = [[1,2,3],[4,5,6],[7,8,9]]\\n[0,0]= 1   [0,2]\\n[0,1]= 2   [1,2]\\n[0,2]= 3   [2,2]\\n\\n[1,0]= 4   [0,1]\\n[2,2]= 5   [2,2]\\n[1,2]= 6   [2,1]\\n\\n[2,0]= 7   [0,0]\\n[2,1]= 8   [1,0]\\n[2,2]= 9   [2,0]\\n\\n'"
      ]
     },
     "execution_count": 239,
     "metadata": {},
     "output_type": "execute_result"
    }
   ],
   "source": [
    "matrix = [[1,2,3],[4,5,6],[7,8,9]]\n",
    "# [[7,4,1],[8,5,2],[9,6,3]]\n",
    "\n",
    "'''\n",
    "[1,2,3]\n",
    "[4,5,6]\n",
    "[7,8,9]\n",
    "\n",
    "[7,4,1]\n",
    "[8,5,2]\n",
    "[9,6,3]\n",
    "\n",
    "'''\n",
    "N=len(matrix)\n",
    "\n",
    "for r in range(N):\n",
    "    for c in range(r):\n",
    "        print('l', r, c)\n",
    "\n",
    "      \n",
    "\n",
    "  \n",
    "\n",
    "\n",
    "\n",
    "'''\n",
    "[[1, 4, 7], [2, 5, 8], [3, 6, 9]]\n",
    "second is what we want but let;s to the thirs then reverse\n",
    "\n",
    "[0,0]= 1   [0,2]  [0,0]\n",
    "[0,1]= 2   [1,2]  [1,0]\n",
    "[0,2]= 3   [2,2]  [2,0]\n",
    "\n",
    "[1,0]= 4   [0,1]\n",
    "[2,2]= 5   [2,2]\n",
    "[1,2]= 6   [2,1]\n",
    "\n",
    "[2,0]= 7   [0,0]\n",
    "[2,1]= 8   [1,0]\n",
    "[2,2]= 9   [2,0]\n",
    "\n",
    "'''"
   ]
  },
  {
   "cell_type": "code",
   "execution_count": 253,
   "metadata": {},
   "outputs": [
    {
     "name": "stdout",
     "output_type": "stream",
     "text": [
      "Index:  0\n",
      "Index:  1\n",
      "[1]\n",
      "Index:  2\n",
      "[1]\n",
      "[1]\n",
      "[[7, 4, 1], [8, 5, 2], [9, 6, 3]]\n"
     ]
    }
   ],
   "source": [
    "matrix = [[1,2,3],[4,5,6],[7,8,9]]\n",
    "\n",
    "N=len(matrix)\n",
    "\n",
    "for r in range(N):\n",
    "    print('Index: ', r)\n",
    "    for num in range(r):\n",
    "        print([i])\n",
    "        matrix[r][num], matrix[num][r] = matrix[num][r], matrix[r][num]\n",
    "\n",
    "for m in matrix:\n",
    "    m.reverse()    \n",
    "print(matrix)"
   ]
  },
  {
   "cell_type": "code",
   "execution_count": 262,
   "metadata": {},
   "outputs": [
    {
     "name": "stdout",
     "output_type": "stream",
     "text": [
      "{7: 0}\n",
      "{7: 0, -2: 2}\n",
      "{7: 0, -2: 2, -6: 3}\n"
     ]
    },
    {
     "data": {
      "text/plain": [
       "[1, 0]"
      ]
     },
     "execution_count": 262,
     "metadata": {},
     "output_type": "execute_result"
    }
   ],
   "source": [
    "nums = [2,7,11,15]\n",
    "target = 9\n",
    "seen = {}\n",
    "cache= []\n",
    "for i in range(len(nums)):\n",
    "    diff = target - nums[i]\n",
    "    if nums[i] not in seen:\n",
    "        seen[diff]=i\n",
    "        print(seen)\n",
    "    else:\n",
    "        cache.append(i)\n",
    "        cache.append(seen[nums[i]])\n",
    "cache\n",
    "\n"
   ]
  },
  {
   "cell_type": "code",
   "execution_count": 19,
   "metadata": {},
   "outputs": [
    {
     "name": "stdout",
     "output_type": "stream",
     "text": [
      "iteration: 2 , earning: [2, 2, 3, 0, 0, 0, 0]\n",
      "iteration: 3 , earning: [2, 2, 3, 4, 0, 0, 0]\n",
      "iteration: 4 , earning: [2, 2, 3, 4, 9, 0, 0]\n",
      "iteration: 5 , earning: [2, 2, 3, 4, 9, 12, 0]\n",
      "iteration: 6 , earning: [2, 2, 3, 4, 9, 12, 12]\n",
      "12\n"
     ]
    }
   ],
   "source": [
    "'''nums = [2,7,9,3,1]\n",
    "nums = [2,7,9]= 2+9\n",
    "max(nums[3]+nums[0])\n",
    "nums = [2,7,9,3]= 7+3\n",
    "max(nums[3]+nums[1], nums[])\n",
    "\n",
    "nums = [2,7,9,3,1,2,5,6,3]\n",
    "\n",
    "'''\n",
    "nums = [2,1,1,2,6,8,1]\n",
    "earning= [0]* len(nums)\n",
    "earning[0]=nums[0]\n",
    "earning[1]=max(nums[0],nums[1])\n",
    "for i in range(2,len(nums)):\n",
    "    earning[i]=max(nums[i]+earning[i-2] ,earning[i-1])\n",
    "    print(\"iteration:\",i,\", earning:\",earning)\n",
    "\n",
    "print(earning[-1])\n",
    "    \n"
   ]
  },
  {
   "cell_type": "code",
   "execution_count": 1,
   "metadata": {},
   "outputs": [
    {
     "ename": "SyntaxError",
     "evalue": "invalid syntax (290620130.py, line 11)",
     "output_type": "error",
     "traceback": [
      "\u001b[0;36m  Cell \u001b[0;32mIn[1], line 11\u001b[0;36m\u001b[0m\n\u001b[0;31m    Return True\u001b[0m\n\u001b[0m           ^\u001b[0m\n\u001b[0;31mSyntaxError\u001b[0m\u001b[0;31m:\u001b[0m invalid syntax\n"
     ]
    }
   ],
   "source": [
    "import re\n",
    "s = \"A man, a plan, a canal: Panama\"\n",
    "s = re.sub(\"[^a-z, ^0-9]\", \"\", )\n",
    "l,r = 0, len(s)-1\n",
    "\n",
    "while l<r:\n",
    "    if s[l]!=s[r]:\n",
    "        return False\n",
    "    l+=1\n",
    "    r-=1\n",
    "return True\n"
   ]
  },
  {
   "cell_type": "code",
   "execution_count": 2,
   "metadata": {},
   "outputs": [
    {
     "name": "stdout",
     "output_type": "stream",
     "text": [
      "i -1\n",
      "0 1 5 else -1 0 -4\n",
      "out\n",
      "i 1\n",
      "1 2 5 else 1 1 -5\n",
      "first 1 2 5 else 1 1 -5\n",
      "out\n",
      "i 3\n",
      "2 3 5 else 3 2 -6\n",
      "out\n",
      "i 3\n",
      "3 4 5 else 3 -1 -7\n",
      "out\n",
      "i 0\n",
      "4 5 5 else 0 -8 -8\n",
      "[]\n"
     ]
    }
   ],
   "source": [
    "nums = [-1,0,1,2,-1,-4]\n",
    "list_triplets=[]\n",
    "for i in range(len(nums)-1):\n",
    "    print('i', nums[i])\n",
    "    l=i+1\n",
    "    r=len(nums)-1\n",
    "    print(i,l,r ,'else',nums[i],nums[l], nums[r])\n",
    "\n",
    "    while l<r:\n",
    "        if nums[l]==nums[i]:\n",
    "            print('first', i,l,r ,'else',nums[i],nums[l], nums[r])\n",
    "            nums[l]+=1\n",
    "        if nums[r]==nums[i]:\n",
    "            print('second', nums[i],nums[l], nums[r])\n",
    "            nums[r]-=1\n",
    "        if nums[i]!=nums[l] & nums[l]!=r & nums[i]+nums[l]+nums[r]==0:\n",
    "            print('third')\n",
    "            triplets=[nums[i],nums[l], nums[r]]\n",
    "            print(triplets)\n",
    "            list_triplets.append(triplets)\n",
    "            nums[l]+=1\n",
    "            nums[r]-=1\n",
    "        else:\n",
    "            print(\"out\")\n",
    "            nums[l]+=1\n",
    "            nums[r]-=1\n",
    "            breakL\n",
    "\n",
    "print(list_triplets)\n",
    "\n"
   ]
  },
  {
   "cell_type": "code",
   "execution_count": 5,
   "metadata": {},
   "outputs": [
    {
     "ename": "TypeError",
     "evalue": "object of type 'int' has no len()",
     "output_type": "error",
     "traceback": [
      "\u001b[0;31m---------------------------------------------------------------------------\u001b[0m",
      "\u001b[0;31mTypeError\u001b[0m                                 Traceback (most recent call last)",
      "Cell \u001b[0;32mIn[5], line 5\u001b[0m\n\u001b[1;32m      1\u001b[0m \u001b[38;5;66;03m# What are the real danger\u001b[39;00m\n\u001b[1;32m      3\u001b[0m nums \u001b[38;5;241m=\u001b[39m [\u001b[38;5;241m-\u001b[39m\u001b[38;5;241m1\u001b[39m,\u001b[38;5;241m0\u001b[39m,\u001b[38;5;241m1\u001b[39m,\u001b[38;5;241m2\u001b[39m,\u001b[38;5;241m-\u001b[39m\u001b[38;5;241m1\u001b[39m,\u001b[38;5;241m-\u001b[39m\u001b[38;5;241m4\u001b[39m]\n\u001b[0;32m----> 5\u001b[0m \u001b[38;5;28;01mfor\u001b[39;00m i \u001b[38;5;129;01min\u001b[39;00m \u001b[38;5;28mrange\u001b[39m(\u001b[38;5;28;43mlen\u001b[39;49m\u001b[43m(\u001b[49m\u001b[38;5;241;43m10\u001b[39;49m\u001b[43m)\u001b[49m):\n\u001b[1;32m      6\u001b[0m     \u001b[38;5;28mprint\u001b[39m(i)\n",
      "\u001b[0;31mTypeError\u001b[0m: object of type 'int' has no len()"
     ]
    }
   ],
   "source": [
    "# What are the real danger\n",
    " \n",
    "nums = [-1,0,1,2,-1,-4]\n",
    "list_triplets = []\n",
    "l, r = nums[i]+1,len(nums)-1\n",
    "for i in range(len(nums)):\n",
    "    while l<r:\n",
    "        if nums[i] + nums[l] + nums[r] ==0:\n",
    "            \n",
    "    \n",
    "\n"
   ]
  },
  {
   "cell_type": "code",
   "execution_count": 11,
   "metadata": {},
   "outputs": [
    {
     "name": "stdout",
     "output_type": "stream",
     "text": [
      "start\n",
      "add\n",
      "step3 i 0 l 1 r 3 nums[i] -1 nums[l] 0 nums[r] 1 sum: 0\n",
      "list_triplets [[-1, 0, 1]]\n",
      "start\n",
      "step1 i 1 l 2 r 3 nums[i] 0 nums[l] 0 nums[r] 1 sum: 1\n",
      "add\n",
      "step3 i 1 l 2 r 2 nums[i] 0 nums[l] 0 nums[r] 0 sum: 0\n",
      "list_triplets [[-1, 0, 1], [0, 0, 0]]\n"
     ]
    },
    {
     "data": {
      "text/plain": [
       "[[-1, 0, 1], [0, 0, 0]]"
      ]
     },
     "execution_count": 11,
     "metadata": {},
     "output_type": "execute_result"
    }
   ],
   "source": [
    "# nums = [-1,0,1,2,-1,-4]\n",
    "# [-4, -1, -1, 0, 1, 2]\n",
    "nums = [-1,0,1,0]\n",
    "# -1 0 0 1\n",
    "nums.sort()\n",
    "list_triplets = []\n",
    "for i in range(len(nums)-1):\n",
    "    l, r = i+1 ,len(nums)-1\n",
    "    while l<r:\n",
    "        print('start')\n",
    "        if nums[i]==nums[l]+nums[r]:\n",
    "            print('no')\n",
    "        if nums[l] + nums[r] > nums[i] and nums[l] + nums[r] + nums[i] != 0:\n",
    "            print('step1','i',i,'l',l,'r',r,'nums[i]',nums[i],'nums[l]',nums[l],'nums[r]',nums[r],'sum:',nums[i]+nums[l]+nums[r])\n",
    "            r-=1\n",
    "        if nums[l] + nums[r] < nums[i] and nums[l] + nums[r] + nums[i] != 0:\n",
    "            print('step2','i',i,'l',l,'r',r,'nums[i]',nums[i],'nums[l]',nums[l],'nums[r]',nums[r],'sum:',nums[i]+nums[l]+nums[r])\n",
    "            l+=1\n",
    "        if nums[l] + nums[r] + nums[i] == 0:\n",
    "            print('add')\n",
    "            print('step3','i',i,'l',l,'r',r,'nums[i]',nums[i],'nums[l]',nums[l],'nums[r]',nums[r],'sum:',nums[i]+nums[l]+nums[r])\n",
    "            list_triplets.append([nums[i], nums[l], nums[r]])\n",
    "            print('list_triplets', list_triplets)\n",
    "            r-=1\n",
    "            break\n",
    "\n",
    "list_triplets"
   ]
  },
  {
   "cell_type": "markdown",
   "metadata": {},
   "source": []
  },
  {
   "cell_type": "code",
   "execution_count": 29,
   "metadata": {},
   "outputs": [
    {
     "name": "stdout",
     "output_type": "stream",
     "text": [
      "current_water;; 8 1 0 8\n",
      "most_water 8\n",
      "current_wateroo 49 7 1 8\n",
      "current_wateroo 18 3 1 7\n",
      "current_wateroo 40 8 1 6\n",
      "current_wateroo 16 4 1 5\n",
      "current_wateroo 15 5 1 4\n",
      "current_wateroo 4 2 1 3\n",
      "current_wateroo 6 6 1 2\n",
      "1 1\n"
     ]
    },
    {
     "data": {
      "text/plain": [
       "49"
      ]
     },
     "execution_count": 29,
     "metadata": {},
     "output_type": "execute_result"
    }
   ],
   "source": [
    "height = [1,8,6,2,5,4,8,3,7]\n",
    "l, r = 0, len(height)-1\n",
    "most_water = 0\n",
    "\n",
    "while l<r:\n",
    "    if height[l]<height[r]:\n",
    "        curr_water = height[l]*(r-l)\n",
    "        print('current_water;;', curr_water, height[l],l, r)\n",
    "        most_water = max(curr_water, most_water)\n",
    "        print('most_water', most_water)\n",
    "        l+=1\n",
    "    else:\n",
    "        curr_water = height[r]*(r-l)\n",
    "        print('current_wateroo', curr_water, height[r],l, r)\n",
    "        most_water = max(curr_water, most_water)\n",
    "        r-=1\n",
    "print(l,r)\n",
    "most_water\n"
   ]
  },
  {
   "cell_type": "code",
   "execution_count": 11,
   "metadata": {},
   "outputs": [
    {
     "data": {
      "text/plain": [
       "0"
      ]
     },
     "execution_count": 11,
     "metadata": {},
     "output_type": "execute_result"
    }
   ],
   "source": [
    "5%5"
   ]
  },
  {
   "cell_type": "markdown",
   "metadata": {},
   "source": []
  }
 ],
 "metadata": {
  "interpreter": {
   "hash": "dd13c374e603f05868d1d06979cdcb04436998f6504389b955c3865716919ae6"
  },
  "kernelspec": {
   "display_name": "Python 3.9.1 64-bit ('3.9.1': pyenv)",
   "name": "python3"
  },
  "language_info": {
   "codemirror_mode": {
    "name": "ipython",
    "version": 3
   },
   "file_extension": ".py",
   "mimetype": "text/x-python",
   "name": "python",
   "nbconvert_exporter": "python",
   "pygments_lexer": "ipython3",
   "version": "3.9.1"
  },
  "orig_nbformat": 4
 },
 "nbformat": 4,
 "nbformat_minor": 2
}
