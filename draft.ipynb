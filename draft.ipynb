{
 "cells": [
  {
   "cell_type": "code",
   "execution_count": 1,
   "metadata": {},
   "outputs": [],
   "source": [
    "### 2d array"
   ]
  },
  {
   "cell_type": "code",
   "execution_count": 48,
   "metadata": {},
   "outputs": [],
   "source": [
    "\n",
    "arr=[\n",
    "  [ 1, 6, 8, 0, 0, 0 ],\n",
    "  [ 0, 4, 0, 0, 5, 0 ],\n",
    "  [ 7, 9, 3, 0, 1, 0 ],\n",
    "  [ 0, 0, 2, 4, 4, 0 ],\n",
    "  [ 0, 0, 0, 2, 0, 0 ],\n",
    "  [ 0, 0, 1, 2, 4, 0 ]\n",
    "]"
   ]
  },
  {
   "cell_type": "code",
   "execution_count": 53,
   "metadata": {},
   "outputs": [
    {
     "name": "stdout",
     "output_type": "stream",
     "text": [
      "[38, 26, 12, 6, 15, 13, 15, 14, 19, 16, 10, 7, 3, 9, 19, 14]\n",
      "38\n"
     ]
    }
   ],
   "source": [
    "list_sum = []\n",
    "for i in range(0,4):\n",
    "    for j in range(0,4):\n",
    "        first_row = arr[i][j] + arr[i][j+1] +  arr[i][j+2] \n",
    "        second_row =  arr[i+1][j+1]\n",
    "        third_row = arr[i+2][j] + arr[i+2][j+1] +  arr[i+2][j+2]\n",
    "        sum_arrays = first_row + second_row + third_row \n",
    "        list_sum.append(sum_arrays)\n",
    "\n",
    "print(list_sum)\n",
    "print(max(list_sum))"
   ]
  },
  {
   "cell_type": "code",
   "execution_count": 108,
   "metadata": {},
   "outputs": [
    {
     "name": "stdout",
     "output_type": "stream",
     "text": [
      "-1\n",
      "-2\n",
      "-3\n"
     ]
    },
    {
     "data": {
      "text/plain": [
       "[3, 2, 1]"
      ]
     },
     "execution_count": 108,
     "metadata": {},
     "output_type": "execute_result"
    }
   ],
   "source": [
    "### Reverse Array\n",
    "\n",
    "list_a = [1,2,3]\n",
    "reversed_list_a = []\n",
    "\n",
    "# for i in range(len(list_a)):\n",
    "#     print(i)\n",
    "#     reversed_list_a.append(list_a[-i])\n",
    "#     print(reversed_list_a)\n",
    "\n",
    "ini=-1\n",
    "listr= []\n",
    "while ini > (len(list_a)*(-1)-1):\n",
    "    print(ini)\n",
    "    listr.append(list_a[ini])\n",
    "    ini -= 1\n",
    "\n",
    "listr\n",
    "\n"
   ]
  },
  {
   "cell_type": "code",
   "execution_count": 128,
   "metadata": {},
   "outputs": [
    {
     "data": {
      "text/plain": [
       "[2, 3, 4, 5, 1]"
      ]
     },
     "execution_count": 128,
     "metadata": {},
     "output_type": "execute_result"
    }
   ],
   "source": [
    "### Left Rotation\n",
    "\n",
    "a = [1,2,3,4,5]\n",
    "new_a = []\n",
    "\n",
    "new_a.append(a[1])\n",
    "new_a.append(a[2])\n",
    "new_a.append(a[3])\n",
    "new_a.append(a[4])\n",
    "new_a.append(a[0])\n",
    "\n",
    "\n",
    "\n",
    "new_a"
   ]
  },
  {
   "cell_type": "code",
   "execution_count": 15,
   "metadata": {},
   "outputs": [
    {
     "name": "stdout",
     "output_type": "stream",
     "text": [
      "[2, 3, 4, 5, 1]\n",
      "[3, 4, 5, 1, 2]\n"
     ]
    }
   ],
   "source": [
    "# This works but timeout in the website\n",
    "\n",
    "a = [1,2,3,4,5]\n",
    "d = 2\n",
    "z = 1\n",
    "x = d%len(a)\n",
    "while z < x+1:\n",
    "    new_a = []\n",
    "    for i in range(len(a)):\n",
    "        position = 1+i\n",
    "        if position < len(a):\n",
    "            new_a.append(a[position])\n",
    "        else:\n",
    "            new_a.append(a[0]) \n",
    "    a = new_a\n",
    "    z += 1\n",
    "    \n",
    "    print(a)"
   ]
  },
  {
   "cell_type": "code",
   "execution_count": 42,
   "metadata": {},
   "outputs": [
    {
     "name": "stdout",
     "output_type": "stream",
     "text": [
      "final [2, 3, 4, 5, 1]\n"
     ]
    }
   ],
   "source": [
    "#Best solution regarding the timeout\n",
    "list_a = [1,2,3,4,5]\n",
    "d = 2\n",
    "x = d%len(a)\n",
    "list_a = list_a[1:] + list_a[:1]\n",
    "print('final', list_a)\n",
    "\n",
    "    "
   ]
  },
  {
   "cell_type": "code",
   "execution_count": 52,
   "metadata": {},
   "outputs": [
    {
     "name": "stdout",
     "output_type": "stream",
     "text": [
      "2\n"
     ]
    }
   ],
   "source": [
    "### Sparse array\n",
    "output = []\n",
    "for term in queries:\n",
    "    count = 0\n",
    "    for i in range(len(stringList)):\n",
    "        if term == stringList[i]:\n",
    "            print(term)\n",
    "            count += 1\n",
    "    output.append(count)\n",
    "        \n",
    "output"
   ]
  },
  {
   "cell_type": "code",
   "execution_count": 64,
   "metadata": {},
   "outputs": [
    {
     "name": "stdout",
     "output_type": "stream",
     "text": [
      "av\n",
      "av\n",
      "vvc\n"
     ]
    },
    {
     "data": {
      "text/plain": [
       "[2, 1, 0]"
      ]
     },
     "execution_count": 64,
     "metadata": {},
     "output_type": "execute_result"
    }
   ],
   "source": [
    "queries = ['av', 'vvc', 'bb']\n",
    "stringList = ['av', 'av', 'vvc']\n",
    "output = []\n",
    "for term in queries:\n",
    "    count = 0\n",
    "    for i in range(len(stringList)):\n",
    "        if term == stringList[i]:\n",
    "            print(term)\n",
    "            count += 1\n",
    "    output.append(count)\n",
    "\n",
    "output\n",
    "            "
   ]
  },
  {
   "cell_type": "code",
   "execution_count": 86,
   "metadata": {},
   "outputs": [
    {
     "data": {
      "text/plain": [
       "[2, 0]"
      ]
     },
     "execution_count": 86,
     "metadata": {},
     "output_type": "execute_result"
    }
   ],
   "source": [
    "#Compare the triples \n",
    "a = [2,1,5]\n",
    "b = [1,1,2]\n",
    "\n",
    "score_a = 0\n",
    "score_b = 0\n",
    "c= []\n",
    "\n",
    "for i,j in zip(range(len(a)),range(len(b))):\n",
    "    if a[i]>b[j]:\n",
    "        score_a += 1\n",
    "    elif a[i] < b[j]:\n",
    "        score_b += 1\n",
    "c.append(score_a)\n",
    "c.append(score_b)\n",
    "\n",
    "c\n",
    "\n"
   ]
  },
  {
   "cell_type": "code",
   "execution_count": 94,
   "metadata": {},
   "outputs": [
    {
     "data": {
      "text/plain": [
       "6"
      ]
     },
     "execution_count": 94,
     "metadata": {},
     "output_type": "execute_result"
    }
   ],
   "source": [
    "\n",
    "ar = [1,2,3]\n",
    "\n",
    "if len(ar)<10**10 and len(ar)>0:\n",
    "    sum = 0\n",
    "    for i in range(len(ar)):\n",
    "        sum += ar[i]\n",
    "sum"
   ]
  },
  {
   "cell_type": "code",
   "execution_count": 140,
   "metadata": {},
   "outputs": [],
   "source": [
    "arr=[\n",
    "  [ 1, 6, 8],\n",
    "  [ 0, 4, 0],\n",
    "  [ 7, 9, 3]\n",
    "]"
   ]
  },
  {
   "cell_type": "code",
   "execution_count": 132,
   "metadata": {},
   "outputs": [
    {
     "data": {
      "text/plain": [
       "[1, 4, 3]"
      ]
     },
     "execution_count": 132,
     "metadata": {},
     "output_type": "execute_result"
    }
   ],
   "source": [
    "import numpy as np \n",
    "a = [arr[i][i] for i in range(len(arr))]\n",
    "b = [arr[i][~i] for i in range(len(arr))]\n",
    "for i in range(lemn)"
   ]
  },
  {
   "cell_type": "code",
   "execution_count": 139,
   "metadata": {},
   "outputs": [
    {
     "data": {
      "text/plain": [
       "8"
      ]
     },
     "execution_count": 139,
     "metadata": {},
     "output_type": "execute_result"
    }
   ],
   "source": [
    "score_a = 0 \n",
    "score_b = 0\n",
    "for i in range(len(arr)):\n",
    "    score += arr[i][i]\n",
    "for i in range(len(arr)):\n",
    "    score += arr[i][i]\n",
    "\n",
    "\n",
    "score"
   ]
  },
  {
   "cell_type": "code",
   "execution_count": 14,
   "metadata": {},
   "outputs": [
    {
     "data": {
      "text/plain": [
       "4"
      ]
     },
     "execution_count": 14,
     "metadata": {},
     "output_type": "execute_result"
    }
   ],
   "source": [
    "arr=[\n",
    "  [ 1, 6, 8],\n",
    "  [ 0, 4, 5],\n",
    "  [ 7, 9, 3]\n",
    "]\n",
    "\n",
    "arr[~1][~1]\n"
   ]
  },
  {
   "cell_type": "code",
   "execution_count": 16,
   "metadata": {},
   "outputs": [
    {
     "data": {
      "text/plain": [
       "3"
      ]
     },
     "execution_count": 16,
     "metadata": {},
     "output_type": "execute_result"
    }
   ],
   "source": [
    "10//3"
   ]
  },
  {
   "cell_type": "code",
   "execution_count": 17,
   "metadata": {},
   "outputs": [
    {
     "data": {
      "text/plain": [
       "1"
      ]
     },
     "execution_count": 17,
     "metadata": {},
     "output_type": "execute_result"
    }
   ],
   "source": [
    "10%3"
   ]
  },
  {
   "cell_type": "code",
   "execution_count": 18,
   "metadata": {},
   "outputs": [
    {
     "data": {
      "text/plain": [
       "10"
      ]
     },
     "execution_count": 18,
     "metadata": {},
     "output_type": "execute_result"
    }
   ],
   "source": [
    "10%11"
   ]
  },
  {
   "cell_type": "code",
   "execution_count": 19,
   "metadata": {},
   "outputs": [
    {
     "data": {
      "text/plain": [
       "2"
      ]
     },
     "execution_count": 19,
     "metadata": {},
     "output_type": "execute_result"
    }
   ],
   "source": [
    "10%4"
   ]
  },
  {
   "cell_type": "code",
   "execution_count": null,
   "metadata": {},
   "outputs": [],
   "source": []
  }
 ],
 "metadata": {
  "interpreter": {
   "hash": "7e80e4b0bb41dd3a607d8d785d4639bf8cd6b033bea912612b2a9de95fb4c0a3"
  },
  "kernelspec": {
   "display_name": "Python 3.8.8 64-bit ('base': conda)",
   "name": "python3"
  },
  "language_info": {
   "codemirror_mode": {
    "name": "ipython",
    "version": 3
   },
   "file_extension": ".py",
   "mimetype": "text/x-python",
   "name": "python",
   "nbconvert_exporter": "python",
   "pygments_lexer": "ipython3",
   "version": "3.8.8"
  },
  "orig_nbformat": 4
 },
 "nbformat": 4,
 "nbformat_minor": 2
}
