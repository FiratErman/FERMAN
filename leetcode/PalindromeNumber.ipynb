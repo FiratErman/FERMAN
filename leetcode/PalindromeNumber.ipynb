{
 "cells": [
  {
   "cell_type": "code",
   "execution_count": 4,
   "metadata": {},
   "outputs": [],
   "source": [
    "'''Give an interger x return true if x is palindrome integer.\n",
    "Without using string'''\n",
    "x=121\n",
    "\n",
    "def isPalindrome(x: int)-> bool:\n",
    "    if x < 0 :\n",
    "        return (False)\n",
    "    \n",
    "    reverse_num = 0 \n",
    "    digit = 0 \n",
    "\n",
    "    while (x // (10**digit) != 0):\n",
    "        reverse_num = (reverse_num*10) + (x // (10**digit) % 10)\n",
    "        digit += 1 \n",
    "\n",
    "    return(x == reverse_num)"
   ]
  },
  {
   "cell_type": "code",
   "execution_count": 7,
   "metadata": {},
   "outputs": [
    {
     "data": {
      "text/plain": [
       "True"
      ]
     },
     "execution_count": 7,
     "metadata": {},
     "output_type": "execute_result"
    }
   ],
   "source": [
    "isPalindrome(x=303)"
   ]
  },
  {
   "cell_type": "code",
   "execution_count": null,
   "metadata": {},
   "outputs": [],
   "source": []
  }
 ],
 "metadata": {
  "interpreter": {
   "hash": "7e80e4b0bb41dd3a607d8d785d4639bf8cd6b033bea912612b2a9de95fb4c0a3"
  },
  "kernelspec": {
   "display_name": "Python 3.8.8 64-bit ('base': conda)",
   "name": "python3"
  },
  "language_info": {
   "codemirror_mode": {
    "name": "ipython",
    "version": 3
   },
   "file_extension": ".py",
   "mimetype": "text/x-python",
   "name": "python",
   "nbconvert_exporter": "python",
   "pygments_lexer": "ipython3",
   "version": "3.8.8"
  },
  "orig_nbformat": 4
 },
 "nbformat": 4,
 "nbformat_minor": 2
}
