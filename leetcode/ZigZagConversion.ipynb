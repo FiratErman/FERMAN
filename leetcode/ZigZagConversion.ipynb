{
 "cells": [
  {
   "cell_type": "code",
   "execution_count": 54,
   "metadata": {},
   "outputs": [
    {
     "name": "stdout",
     "output_type": "stream",
     "text": [
      "PAHNAPLSIIGYIR\n"
     ]
    }
   ],
   "source": [
    "s=\"PAYPALISHIRING\"\n",
    "numRows=3\n",
    "row_map={row:\"\" for row in range(1,numRows+1)}\n",
    "row = 1\n",
    "up = True\n",
    "\n",
    "for letter in s:\n",
    "    row_map[row] = row_map[row]+letter\n",
    "    if (row == 1) or ((row < numRows) and up):\n",
    "        row += 1\n",
    "        up=True\n",
    "    else:\n",
    "        row -= 1\n",
    "        up = False\n",
    "\n",
    "s1=\"\"\n",
    "for row in range(1,numRows+1):\n",
    "    s1=s1+row_map[row]\n",
    "\n",
    "print(s1)"
   ]
  }
 ],
 "metadata": {
  "interpreter": {
   "hash": "7e80e4b0bb41dd3a607d8d785d4639bf8cd6b033bea912612b2a9de95fb4c0a3"
  },
  "kernelspec": {
   "display_name": "Python 3.8.8 64-bit ('base': conda)",
   "name": "python3"
  },
  "language_info": {
   "codemirror_mode": {
    "name": "ipython",
    "version": 3
   },
   "file_extension": ".py",
   "mimetype": "text/x-python",
   "name": "python",
   "nbconvert_exporter": "python",
   "pygments_lexer": "ipython3",
   "version": "3.8.8"
  },
  "orig_nbformat": 4
 },
 "nbformat": 4,
 "nbformat_minor": 2
}
