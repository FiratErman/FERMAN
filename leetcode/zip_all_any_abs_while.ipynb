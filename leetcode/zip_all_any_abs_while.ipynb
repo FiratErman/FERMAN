{
 "cells": [
  {
   "cell_type": "markdown",
   "metadata": {},
   "source": [
    "# ZIP \n",
    "\n",
    "### Allow to create pair with two(or more) list for example (1,1), (2,4) etc ..."
   ]
  },
  {
   "cell_type": "code",
   "execution_count": 1,
   "metadata": {},
   "outputs": [
    {
     "data": {
      "text/plain": [
       "[(1, 1, 1, 1), (2, 4, 2, 4), (3, 8, 3, 8), (4, 1, 4, 1)]"
      ]
     },
     "execution_count": 1,
     "metadata": {},
     "output_type": "execute_result"
    }
   ],
   "source": [
    "# * allow to iterate without it, it will be an object\n",
    "a=[1,2,3,4]\n",
    "b= [1,4,8,1]\n",
    "c=[1,2,3,4]\n",
    "d= [1,4,8,1]\n",
    "\n",
    "[*zip(a,b,c,d)]"
   ]
  },
  {
   "cell_type": "markdown",
   "metadata": {},
   "source": [
    "# ALL and ANY\n",
    "\n",
    "#### To check TRUE/FALSE or 0/1 in a list \n",
    "#### Also good for logical operation\n",
    "#### Any used if there is at least one, all if all are equal to true or 1"
   ]
  },
  {
   "cell_type": "code",
   "execution_count": 3,
   "metadata": {},
   "outputs": [
    {
     "name": "stdout",
     "output_type": "stream",
     "text": [
      "True\n",
      "False\n",
      "False\n"
     ]
    }
   ],
   "source": [
    "x = [True,True,True]\n",
    "y = [False,False,False]\n",
    "z = [True,False,True]\n",
    "\n",
    "print(all(x))\n",
    "print(all(y))\n",
    "print(all(z))"
   ]
  },
  {
   "cell_type": "code",
   "execution_count": 7,
   "metadata": {},
   "outputs": [
    {
     "name": "stdout",
     "output_type": "stream",
     "text": [
      "False\n",
      "True\n",
      "True\n",
      "True\n"
     ]
    }
   ],
   "source": [
    "x = [0,1,0,1,1]\n",
    "y= [1,1,1,1,1]\n",
    "\n",
    "print(all(x))\n",
    "print(all(y))\n",
    "\n",
    "print(any(x))\n",
    "print(any(y))"
   ]
  },
  {
   "cell_type": "code",
   "execution_count": 11,
   "metadata": {},
   "outputs": [
    {
     "name": "stdout",
     "output_type": "stream",
     "text": [
      "True\n",
      "False\n"
     ]
    }
   ],
   "source": [
    "import numpy as np \n",
    "\n",
    "power_level_list = np.array([100,4000,9001,1500])\n",
    "\n",
    "print(any(power_level_list > 900))\n",
    "print(all(power_level_list > 900))"
   ]
  },
  {
   "cell_type": "markdown",
   "metadata": {},
   "source": [
    "# ABS "
   ]
  },
  {
   "cell_type": "code",
   "execution_count": 12,
   "metadata": {},
   "outputs": [
    {
     "data": {
      "text/plain": [
       "[3, 2, 1]"
      ]
     },
     "execution_count": 12,
     "metadata": {},
     "output_type": "execute_result"
    }
   ],
   "source": [
    "x =-3\n",
    "abs(3)\n",
    "\n",
    "y=[3,-2,-1]\n",
    "[*map(abs,y)]"
   ]
  },
  {
   "cell_type": "markdown",
   "metadata": {},
   "source": [
    "# WHILE "
   ]
  },
  {
   "cell_type": "code",
   "execution_count": 15,
   "metadata": {},
   "outputs": [
    {
     "name": "stdout",
     "output_type": "stream",
     "text": [
      "gohan\n",
      "goku\n"
     ]
    }
   ],
   "source": [
    "characters = [\"krilin\",'goku','vegeta','gohan','piccolo']\n",
    "villains=['vegeta','piccolo']\n",
    "while 'goku' in characters:\n",
    "    next_char= characters.pop()\n",
    "    if next_char in villains:\n",
    "        continue\n",
    "    print(next_char)"
   ]
  },
  {
   "cell_type": "code",
   "execution_count": 16,
   "metadata": {},
   "outputs": [],
   "source": [
    "import random \n",
    "random.seed(12)"
   ]
  },
  {
   "cell_type": "code",
   "execution_count": 35,
   "metadata": {},
   "outputs": [
    {
     "name": "stdout",
     "output_type": "stream",
     "text": [
      "Vowel!\n"
     ]
    }
   ],
   "source": [
    "# use break to exit the code \n",
    "s = \"while true: loops forever unless you break out\"\n",
    "\n",
    "while True:\n",
    "    random_letter = random.choice(s)\n",
    "    if random_letter in \"aeiou\":\n",
    "        print(\"Vowel!\")\n",
    "        break\n",
    "    else:\n",
    "        print('conson')\n",
    "    "
   ]
  },
  {
   "cell_type": "code",
   "execution_count": 28,
   "metadata": {},
   "outputs": [
    {
     "data": {
      "text/plain": [
       "'y'"
      ]
     },
     "execution_count": 28,
     "metadata": {},
     "output_type": "execute_result"
    }
   ],
   "source": [
    "random.choice(s)"
   ]
  },
  {
   "cell_type": "code",
   "execution_count": null,
   "metadata": {},
   "outputs": [],
   "source": []
  }
 ],
 "metadata": {
  "interpreter": {
   "hash": "7e80e4b0bb41dd3a607d8d785d4639bf8cd6b033bea912612b2a9de95fb4c0a3"
  },
  "kernelspec": {
   "display_name": "Python 3.8.8 64-bit ('base': conda)",
   "name": "python3"
  },
  "language_info": {
   "codemirror_mode": {
    "name": "ipython",
    "version": 3
   },
   "file_extension": ".py",
   "mimetype": "text/x-python",
   "name": "python",
   "nbconvert_exporter": "python",
   "pygments_lexer": "ipython3",
   "version": "3.8.8"
  },
  "orig_nbformat": 4
 },
 "nbformat": 4,
 "nbformat_minor": 2
}
