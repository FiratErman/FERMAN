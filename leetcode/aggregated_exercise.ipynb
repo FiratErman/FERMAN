{
 "cells": [
  {
   "cell_type": "markdown",
   "metadata": {},
   "source": [
    " Longest Substring Without Repeating Characters\n",
    " Given a string s, find the length of the longest \n",
    "substring\n",
    " without repeating characters.\n",
    "\n",
    "Input: s = \"abcabcbb\"\n",
    "Output: 3\n",
    "Explanation: The answer is \"abc\", with the length of 3."
   ]
  },
  {
   "cell_type": "code",
   "execution_count": 62,
   "metadata": {},
   "outputs": [
    {
     "name": "stdout",
     "output_type": "stream",
     "text": [
      "letter a max len: -1\n",
      "a NEW\n",
      "letter s max len: 1\n",
      "as NEW\n",
      "letter j max len: 2\n",
      "asj NEW\n",
      "letter r max len: 3\n",
      "asjr NEW\n",
      "letter g max len: 4\n",
      "asjrg NEW\n",
      "letter a max len: 5\n",
      "here a\n",
      "letter p max len: 5\n",
      "ap NEW\n",
      "letter a max len: 5\n",
      "here a\n",
      "letter s max len: 5\n",
      "as NEW\n",
      "letter j max len: 5\n",
      "asj NEW\n",
      "letter r max len: 5\n",
      "asjr NEW\n",
      "letter g max len: 5\n",
      "asjrg NEW\n",
      "letter a max len: 5\n",
      "here a\n",
      "letter p max len: 5\n",
      "ap NEW\n",
      "letter a max len: 5\n",
      "here a\n",
      "letter j max len: 5\n",
      "aj NEW\n",
      "letter r max len: 5\n",
      "ajr NEW\n",
      "letter g max len: 5\n",
      "ajrg NEW\n",
      "letter a max len: 5\n",
      "here a\n",
      "letter p max len: 5\n",
      "ap NEW\n",
      "letter a max len: 5\n",
      "here a\n",
      "letter r max len: 5\n",
      "ar NEW\n",
      "letter g max len: 5\n",
      "arg NEW\n",
      "letter a max len: 5\n",
      "here a\n",
      "letter p max len: 5\n",
      "ap NEW\n",
      "letter a max len: 5\n",
      "here a\n",
      "letter g max len: 5\n",
      "ag NEW\n",
      "letter a max len: 5\n",
      "here a\n",
      "letter p max len: 5\n",
      "ap NEW\n",
      "letter a max len: 5\n",
      "here a\n",
      "letter a max len: 5\n",
      "here a\n",
      "letter p max len: 5\n",
      "ap NEW\n",
      "letter a max len: 5\n",
      "here a\n",
      "letter p max len: 5\n",
      "ap NEW\n",
      "letter a max len: 5\n",
      "here a\n",
      "letter a max len: 5\n",
      "here a\n",
      "5 max_len\n"
     ]
    }
   ],
   "source": [
    "s = \"asjrgapa\"\n",
    "\n",
    "seen = []\n",
    "new = ''\n",
    "max_len = -1\n",
    "for i in range(len(s)):\n",
    "    for letter in s[i:]:\n",
    "        print(\"letter \" + letter, \"max len:\",max_len)\n",
    "        if letter not in new:\n",
    "            new += letter\n",
    "            if len(new)>max_len:\n",
    "                max_len = len(new)\n",
    "            print(new, \"NEW\")\n",
    "        else:\n",
    "            new = '' + letter\n",
    "            print(\"here\", new)\n",
    "\n",
    "print(max_len, \"max_len\")\n"
   ]
  },
  {
   "cell_type": "code",
   "execution_count": 84,
   "metadata": {},
   "outputs": [
    {
     "name": "stdout",
     "output_type": "stream",
     "text": [
      "pwke\n",
      "4\n"
     ]
    }
   ],
   "source": [
    "s = \"pwwkew\"\n",
    "seen = []\n",
    "new = ''\n",
    "max_len = 0\n",
    "aa = [ ch  for i, ch in enumerate(s) if ch not in s[:i]]\n",
    "s = ''.join(aa)\n",
    "print(s)\n",
    "for i in range(len(s)):\n",
    "    new = ''\n",
    "    for letter in s[i:]:\n",
    "        if letter not in new:\n",
    "            new += letter\n",
    "            if len(new)>max_len:\n",
    "                max_len = len(new)\n",
    "        else:\n",
    "            new = '' + letter      \n",
    "print(max_len)"
   ]
  },
  {
   "cell_type": "code",
   "execution_count": 2,
   "metadata": {},
   "outputs": [
    {
     "data": {
      "text/plain": [
       "[0, 0, 0]"
      ]
     },
     "execution_count": 2,
     "metadata": {},
     "output_type": "execute_result"
    }
   ],
   "source": [
    "for i in range(start, end+1):\n",
    "    c = s[i]\n",
    "    chars[ord(c)] += 1 "
   ]
  },
  {
   "cell_type": "code",
   "execution_count": 27,
   "metadata": {},
   "outputs": [
    {
     "data": {
      "text/plain": [
       "119"
      ]
     },
     "execution_count": 27,
     "metadata": {},
     "output_type": "execute_result"
    }
   ],
   "source": [
    "s = \"pwwkew\"\n",
    "chars = [0] * 128\n",
    "ord('w')"
   ]
  },
  {
   "cell_type": "code",
   "execution_count": null,
   "metadata": {},
   "outputs": [],
   "source": [
    "def lengthOfLongestSubstring(str):\n",
    "     \n",
    "    n = len(str)\n",
    "    res = 0\n",
    "  \n",
    "    for i in range(n):\n",
    "         \n",
    "        visited = [0] * 256  \n",
    "  \n",
    "        for j in range(i, n):\n",
    "  \n",
    "            if (visited[ord(str[j])] == True):\n",
    "                break\n",
    "  \n",
    "            else:\n",
    "                res = max(res, j - i + 1)\n",
    "                visited[ord(str[j])] = True\n",
    "             \n",
    "        visited[ord(str[i])] = False\n",
    "     \n",
    "    return res "
   ]
  },
  {
   "cell_type": "code",
   "execution_count": 77,
   "metadata": {},
   "outputs": [
    {
     "data": {
      "text/plain": [
       "48"
      ]
     },
     "execution_count": 77,
     "metadata": {},
     "output_type": "execute_result"
    }
   ],
   "source": [
    "ord(\"0\")"
   ]
  },
  {
   "cell_type": "code",
   "execution_count": null,
   "metadata": {},
   "outputs": [],
   "source": [
    "s = \"abcdabcdapdfghabcda\"\n",
    "n = len(s)\n",
    "visited = [0] * 256\n",
    "res = 0\n",
    "for i in range(n):\n",
    "    for j in range(i,n):\n",
    "        if (visited[ord(s[j])] == True):\n",
    "            break\n",
    "  \n",
    "        else:\n",
    "            res = max(res, j - i + 1)\n",
    "            visited[ord(s[j])] = True\n",
    "        \n",
    "    visited[ord(s[i])] = False\n",
    "    print(visited[ord(s[i])])\n",
    "    print('visited i set to false', ord(s[i]))\n",
    "\n",
    "print(res)\n",
    "             \n"
   ]
  },
  {
   "cell_type": "code",
   "execution_count": 104,
   "metadata": {},
   "outputs": [
    {
     "data": {
      "text/plain": [
       "2.5"
      ]
     },
     "execution_count": 104,
     "metadata": {},
     "output_type": "execute_result"
    }
   ],
   "source": [
    "nums1 = [1,2]\n",
    "nums2 = [3,4]\n",
    "numss = nums1+nums2\n",
    "\n",
    "mid = len(numss)//2\n",
    "mediane = (numss[mid] + numss[mid-1]) /2\n",
    "mediane"
   ]
  },
  {
   "cell_type": "code",
   "execution_count": 25,
   "metadata": {},
   "outputs": [
    {
     "data": {
      "text/plain": [
       "2"
      ]
     },
     "execution_count": 25,
     "metadata": {},
     "output_type": "execute_result"
    }
   ],
   "source": [
    "nums1 = [1,3]\n",
    "nums2 = [2]\n",
    "numss = nums1+nums2\n",
    "numss.sort()\n",
    "\n",
    "\n",
    "if len(numss)%2==0:\n",
    "    mediane = (numss[len(numss)//2] + numss[(len(numss)//2)-1])/2\n",
    "\n",
    "else:\n",
    "    mediane = numss[len(numss)//2]\n",
    "\n",
    "mediane"
   ]
  },
  {
   "cell_type": "code",
   "execution_count": 12,
   "metadata": {},
   "outputs": [
    {
     "data": {
      "text/plain": [
       "0"
      ]
     },
     "execution_count": 12,
     "metadata": {},
     "output_type": "execute_result"
    }
   ],
   "source": [
    "\n",
    "  \n",
    "  "
   ]
  },
  {
   "cell_type": "code",
   "execution_count": null,
   "metadata": {},
   "outputs": [],
   "source": [
    "zZX"
   ]
  }
 ],
 "metadata": {
  "interpreter": {
   "hash": "7e80e4b0bb41dd3a607d8d785d4639bf8cd6b033bea912612b2a9de95fb4c0a3"
  },
  "kernelspec": {
   "display_name": "Python 3.8.8 64-bit ('base': conda)",
   "name": "python3"
  },
  "language_info": {
   "codemirror_mode": {
    "name": "ipython",
    "version": 3
   },
   "file_extension": ".py",
   "mimetype": "text/x-python",
   "name": "python",
   "nbconvert_exporter": "python",
   "pygments_lexer": "ipython3",
   "version": "3.8.8"
  },
  "orig_nbformat": 4
 },
 "nbformat": 4,
 "nbformat_minor": 2
}
