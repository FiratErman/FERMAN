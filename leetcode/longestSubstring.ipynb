{
 "cells": [
  {
   "cell_type": "code",
   "execution_count": 8,
   "metadata": {},
   "outputs": [
    {
     "name": "stdout",
     "output_type": "stream",
     "text": [
      "longest number:  3\n",
      "dictionnary: {'a': 3, 'b': 7, 'c': 5}\n"
     ]
    }
   ],
   "source": [
    "# c is double.\n",
    "#use a dictionnary to store letter if not seen\n",
    "# if seen then overwrite c new index position and begin from them to count\n",
    "s = \"abcabcbb\"\n",
    "#Result should be \"abc\"\n",
    "\n",
    "sub = {}\n",
    "cur_sub_start = 0 # index of current substring start . WILL move up everytime we have situation with duplicate\n",
    "cur_len = 0 # keep track of our current len of subs\n",
    "longest = 0  # keep track of longest subs\n",
    "\n",
    "\n",
    "for i,letter in enumerate(s):\n",
    "    if letter in sub and sub[letter] >= cur_sub_start:\n",
    "        cur_sub_start = sub[letter] +1\n",
    "        cur_len = i - sub[letter]\n",
    "        sub[letter] = i\n",
    "    else:\n",
    "        sub[letter] = i\n",
    "        cur_len += 1 \n",
    "        if cur_len > longest : \n",
    "            longest = cur_len\n",
    "print(\"longest number: \",longest)\n",
    "print(\"dictionnary:\", sub)"
   ]
  }
 ],
 "metadata": {
  "interpreter": {
   "hash": "7e80e4b0bb41dd3a607d8d785d4639bf8cd6b033bea912612b2a9de95fb4c0a3"
  },
  "kernelspec": {
   "display_name": "Python 3.8.8 64-bit ('base': conda)",
   "name": "python3"
  },
  "language_info": {
   "codemirror_mode": {
    "name": "ipython",
    "version": 3
   },
   "file_extension": ".py",
   "mimetype": "text/x-python",
   "name": "python",
   "nbconvert_exporter": "python",
   "pygments_lexer": "ipython3",
   "version": "3.8.8"
  },
  "orig_nbformat": 4
 },
 "nbformat": 4,
 "nbformat_minor": 2
}
