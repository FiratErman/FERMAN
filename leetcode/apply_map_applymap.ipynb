{
 "cells": [
  {
   "cell_type": "markdown",
   "metadata": {},
   "source": [
    "# Apply\n",
    "### apply() is used to apply a function along an axis of the DataFrame or on values of Series\n",
    "\n",
    "\n",
    "### First major difference: DEFINITION\n",
    "#### >map is defined on Series ONLY\n",
    "#### >applymap is defined on DataFrames ONLY\n",
    "#### >apply is defined on BOTH\n",
    "\n",
    "### Second major difference: INPUT ARGUMENT\n",
    "#### map accepts dicts, Series, or callable\n",
    "#### applymap and apply accept callables only\n",
    "\n",
    "\n",
    "\n",
    "#### DataFrame.apply operates on entire rows or columns at a time.\n",
    "#### DataFrame.applymap, Series.apply, and Series.map operate on one element at time."
   ]
  },
  {
   "cell_type": "markdown",
   "metadata": {},
   "source": [
    "### Third major difference: BEHAVIOR\n",
    "\n",
    "#### map is elementwise for Series\n",
    "#### applymap is elementwise for DataFrames\n",
    "#### apply also works elementwise but is suited to more complex operations and aggregation. The behaviour and return value depends on the function."
   ]
  },
  {
   "cell_type": "code",
   "execution_count": 183,
   "metadata": {},
   "outputs": [
    {
     "data": {
      "text/html": [
       "<div>\n",
       "<style scoped>\n",
       "    .dataframe tbody tr th:only-of-type {\n",
       "        vertical-align: middle;\n",
       "    }\n",
       "\n",
       "    .dataframe tbody tr th {\n",
       "        vertical-align: top;\n",
       "    }\n",
       "\n",
       "    .dataframe thead th {\n",
       "        text-align: right;\n",
       "    }\n",
       "</style>\n",
       "<table border=\"1\" class=\"dataframe\">\n",
       "  <thead>\n",
       "    <tr style=\"text-align: right;\">\n",
       "      <th></th>\n",
       "      <th>power_level</th>\n",
       "      <th>uniform_color</th>\n",
       "      <th>species</th>\n",
       "    </tr>\n",
       "  </thead>\n",
       "  <tbody>\n",
       "    <tr>\n",
       "      <th>Goku</th>\n",
       "      <td>12000</td>\n",
       "      <td>orange</td>\n",
       "      <td>saiyan</td>\n",
       "    </tr>\n",
       "    <tr>\n",
       "      <th>Vegeta</th>\n",
       "      <td>16000</td>\n",
       "      <td>blue</td>\n",
       "      <td>saiyan</td>\n",
       "    </tr>\n",
       "    <tr>\n",
       "      <th>Nappa</th>\n",
       "      <td>4000</td>\n",
       "      <td>black</td>\n",
       "      <td>saiyan</td>\n",
       "    </tr>\n",
       "    <tr>\n",
       "      <th>krilin</th>\n",
       "      <td>3000</td>\n",
       "      <td>orange</td>\n",
       "      <td>human</td>\n",
       "    </tr>\n",
       "  </tbody>\n",
       "</table>\n",
       "</div>"
      ],
      "text/plain": [
       "        power_level uniform_color species\n",
       "Goku          12000        orange  saiyan\n",
       "Vegeta        16000          blue  saiyan\n",
       "Nappa          4000         black  saiyan\n",
       "krilin         3000        orange   human"
      ]
     },
     "execution_count": 183,
     "metadata": {},
     "output_type": "execute_result"
    }
   ],
   "source": [
    "import pandas as pd \n",
    "\n",
    "data = pd.DataFrame({\n",
    "    'power_level':[12000,16000,4000,3000],\n",
    "    'uniform_color':['orange','blue','black','orange'],\n",
    "    'species':['saiyan','saiyan','saiyan','human']},\n",
    "    index = ['Goku','Vegeta','Nappa','krilin'])\n",
    "\n",
    "data"
   ]
  },
  {
   "cell_type": "code",
   "execution_count": 184,
   "metadata": {},
   "outputs": [
    {
     "data": {
      "text/plain": [
       "Goku       med\n",
       "Vegeta    high\n",
       "Nappa      low\n",
       "krilin     low\n",
       "Name: power_level, dtype: object"
      ]
     },
     "execution_count": 184,
     "metadata": {},
     "output_type": "execute_result"
    }
   ],
   "source": [
    "# use apply() to apply a function to a series (string column)\n",
    "\n",
    "def classify_power(x, h, l):\n",
    "    if x > h:\n",
    "        return (\"high\")\n",
    "    elif x > l:\n",
    "        return (\"med\")\n",
    "    return ('low')\n",
    "\n",
    "data['power_level'].apply(classify_power, args = [12000,6000])\n"
   ]
  },
  {
   "cell_type": "code",
   "execution_count": 185,
   "metadata": {},
   "outputs": [
    {
     "data": {
      "text/html": [
       "<div>\n",
       "<style scoped>\n",
       "    .dataframe tbody tr th:only-of-type {\n",
       "        vertical-align: middle;\n",
       "    }\n",
       "\n",
       "    .dataframe tbody tr th {\n",
       "        vertical-align: top;\n",
       "    }\n",
       "\n",
       "    .dataframe thead th {\n",
       "        text-align: right;\n",
       "    }\n",
       "</style>\n",
       "<table border=\"1\" class=\"dataframe\">\n",
       "  <thead>\n",
       "    <tr style=\"text-align: right;\">\n",
       "      <th></th>\n",
       "      <th>power_level</th>\n",
       "      <th>uniform_color</th>\n",
       "      <th>species</th>\n",
       "      <th>power-class</th>\n",
       "    </tr>\n",
       "  </thead>\n",
       "  <tbody>\n",
       "    <tr>\n",
       "      <th>Goku</th>\n",
       "      <td>12000</td>\n",
       "      <td>orange</td>\n",
       "      <td>saiyan</td>\n",
       "      <td>med</td>\n",
       "    </tr>\n",
       "    <tr>\n",
       "      <th>Vegeta</th>\n",
       "      <td>16000</td>\n",
       "      <td>blue</td>\n",
       "      <td>saiyan</td>\n",
       "      <td>high</td>\n",
       "    </tr>\n",
       "    <tr>\n",
       "      <th>Nappa</th>\n",
       "      <td>4000</td>\n",
       "      <td>black</td>\n",
       "      <td>saiyan</td>\n",
       "      <td>low</td>\n",
       "    </tr>\n",
       "    <tr>\n",
       "      <th>krilin</th>\n",
       "      <td>3000</td>\n",
       "      <td>orange</td>\n",
       "      <td>human</td>\n",
       "      <td>low</td>\n",
       "    </tr>\n",
       "  </tbody>\n",
       "</table>\n",
       "</div>"
      ],
      "text/plain": [
       "        power_level uniform_color species power-class\n",
       "Goku          12000        orange  saiyan         med\n",
       "Vegeta        16000          blue  saiyan        high\n",
       "Nappa          4000         black  saiyan         low\n",
       "krilin         3000        orange   human         low"
      ]
     },
     "execution_count": 185,
     "metadata": {},
     "output_type": "execute_result"
    }
   ],
   "source": [
    "#To create another column with that name\n",
    "data['power-class']= data['power_level'].apply(classify_power, args = [12000,6000])\n",
    "\n",
    "data"
   ]
  },
  {
   "cell_type": "code",
   "execution_count": 186,
   "metadata": {},
   "outputs": [
    {
     "data": {
      "text/html": [
       "<div>\n",
       "<style scoped>\n",
       "    .dataframe tbody tr th:only-of-type {\n",
       "        vertical-align: middle;\n",
       "    }\n",
       "\n",
       "    .dataframe tbody tr th {\n",
       "        vertical-align: top;\n",
       "    }\n",
       "\n",
       "    .dataframe thead th {\n",
       "        text-align: right;\n",
       "    }\n",
       "</style>\n",
       "<table border=\"1\" class=\"dataframe\">\n",
       "  <thead>\n",
       "    <tr style=\"text-align: right;\">\n",
       "      <th></th>\n",
       "      <th>power_level</th>\n",
       "      <th>uniform_color</th>\n",
       "      <th>species</th>\n",
       "      <th>power-class</th>\n",
       "    </tr>\n",
       "  </thead>\n",
       "  <tbody>\n",
       "    <tr>\n",
       "      <th>0</th>\n",
       "      <td>3000</td>\n",
       "      <td>orange</td>\n",
       "      <td>saiyan</td>\n",
       "      <td>low</td>\n",
       "    </tr>\n",
       "    <tr>\n",
       "      <th>1</th>\n",
       "      <td>4000</td>\n",
       "      <td>NaN</td>\n",
       "      <td>NaN</td>\n",
       "      <td>NaN</td>\n",
       "    </tr>\n",
       "    <tr>\n",
       "      <th>2</th>\n",
       "      <td>12000</td>\n",
       "      <td>NaN</td>\n",
       "      <td>NaN</td>\n",
       "      <td>NaN</td>\n",
       "    </tr>\n",
       "    <tr>\n",
       "      <th>3</th>\n",
       "      <td>16000</td>\n",
       "      <td>NaN</td>\n",
       "      <td>NaN</td>\n",
       "      <td>NaN</td>\n",
       "    </tr>\n",
       "  </tbody>\n",
       "</table>\n",
       "</div>"
      ],
      "text/plain": [
       "   power_level uniform_color species power-class\n",
       "0         3000        orange  saiyan         low\n",
       "1         4000           NaN     NaN         NaN\n",
       "2        12000           NaN     NaN         NaN\n",
       "3        16000           NaN     NaN         NaN"
      ]
     },
     "execution_count": 186,
     "metadata": {},
     "output_type": "execute_result"
    }
   ],
   "source": [
    "# Apply a function to each column with axis = 0 \n",
    "# can be used to create new rows/summary rows \n",
    "\n",
    "# >> mode return the most common value of the collon\n",
    "# test one column\n",
    "data['species'].mode()\n",
    "\n",
    "#apply it to all column (axis=0)\n",
    "def return_mode(x):\n",
    "    return x.mode()\n",
    "\n",
    "data.apply(return_mode, axis = 0)\n"
   ]
  },
  {
   "cell_type": "code",
   "execution_count": 187,
   "metadata": {},
   "outputs": [
    {
     "data": {
      "text/plain": [
       "Goku      6\n",
       "Vegeta    6\n",
       "Nappa     6\n",
       "krilin    6\n",
       "dtype: int64"
      ]
     },
     "execution_count": 187,
     "metadata": {},
     "output_type": "execute_result"
    }
   ],
   "source": [
    "# apply a function to each row with axis=#\n",
    "# can be used to create a new col/summary colymns\n",
    "\n",
    "#find the max of the length of each of the object in the row\n",
    "\n",
    "def ReturnMaxLen(x):\n",
    "    return max([len(str(v)) for v in x])\n",
    "\n",
    "data.apply(ReturnMaxLen, axis = 1)"
   ]
  },
  {
   "cell_type": "code",
   "execution_count": 188,
   "metadata": {},
   "outputs": [],
   "source": [
    "# apply a function to each row referencing column names\n",
    "\n",
    "def MakeCharString (x):\n",
    "    return (\"{} with power level:{}\".format(x.species,x.power_level))\n",
    "\n",
    "data['sentence']=data.apply(MakeCharString, axis = 1)"
   ]
  },
  {
   "cell_type": "code",
   "execution_count": 189,
   "metadata": {},
   "outputs": [
    {
     "data": {
      "text/html": [
       "<div>\n",
       "<style scoped>\n",
       "    .dataframe tbody tr th:only-of-type {\n",
       "        vertical-align: middle;\n",
       "    }\n",
       "\n",
       "    .dataframe tbody tr th {\n",
       "        vertical-align: top;\n",
       "    }\n",
       "\n",
       "    .dataframe thead th {\n",
       "        text-align: right;\n",
       "    }\n",
       "</style>\n",
       "<table border=\"1\" class=\"dataframe\">\n",
       "  <thead>\n",
       "    <tr style=\"text-align: right;\">\n",
       "      <th></th>\n",
       "      <th>power_level</th>\n",
       "      <th>uniform_color</th>\n",
       "      <th>species</th>\n",
       "      <th>power-class</th>\n",
       "      <th>sentence</th>\n",
       "    </tr>\n",
       "  </thead>\n",
       "  <tbody>\n",
       "    <tr>\n",
       "      <th>Goku</th>\n",
       "      <td>12000</td>\n",
       "      <td>orange</td>\n",
       "      <td>saiyan</td>\n",
       "      <td>med</td>\n",
       "      <td>saiyan with power level:12000</td>\n",
       "    </tr>\n",
       "    <tr>\n",
       "      <th>Vegeta</th>\n",
       "      <td>16000</td>\n",
       "      <td>blue</td>\n",
       "      <td>saiyan</td>\n",
       "      <td>high</td>\n",
       "      <td>saiyan with power level:16000</td>\n",
       "    </tr>\n",
       "    <tr>\n",
       "      <th>Nappa</th>\n",
       "      <td>4000</td>\n",
       "      <td>black</td>\n",
       "      <td>saiyan</td>\n",
       "      <td>low</td>\n",
       "      <td>saiyan with power level:4000</td>\n",
       "    </tr>\n",
       "    <tr>\n",
       "      <th>krilin</th>\n",
       "      <td>3000</td>\n",
       "      <td>orange</td>\n",
       "      <td>human</td>\n",
       "      <td>low</td>\n",
       "      <td>human with power level:3000</td>\n",
       "    </tr>\n",
       "  </tbody>\n",
       "</table>\n",
       "</div>"
      ],
      "text/plain": [
       "        power_level uniform_color species power-class  \\\n",
       "Goku          12000        orange  saiyan         med   \n",
       "Vegeta        16000          blue  saiyan        high   \n",
       "Nappa          4000         black  saiyan         low   \n",
       "krilin         3000        orange   human         low   \n",
       "\n",
       "                             sentence  \n",
       "Goku    saiyan with power level:12000  \n",
       "Vegeta  saiyan with power level:16000  \n",
       "Nappa    saiyan with power level:4000  \n",
       "krilin    human with power level:3000  "
      ]
     },
     "execution_count": 189,
     "metadata": {},
     "output_type": "execute_result"
    }
   ],
   "source": [
    "data"
   ]
  },
  {
   "cell_type": "markdown",
   "metadata": {},
   "source": [
    "# MAP "
   ]
  },
  {
   "cell_type": "code",
   "execution_count": 7,
   "metadata": {},
   "outputs": [
    {
     "name": "stdout",
     "output_type": "stream",
     "text": [
      "<map object at 0x7fe9b979da00>\n"
     ]
    }
   ],
   "source": [
    "power_level_list = [1000,200,3000,4000,300]\n",
    "\n",
    "def greater_than_900(x):\n",
    "    if x > 900 :\n",
    "        return True \n",
    "    return False \n",
    "\n",
    "mapped = map(greater_than_900, power_level_list)\n",
    "\n",
    "print(mapped)"
   ]
  },
  {
   "cell_type": "code",
   "execution_count": 8,
   "metadata": {},
   "outputs": [
    {
     "name": "stdout",
     "output_type": "stream",
     "text": [
      "True\n",
      "False\n",
      "True\n",
      "True\n",
      "False\n"
     ]
    }
   ],
   "source": [
    "for m in mapped:\n",
    "    print(m)"
   ]
  },
  {
   "cell_type": "code",
   "execution_count": 15,
   "metadata": {},
   "outputs": [
    {
     "data": {
      "text/plain": [
       "[True, False, True, True, False]"
      ]
     },
     "execution_count": 15,
     "metadata": {},
     "output_type": "execute_result"
    }
   ],
   "source": [
    "# extract mapping into new list\n",
    "# dont forget the * \n",
    "\n",
    "mapped_list= [*map(greater_than_900, power_level_list)]\n",
    "mapped_list"
   ]
  },
  {
   "cell_type": "code",
   "execution_count": 13,
   "metadata": {},
   "outputs": [
    {
     "data": {
      "text/plain": [
       "[True, False, True, True, False]"
      ]
     },
     "execution_count": 13,
     "metadata": {},
     "output_type": "execute_result"
    }
   ],
   "source": [
    "mapped_list"
   ]
  },
  {
   "cell_type": "code",
   "execution_count": null,
   "metadata": {},
   "outputs": [],
   "source": []
  }
 ],
 "metadata": {
  "interpreter": {
   "hash": "7e80e4b0bb41dd3a607d8d785d4639bf8cd6b033bea912612b2a9de95fb4c0a3"
  },
  "kernelspec": {
   "display_name": "Python 3.8.8 64-bit ('base': conda)",
   "name": "python3"
  },
  "language_info": {
   "codemirror_mode": {
    "name": "ipython",
    "version": 3
   },
   "file_extension": ".py",
   "mimetype": "text/x-python",
   "name": "python",
   "nbconvert_exporter": "python",
   "pygments_lexer": "ipython3",
   "version": "3.8.8"
  },
  "orig_nbformat": 4
 },
 "nbformat": 4,
 "nbformat_minor": 2
}
