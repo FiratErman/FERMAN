{
 "cells": [
  {
   "cell_type": "code",
   "execution_count": 3,
   "metadata": {},
   "outputs": [
    {
     "name": "stdout",
     "output_type": "stream",
     "text": [
      "0 1\n"
     ]
    },
    {
     "data": {
      "text/plain": [
       "{2: 0, 11: 2, 15: 3}"
      ]
     },
     "execution_count": 3,
     "metadata": {},
     "output_type": "execute_result"
    }
   ],
   "source": [
    "\n",
    "nums=[2,7,11,15]\n",
    "target=9\n",
    "seen={}\n",
    "\n",
    "for i,v in enumerate(nums):\n",
    "    remaining=target-v\n",
    "    if remaining in seen:\n",
    "        print(seen[remaining],i)   \n",
    "    else:\n",
    "        seen[v]=i\n",
    "\n",
    "seen"
   ]
  },
  {
   "cell_type": "code",
   "execution_count": 17,
   "metadata": {},
   "outputs": [
    {
     "name": "stdout",
     "output_type": "stream",
     "text": [
      "[0, 1]\n"
     ]
    }
   ],
   "source": [
    "nums=[2,7,11,15]\n",
    "target=9\n",
    "seen={}\n",
    "\n",
    "for index, number in enumerate(nums):\n",
    "    diff = target - number\n",
    "    if diff in seen:\n",
    "        print([seen[diff],index])\n",
    "    else:\n",
    "        seen[number] =  index\n",
    "    \n"
   ]
  },
  {
   "cell_type": "code",
   "execution_count": 10,
   "metadata": {},
   "outputs": [],
   "source": [
    "def twoSum(nums, target):\n",
    "    # create an empty hash table\n",
    "    hash_table = {}\n",
    "    # iterate through the array\n",
    "    for i, num in enumerate(nums):\n",
    "        # calculate the difference\n",
    "        diff = target - num\n",
    "        # check if the difference exists in the hash table\n",
    "        if diff in hash_table:\n",
    "            # if it does, return the indices\n",
    "            return [hash_table[diff], i]\n",
    "        # if not, add the current integer and its index to the hash table\n",
    "        hash_table[num] = i\n",
    "    # if no solution is found\n",
    "    return None"
   ]
  },
  {
   "cell_type": "code",
   "execution_count": 13,
   "metadata": {},
   "outputs": [
    {
     "data": {
      "text/plain": [
       "[0, 1]"
      ]
     },
     "execution_count": 13,
     "metadata": {},
     "output_type": "execute_result"
    }
   ],
   "source": [
    "nums\n",
    "target = 9\n",
    "twoSum(nums, target)"
   ]
  },
  {
   "cell_type": "code",
   "execution_count": 33,
   "metadata": {},
   "outputs": [
    {
     "ename": "SyntaxError",
     "evalue": "invalid syntax (<ipython-input-33-ce43a61561d7>, line 10)",
     "output_type": "error",
     "traceback": [
      "\u001b[0;36m  File \u001b[0;32m\"<ipython-input-33-ce43a61561d7>\"\u001b[0;36m, line \u001b[0;32m10\u001b[0m\n\u001b[0;31m    if nums\u001b[0m\n\u001b[0m           ^\u001b[0m\n\u001b[0;31mSyntaxError\u001b[0m\u001b[0;31m:\u001b[0m invalid syntax\n"
     ]
    }
   ],
   "source": [
    "nums = [-1,0,1,2,-1,-4]\n",
    "nums.sort()\n",
    "triplets = []\n",
    "for i in range(len(nums)-2):\n",
    "    if i > 0 and nums[i] == nums[i-1]:\n",
    "        continue\n",
    "    left = i + 1\n",
    "    right = len(nums) - 1 \n",
    "    while left < right:\n",
    "        if nums\n"
   ]
  },
  {
   "cell_type": "code",
   "execution_count": 27,
   "metadata": {},
   "outputs": [
    {
     "data": {
      "text/plain": [
       "-4"
      ]
     },
     "execution_count": 27,
     "metadata": {},
     "output_type": "execute_result"
    }
   ],
   "source": [
    "nums = [-1,0,1,2,-1,-4]\n",
    "nums[5]"
   ]
  },
  {
   "cell_type": "code",
   "execution_count": 53,
   "metadata": {},
   "outputs": [],
   "source": [
    "def threeSum(nums):\n",
    "        # Sort the array in ascending order\n",
    "    nums.sort()\n",
    "    # Initialize an empty list to store the triplets\n",
    "    triplets = []\n",
    "    # Iterate through the array\n",
    "    for i in range(len(nums)-2):\n",
    "        print(len(nums))\n",
    "        print('step1', i)\n",
    "        # Skip duplicate values\n",
    "        if i > 0 and nums[i] == nums[i-1]:\n",
    "            continue\n",
    "        # Initialize left and right pointers\n",
    "        left = i + 1\n",
    "        right = len(nums) - 1\n",
    "        print(\"init\", left, right)\n",
    "        while left < right:\n",
    "            print(\"step2\", i, left, right)\n",
    "            print(\"step2bis\", nums[i]+nums[left]+nums[right])\n",
    "            # If the sum of the current triplet is 0, add it to the list\n",
    "            if nums[i] + nums[left] + nums[right] == 0:\n",
    "                print(\"step3\", nums[i], nums[left], nums[right])\n",
    "                triplets.append([nums[i], nums[left], nums[right]])\n",
    "                # Skip duplicate values\n",
    "                while left < right and nums[left] == nums[left+1]:\n",
    "                    left += 1\n",
    "                    print(\"A\",left)\n",
    "                while left < right and nums[right] == nums[right-1]:\n",
    "                    right -= 1\n",
    "                    print(\"B\", right)\n",
    "                left += 1\n",
    "                right -= 1\n",
    "                print(\"C\",left, right)\n",
    "            # If the sum is less than 0, move the left pointer\n",
    "            elif nums[i] + nums[left] + nums[right] < 0:\n",
    "                left += 1\n",
    "                print(\"D\", left)\n",
    "            # If the sum is greater than 0, move the right pointer\n",
    "            else:\n",
    "                right -= 1\n",
    "                print(\"E\", right)\n",
    "    # Return the list of triplets\n",
    "    return triplets"
   ]
  },
  {
   "cell_type": "code",
   "execution_count": 54,
   "metadata": {},
   "outputs": [
    {
     "name": "stdout",
     "output_type": "stream",
     "text": [
      "6\n",
      "step1 0\n",
      "init 1 5\n",
      "step2 0 1 5\n",
      "step2bis -3\n",
      "D 2\n",
      "step2 0 2 5\n",
      "step2bis -3\n",
      "D 3\n",
      "step2 0 3 5\n",
      "step2bis -2\n",
      "D 4\n",
      "step2 0 4 5\n",
      "step2bis -1\n",
      "D 5\n",
      "6\n",
      "step1 1\n",
      "init 2 5\n",
      "step2 1 2 5\n",
      "step2bis 0\n",
      "step3 -1 -1 2\n",
      "C 3 4\n",
      "step2 1 3 4\n",
      "step2bis 0\n",
      "step3 -1 0 1\n",
      "C 4 3\n",
      "6\n",
      "step1 2\n",
      "6\n",
      "step1 3\n",
      "init 4 5\n",
      "step2 3 4 5\n",
      "step2bis 3\n",
      "E 4\n"
     ]
    },
    {
     "data": {
      "text/plain": [
       "[[-1, -1, 2], [-1, 0, 1]]"
      ]
     },
     "execution_count": 54,
     "metadata": {},
     "output_type": "execute_result"
    }
   ],
   "source": [
    "nums = [-1,0,1,2,-1,-4]\n",
    "threeSum(nums)"
   ]
  },
  {
   "cell_type": "code",
   "execution_count": null,
   "metadata": {},
   "outputs": [],
   "source": []
  }
 ],
 "metadata": {
  "interpreter": {
   "hash": "7e80e4b0bb41dd3a607d8d785d4639bf8cd6b033bea912612b2a9de95fb4c0a3"
  },
  "kernelspec": {
   "display_name": "Python 3.8.8 64-bit ('base': conda)",
   "name": "python3"
  },
  "language_info": {
   "codemirror_mode": {
    "name": "ipython",
    "version": 3
   },
   "file_extension": ".py",
   "mimetype": "text/x-python",
   "name": "python",
   "nbconvert_exporter": "python",
   "pygments_lexer": "ipython3",
   "version": "3.8.8"
  },
  "orig_nbformat": 4
 },
 "nbformat": 4,
 "nbformat_minor": 2
}
