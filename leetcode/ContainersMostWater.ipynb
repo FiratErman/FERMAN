{
 "cells": [
  {
   "cell_type": "code",
   "execution_count": 7,
   "metadata": {},
   "outputs": [
    {
     "name": "stdout",
     "output_type": "stream",
     "text": [
      "21\n"
     ]
    }
   ],
   "source": [
    "\n",
    "height = [1,8,6,8,7]\n",
    "\n",
    "start = 0 \n",
    "end = len(height) - 1 \n",
    "largest = 0 \n",
    "\n",
    "while start != end :\n",
    "    next_area = min(height[start],height[end]) * (end - start)\n",
    "\n",
    "    if next_area > largest:\n",
    "        largest = next_area\n",
    "\n",
    "    if height[start] < height[end]:\n",
    "        start += 1\n",
    "    else:\n",
    "        end -= 1\n",
    "print(largest)\n",
    "            \n",
    "        \n"
   ]
  },
  {
   "cell_type": "code",
   "execution_count": null,
   "metadata": {},
   "outputs": [],
   "source": []
  }
 ],
 "metadata": {
  "interpreter": {
   "hash": "7e80e4b0bb41dd3a607d8d785d4639bf8cd6b033bea912612b2a9de95fb4c0a3"
  },
  "kernelspec": {
   "display_name": "Python 3.8.8 64-bit ('base': conda)",
   "name": "python3"
  },
  "language_info": {
   "codemirror_mode": {
    "name": "ipython",
    "version": 3
   },
   "file_extension": ".py",
   "mimetype": "text/x-python",
   "name": "python",
   "nbconvert_exporter": "python",
   "pygments_lexer": "ipython3",
   "version": "3.8.8"
  },
  "orig_nbformat": 4
 },
 "nbformat": 4,
 "nbformat_minor": 2
}
