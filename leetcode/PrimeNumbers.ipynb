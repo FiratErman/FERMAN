{
 "cells": [
  {
   "cell_type": "markdown",
   "metadata": {},
   "source": []
  },
  {
   "cell_type": "code",
   "execution_count": 1,
   "metadata": {},
   "outputs": [
    {
     "data": {
      "text/plain": [
       "[2, 3, 5, 7, 11, 13, 17, 19]"
      ]
     },
     "execution_count": 1,
     "metadata": {},
     "output_type": "execute_result"
    }
   ],
   "source": [
    "#Prime numbers are only divisible by itself or 1.\n",
    "\n",
    "\n",
    "primeNumbers=[]\n",
    "\n",
    "for numbers in range (2,20):\n",
    "    for secondNumbers in range(2,numbers):# This 2 is the most important because we take integer of 2 \n",
    "        if numbers%secondNumbers == 0 :\n",
    "            break\n",
    "    else:\n",
    "        primeNumbers.append(numbers)\n",
    "\n",
    "primeNumbers"
   ]
  },
  {
   "cell_type": "code",
   "execution_count": 12,
   "metadata": {},
   "outputs": [
    {
     "name": "stdout",
     "output_type": "stream",
     "text": [
      "ok\n",
      "no\n",
      "3\n",
      "ok\n",
      "no\n",
      "5\n",
      "ok\n",
      "no\n",
      "7\n",
      "ok\n",
      "no\n",
      "9\n",
      "ok\n",
      "no\n",
      "11\n",
      "ok\n",
      "no\n",
      "13\n",
      "ok\n",
      "no\n",
      "15\n",
      "ok\n",
      "no\n",
      "17\n",
      "ok\n",
      "no\n",
      "19\n"
     ]
    }
   ],
   "source": []
  },
  {
   "cell_type": "code",
   "execution_count": null,
   "metadata": {},
   "outputs": [],
   "source": []
  }
 ],
 "metadata": {
  "interpreter": {
   "hash": "7e80e4b0bb41dd3a607d8d785d4639bf8cd6b033bea912612b2a9de95fb4c0a3"
  },
  "kernelspec": {
   "display_name": "Python 3.8.8 64-bit ('base': conda)",
   "name": "python3"
  },
  "language_info": {
   "codemirror_mode": {
    "name": "ipython",
    "version": 3
   },
   "file_extension": ".py",
   "mimetype": "text/x-python",
   "name": "python",
   "nbconvert_exporter": "python",
   "pygments_lexer": "ipython3",
   "version": "3.8.8"
  },
  "orig_nbformat": 4
 },
 "nbformat": 4,
 "nbformat_minor": 2
}
