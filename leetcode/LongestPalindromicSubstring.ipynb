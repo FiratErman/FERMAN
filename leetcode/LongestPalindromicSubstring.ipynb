{
 "cells": [
  {
   "cell_type": "code",
   "execution_count": 26,
   "metadata": {},
   "outputs": [],
   "source": [
    "def checkPalin(s):\n",
    "    return (s == s[::-1])\n",
    "    "
   ]
  },
  {
   "cell_type": "code",
   "execution_count": 40,
   "metadata": {},
   "outputs": [],
   "source": [
    "s=\"bababababa\"\n",
    "\n",
    "biggest = s[0]\n",
    "step = len(biggest)//2\n",
    "\n",
    "# Handle single letter center \n",
    "\n",
    "for center in range (1,len(s)-1): # avoid first and last index because useless\n",
    "    bounds=[center-(step+1),center+(step+1)]\n",
    "    while (bounds[0]>-1) and (bounds[1]<len(s)):\n",
    "        if checkPalin(s[bounds[0]:bounds[1]+1]):\n",
    "            biggest = s[bounds[0]:bounds[1]+1]\n",
    "            step = len(biggest)//2\n",
    "            bounds[0] -= 1\n",
    "            bounds[1] += 1\n",
    "        else:\n",
    "            break "
   ]
  },
  {
   "cell_type": "code",
   "execution_count": 41,
   "metadata": {},
   "outputs": [
    {
     "data": {
      "text/plain": [
       "'bab'"
      ]
     },
     "execution_count": 41,
     "metadata": {},
     "output_type": "execute_result"
    }
   ],
   "source": [
    "# Handle double letter center \n",
    "\n",
    "for center in range (step,len(s)-step-1): # avoid first and last index because useless\n",
    "    bounds=[center-(step),center+(step+1)]\n",
    "    while (bounds[0]>-1) and (bounds[1]<len(s)):\n",
    "        if checkPalin(s[bounds[0]:bounds[1]+1]):\n",
    "            biggest = s[bounds[0]:bounds[1]+1]\n",
    "            step = len(biggest)//2\n",
    "            bounds[0] -= 1\n",
    "            bounds[1] += 1\n",
    "        else:\n",
    "            break "
   ]
  },
  {
   "cell_type": "code",
   "execution_count": null,
   "metadata": {},
   "outputs": [],
   "source": [
    "ok"
   ]
  },
  {
   "cell_type": "code",
   "execution_count": null,
   "metadata": {},
   "outputs": [],
   "source": []
  }
 ],
 "metadata": {
  "interpreter": {
   "hash": "7e80e4b0bb41dd3a607d8d785d4639bf8cd6b033bea912612b2a9de95fb4c0a3"
  },
  "kernelspec": {
   "display_name": "Python 3.8.8 64-bit ('base': conda)",
   "name": "python3"
  },
  "language_info": {
   "codemirror_mode": {
    "name": "ipython",
    "version": 3
   },
   "file_extension": ".py",
   "mimetype": "text/x-python",
   "name": "python",
   "nbconvert_exporter": "python",
   "pygments_lexer": "ipython3",
   "version": "3.8.8"
  },
  "orig_nbformat": 4
 },
 "nbformat": 4,
 "nbformat_minor": 2
}
